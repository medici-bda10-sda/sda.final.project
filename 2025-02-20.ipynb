{
 "cells": [
  {
   "cell_type": "markdown",
   "metadata": {},
   "source": [
    "신규 데이터 전처리 : 연분기-상권 기준 데이터"
   ]
  },
  {
   "cell_type": "code",
   "execution_count": 2,
   "metadata": {},
   "outputs": [
    {
     "name": "stdout",
     "output_type": "stream",
     "text": [
      "데이터 처리 완료 및 저장됨.\n"
     ]
    }
   ],
   "source": [
    "import pandas as pd\n",
    "import numpy as np\n",
    "\n",
    "# 파일 경로 설정\n",
    "file_sales = r\"C:\\Users\\m\\Desktop\\변수 생성용 데이터\\서울시_상권분석_서비스_매출변수.csv\"\n",
    "file_general = r\"C:\\Users\\m\\Desktop\\변수 생성용 데이터\\서울시_상권분석_서비스_일반변수.csv\"\n",
    "output_file_sales = r\"C:\\Users\\m\\Desktop\\변수 생성용 데이터\\서울시_상권분석_서비스_매출변수_그룹화.csv\"\n",
    "output_file_general = r\"C:\\Users\\m\\Desktop\\변수 생성용 데이터\\서울시_상권분석_서비스_일반변수_그룹화.csv\"\n",
    "\n",
    "# 데이터 불러오기\n",
    "df_sales = pd.read_csv(file_sales)\n",
    "df_general = pd.read_csv(file_general)\n",
    "\n",
    "# 결측치 및 inf 처리\n",
    "df_sales.replace([np.inf, -np.inf], 0, inplace=True)\n",
    "df_sales.fillna(0, inplace=True)\n",
    "df_general.replace([np.inf, -np.inf], 0, inplace=True)\n",
    "df_general.fillna(0, inplace=True)\n",
    "\n",
    "# 삭제할 컬럼 정의\n",
    "drop_columns = [\"업종명\", \"유사_업종_점포_수\", \"개업율\", \"폐업률\"]\n",
    "meta_columns_sales = [\"자치구명\", \"서울_운영_영업_개월_평균\", \"서울_폐업_영업_개월_평균\", \"유동인구수\"]\n",
    "meta_columns_general = [\"자치구명\", \"서울_운영_영업_개월_평균\", \"서울_폐업_영업_개월_평균\"]\n",
    "\n",
    "# 매출 변수 데이터 처리\n",
    "df_sales_meta = df_sales.groupby([\"연분기\", \"상권명\"])[meta_columns_sales].first().reset_index()\n",
    "df_sales.drop(columns=drop_columns + meta_columns_sales, inplace=True)\n",
    "df_sales_grouped = df_sales.groupby([\"연분기\", \"상권명\"], as_index=False).sum()\n",
    "df_sales_final = df_sales_grouped.merge(df_sales_meta, on=[\"연분기\", \"상권명\"], how=\"left\")\n",
    "df_sales_final.to_csv(output_file_sales, index=False, encoding='utf-8-sig')\n",
    "\n",
    "# 일반 변수 데이터 처리 (점포_수_변동성 열부터 뒤의 모든 열 삭제)\n",
    "N = df_general.columns.get_loc(\"점포_수_변동성\")  # 점포_수_변동성 위치 찾기\n",
    "df_general = df_general.iloc[:, :N]  # 점포_수_변동성 이전의 컬럼만 남김\n",
    "\n",
    "df_general_meta = df_general.groupby([\"연분기\", \"상권명\"])[meta_columns_general].first().reset_index()\n",
    "df_general.drop(columns=drop_columns + meta_columns_general, inplace=True)\n",
    "df_general_grouped = df_general.groupby([\"연분기\", \"상권명\"], as_index=False).sum()\n",
    "df_general_final = df_general_grouped.merge(df_general_meta, on=[\"연분기\", \"상권명\"], how=\"left\")\n",
    "df_general_final.to_csv(output_file_general, index=False, encoding='utf-8-sig')\n",
    "\n",
    "print(\"데이터 처리 완료 및 저장됨.\")"
   ]
  },
  {
   "cell_type": "code",
   "execution_count": null,
   "metadata": {},
   "outputs": [],
   "source": []
  }
 ],
 "metadata": {
  "kernelspec": {
   "display_name": "base",
   "language": "python",
   "name": "python3"
  },
  "language_info": {
   "codemirror_mode": {
    "name": "ipython",
    "version": 3
   },
   "file_extension": ".py",
   "mimetype": "text/x-python",
   "name": "python",
   "nbconvert_exporter": "python",
   "pygments_lexer": "ipython3",
   "version": "3.12.7"
  }
 },
 "nbformat": 4,
 "nbformat_minor": 2
}
