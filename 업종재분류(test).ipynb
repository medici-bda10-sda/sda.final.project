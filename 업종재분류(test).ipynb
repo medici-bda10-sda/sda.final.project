{
 "cells": [
  {
   "cell_type": "markdown",
   "metadata": {},
   "source": [
    "# 업종 재분류"
   ]
  },
  {
   "cell_type": "code",
   "execution_count": 1,
   "metadata": {},
   "outputs": [
    {
     "name": "stdout",
     "output_type": "stream",
     "text": [
      "   기준_년분기_코드 상권_구분_코드 상권_구분_코드_명    상권_코드    상권_코드_명 서비스_업종_코드 서비스_업종_코드_명  \\\n",
      "0      20222        A       골목상권  3110803  신길2동우편취급국  CS300019        의료기기   \n",
      "1      20222        A       골목상권  3110376     수송초등학교  CS300031          가구   \n",
      "2      20222        R       전통시장  3130149     창동신창시장  CS300019        의료기기   \n",
      "3      20222        R       전통시장  3130056     용산용문시장  CS300031          가구   \n",
      "4      20222        D       발달상권  3120122       강서구청  CS300036        조명용품   \n",
      "\n",
      "   유사_업종_점포_수   평균_당월_매출_금액  평균_당월_매출_건수  ...  평균_시간대_건수~21_매출_건수  \\\n",
      "0           8  2.740000e+08    35.500000  ...            0.000000   \n",
      "1           3  1.362658e+07     7.000000  ...            0.000000   \n",
      "2           3  1.631081e+07    32.666667  ...            0.000000   \n",
      "3           3  2.233333e+07     4.000000  ...            0.000000   \n",
      "4           6  1.032426e+07    87.166667  ...           58.166667   \n",
      "\n",
      "   평균_시간대_건수~24_매출_건수  평균_남성_매출_건수  평균_여성_매출_건수  평균_연령대_10_매출_건수  \\\n",
      "0                 0.0         35.5     0.000000              0.0   \n",
      "1                 0.0          7.0     0.000000              0.0   \n",
      "2                 0.0          0.0    32.666667              0.0   \n",
      "3                 4.0          4.0     0.000000              0.0   \n",
      "4                 0.0         29.0    58.166667              0.0   \n",
      "\n",
      "   평균_연령대_20_매출_건수  평균_연령대_30_매출_건수  평균_연령대_40_매출_건수  평균_연령대_50_매출_건수  \\\n",
      "0              0.0             35.5              0.0         0.000000   \n",
      "1              0.0              0.0              0.0         7.000000   \n",
      "2              0.0              0.0              0.0         0.000000   \n",
      "3              0.0              4.0              0.0         0.000000   \n",
      "4              0.0              0.0              0.0        87.166667   \n",
      "\n",
      "   평균_연령대_60_이상_매출_건수  \n",
      "0            0.000000  \n",
      "1            0.000000  \n",
      "2           32.666667  \n",
      "3            0.000000  \n",
      "4            0.000000  \n",
      "\n",
      "[5 rows x 56 columns]\n"
     ]
    }
   ],
   "source": [
    "import pandas as pd\n",
    "\n",
    "# CSV 파일 경로 설정\n",
    "file_path = 'C:/Users/m/OneDrive/Desktop/최종 프로젝트/서울시 상권데이터/대시보드용 데이터/데이터/평균매출.csv'\n",
    "\n",
    "# CSV 파일 읽기\n",
    "data = pd.read_csv(file_path)\n",
    "\n",
    "# 데이터 확인\n",
    "print(data.head())\n"
   ]
  },
  {
   "cell_type": "code",
   "execution_count": 2,
   "metadata": {},
   "outputs": [
    {
     "name": "stdout",
     "output_type": "stream",
     "text": [
      "  서비스_업종_코드 서비스_업종_코드_명\n",
      "0  CS300019        의료기기\n",
      "1  CS300031          가구\n",
      "2  CS300019        의료기기\n",
      "3  CS300031          가구\n",
      "4  CS300036        조명용품\n"
     ]
    }
   ],
   "source": [
    "# 필요한 열만 선택\n",
    "filtered_data = data[['서비스_업종_코드', '서비스_업종_코드_명']]\n",
    "\n",
    "# 결과 확인\n",
    "print(filtered_data.head())\n"
   ]
  },
  {
   "cell_type": "code",
   "execution_count": 8,
   "metadata": {},
   "outputs": [
    {
     "name": "stdout",
     "output_type": "stream",
     "text": [
      "  서비스_업종_코드 서비스_업종_코드_명 서비스_업종_중분류\n",
      "0  CS300019        의료기기         소매\n",
      "1  CS300031          가구         소매\n",
      "2  CS300019        의료기기         소매\n",
      "3  CS300031          가구         소매\n",
      "4  CS300036        조명용품         소매\n"
     ]
    },
    {
     "name": "stderr",
     "output_type": "stream",
     "text": [
      "C:\\Users\\m\\AppData\\Local\\Temp\\ipykernel_7864\\2231954755.py:30: SettingWithCopyWarning: \n",
      "A value is trying to be set on a copy of a slice from a DataFrame.\n",
      "Try using .loc[row_indexer,col_indexer] = value instead\n",
      "\n",
      "See the caveats in the documentation: https://pandas.pydata.org/pandas-docs/stable/user_guide/indexing.html#returning-a-view-versus-a-copy\n",
      "  filtered_data['서비스_업종_중분류'] = filtered_data['서비스_업종_코드_명'].apply(classify_service)\n"
     ]
    },
    {
     "ename": "AttributeError",
     "evalue": "'DataFrame' object has no attribute 'unique'",
     "output_type": "error",
     "traceback": [
      "\u001b[1;31m---------------------------------------------------------------------------\u001b[0m",
      "\u001b[1;31mAttributeError\u001b[0m                            Traceback (most recent call last)",
      "\u001b[1;32m~\\AppData\\Local\\Temp\\ipykernel_7864\\2231954755.py\u001b[0m in \u001b[0;36m?\u001b[1;34m()\u001b[0m\n\u001b[0;32m     31\u001b[0m \u001b[1;33m\u001b[0m\u001b[0m\n\u001b[0;32m     32\u001b[0m \u001b[1;31m# 결과 확인\u001b[0m\u001b[1;33m\u001b[0m\u001b[1;33m\u001b[0m\u001b[0m\n\u001b[0;32m     33\u001b[0m \u001b[0mprint\u001b[0m\u001b[1;33m(\u001b[0m\u001b[0mfiltered_data\u001b[0m\u001b[1;33m.\u001b[0m\u001b[0mhead\u001b[0m\u001b[1;33m(\u001b[0m\u001b[1;33m)\u001b[0m\u001b[1;33m)\u001b[0m\u001b[1;33m\u001b[0m\u001b[1;33m\u001b[0m\u001b[0m\n\u001b[0;32m     34\u001b[0m \u001b[1;33m\u001b[0m\u001b[0m\n\u001b[1;32m---> 35\u001b[1;33m \u001b[0mfiltered_data\u001b[0m\u001b[1;33m.\u001b[0m\u001b[0munique\u001b[0m\u001b[1;33m(\u001b[0m\u001b[1;33m)\u001b[0m\u001b[1;33m\u001b[0m\u001b[1;33m\u001b[0m\u001b[0m\n\u001b[0m",
      "\u001b[1;32mc:\\Users\\m\\anaconda3\\Lib\\site-packages\\pandas\\core\\generic.py\u001b[0m in \u001b[0;36m?\u001b[1;34m(self, name)\u001b[0m\n\u001b[0;32m   6295\u001b[0m             \u001b[1;32mand\u001b[0m \u001b[0mname\u001b[0m \u001b[1;32mnot\u001b[0m \u001b[1;32min\u001b[0m \u001b[0mself\u001b[0m\u001b[1;33m.\u001b[0m\u001b[0m_accessors\u001b[0m\u001b[1;33m\u001b[0m\u001b[1;33m\u001b[0m\u001b[0m\n\u001b[0;32m   6296\u001b[0m             \u001b[1;32mand\u001b[0m \u001b[0mself\u001b[0m\u001b[1;33m.\u001b[0m\u001b[0m_info_axis\u001b[0m\u001b[1;33m.\u001b[0m\u001b[0m_can_hold_identifiers_and_holds_name\u001b[0m\u001b[1;33m(\u001b[0m\u001b[0mname\u001b[0m\u001b[1;33m)\u001b[0m\u001b[1;33m\u001b[0m\u001b[1;33m\u001b[0m\u001b[0m\n\u001b[0;32m   6297\u001b[0m         \u001b[1;33m)\u001b[0m\u001b[1;33m:\u001b[0m\u001b[1;33m\u001b[0m\u001b[1;33m\u001b[0m\u001b[0m\n\u001b[0;32m   6298\u001b[0m             \u001b[1;32mreturn\u001b[0m \u001b[0mself\u001b[0m\u001b[1;33m[\u001b[0m\u001b[0mname\u001b[0m\u001b[1;33m]\u001b[0m\u001b[1;33m\u001b[0m\u001b[1;33m\u001b[0m\u001b[0m\n\u001b[1;32m-> 6299\u001b[1;33m         \u001b[1;32mreturn\u001b[0m \u001b[0mobject\u001b[0m\u001b[1;33m.\u001b[0m\u001b[0m__getattribute__\u001b[0m\u001b[1;33m(\u001b[0m\u001b[0mself\u001b[0m\u001b[1;33m,\u001b[0m \u001b[0mname\u001b[0m\u001b[1;33m)\u001b[0m\u001b[1;33m\u001b[0m\u001b[1;33m\u001b[0m\u001b[0m\n\u001b[0m",
      "\u001b[1;31mAttributeError\u001b[0m: 'DataFrame' object has no attribute 'unique'"
     ]
    }
   ],
   "source": [
    "import pandas as pd\n",
    "\n",
    "# 재분류 기준 딕셔너리\n",
    "classification = {\n",
    "    '소매': ['슈퍼마켓', '육류판매', '편의점', '가방', '컴퓨터및주변장치판매', '핸드폰', '미곡판매', \n",
    "            '수산물판매', '화초', '청과상', '반찬가게', '시계및귀금속', '일반의류', '신발', \n",
    "            '안경', '의약품', '의료기기', '서적', '문구', '화장품', '운동/경기용품', \n",
    "            '자전기 및 기타운송장비', '섬유제품', '완구', '애완동물', '가구', '가전제품', \n",
    "            '철물점', '조명용품', '전자상거래업'],\n",
    "    '음식': ['중식음식점', '분식전문점', '커피-음료', '제과점', '치킨전문점', '한식음식점', \n",
    "            '일식음식점', '양식음식점', '패스트푸드점', '호프-간이주점'],\n",
    "    '수리/개인': ['미용실', '네일숍', '피부관리실', '세탁소', '가전제품수리'],\n",
    "    '예체능': ['스포츠 강습', '당구장', '골프연습장', 'PC방', '스포츠클럽', '노래방'],\n",
    "    '교육': ['예술학원', '일반교습학원', '외국어학원'],\n",
    "    '부동산': ['부동산중개업업'],\n",
    "    '숙박': ['여관', '고시원'],\n",
    "    '과학/기술': ['자동차수리', '자동차미용', '인테리어'],\n",
    "    '보건의료': ['일반의원', '치과의원', '한의원']\n",
    "}\n",
    "\n",
    "# 함수 정의: 업종명에 따라 중분류 할당\n",
    "def classify_service(service_name):\n",
    "    for key, values in classification.items():\n",
    "        if service_name in values:\n",
    "            return key\n",
    "    return '기타'  # 매칭되지 않는 경우\n",
    "\n",
    "# 예제 데이터프레임\n",
    "# data = pd.read_csv('your_file.csv')  # 데이터가 준비된 경우\n",
    "filtered_data['서비스_업종_중분류'] = filtered_data['서비스_업종_코드_명'].apply(classify_service)\n",
    "\n",
    "# 결과 확인\n",
    "print(filtered_data.head())\n",
    "\n",
    "filtered_data.unique()\n"
   ]
  },
  {
   "cell_type": "code",
   "execution_count": 12,
   "metadata": {},
   "outputs": [
    {
     "name": "stdout",
     "output_type": "stream",
     "text": [
      "     서비스_업종_코드 서비스_업종_코드_명 서비스_업종_중분류\n",
      "0     CS300019        의료기기         소매\n",
      "1     CS300031          가구         소매\n",
      "4     CS300036        조명용품         소매\n",
      "5     CS300035        인테리어      과학/기술\n",
      "6     CS300022         화장품         소매\n",
      "...        ...         ...        ...\n",
      "1012  CS100002       중식음식점         음식\n",
      "1045  CS100003       일식음식점         음식\n",
      "1972  CS300026          완구         소매\n",
      "2661  CS200033      부동산중개업         기타\n",
      "3782  CS200036         고시원         숙박\n",
      "\n",
      "[63 rows x 3 columns]\n",
      "데이터가 '서비스_업종_중분류.csv' 파일로 저장되었습니다.\n"
     ]
    }
   ],
   "source": [
    "# 고유값만 남기기\n",
    "unique_data = filtered_data[['서비스_업종_코드', '서비스_업종_코드_명', '서비스_업종_중분류']].drop_duplicates()\n",
    "\n",
    "# 결과 확인\n",
    "print(unique_data)\n",
    "\n",
    "# 고유값 데이터 저장\n",
    "unique_data.to_csv('C:/Users/m/OneDrive/Desktop/최종 프로젝트/서울시 상권데이터/대시보드용 데이터/데이터/서비스_업종_중분류.csv', index=False, encoding='utf-8-sig')\n",
    "\n",
    "print(\"데이터가 '서비스_업종_중분류.csv' 파일로 저장되었습니다.\")\n",
    "\n"
   ]
  },
  {
   "cell_type": "code",
   "execution_count": null,
   "metadata": {},
   "outputs": [],
   "source": []
  }
 ],
 "metadata": {
  "kernelspec": {
   "display_name": "base",
   "language": "python",
   "name": "python3"
  },
  "language_info": {
   "codemirror_mode": {
    "name": "ipython",
    "version": 3
   },
   "file_extension": ".py",
   "mimetype": "text/x-python",
   "name": "python",
   "nbconvert_exporter": "python",
   "pygments_lexer": "ipython3",
   "version": "3.12.4"
  }
 },
 "nbformat": 4,
 "nbformat_minor": 2
}
