{
 "cells": [
  {
   "cell_type": "markdown",
   "metadata": {},
   "source": [
    "## 업종별 데이터 전처리(매출액)"
   ]
  },
  {
   "cell_type": "code",
   "execution_count": 16,
   "metadata": {},
   "outputs": [],
   "source": [
    "import pandas as pd\n",
    "\n",
    "# CSV 파일 읽기\n",
    "category = pd.read_csv(r'C:\\Users\\m\\project\\공공데이터_상권분석\\data\\서울시 상권데이터\\업종별대시보드(before_전처리).csv')"
   ]
  },
  {
   "cell_type": "code",
   "execution_count": 17,
   "metadata": {},
   "outputs": [],
   "source": [
    "#필요한 컬럼만 선택하기\n",
    "category = category[['기준_년분기_코드','상권_코드_명','서비스_업종_코드_명','업종_중분류','당월_매출', '점포_수', '남성','여성','월요일','화요일','수요일','목요일','금요일','토요일','일요일','00시~06시','06시~11시','11시~14시','14시~17시','17시~21시', '21시~24시','10대','20대','30대','40대','50대','60대이상','자치구_코드_명']]"
   ]
  },
  {
   "cell_type": "code",
   "execution_count": 18,
   "metadata": {},
   "outputs": [],
   "source": [
    "category = category.melt(id_vars=['기준_년분기_코드','상권_코드_명','서비스_업종_코드_명','업종_중분류','자치구_코드_명','당월_매출','점포_수'], value_vars=['남성','여성','월요일','화요일','수요일','목요일','금요일','토요일','일요일','00시~06시','06시~11시','11시~14시','14시~17시','17시~21시', '21시~24시','10대','20대','30대','40대','50대','60대이상'],var_name='category', value_name='value')"
   ]
  },
  {
   "cell_type": "code",
   "execution_count": 19,
   "metadata": {},
   "outputs": [],
   "source": [
    "# '기준_년분기_코드' 값을 년월로 변환하는 함수 정의\n",
    "def convert_to_date(code):\n",
    "    year = int(str(code)[:4])  # 연도 추출\n",
    "    quarter = int(str(code)[-1])  # 분기 추출\n",
    "    month = (quarter - 1) * 3 + 1  # 분기에 따라 시작 월 계산\n",
    "    return pd.Timestamp(year=year, month=month, day=1)\n",
    "# 변환 적용\n",
    "category['기준_년분기_코드_날짜'] = category['기준_년분기_코드'].apply(convert_to_date)"
   ]
  },
  {
   "cell_type": "code",
   "execution_count": 20,
   "metadata": {},
   "outputs": [],
   "source": [
    "category = category[category['기준_년분기_코드_날짜'] >= pd.Timestamp(year=2024, month=1, day=1)]"
   ]
  },
  {
   "cell_type": "code",
   "execution_count": 7,
   "metadata": {},
   "outputs": [],
   "source": [
    "category.to_csv(r'C:\\Users\\m\\project\\공공데이터_상권분석\\data\\서울시 상권데이터\\업종대시보드데이터_V0.1.csv', index=False, encoding='utf-8-sig')"
   ]
  },
  {
   "cell_type": "markdown",
   "metadata": {},
   "source": [
    "## 업종별 데이터 전처리 (매출건수)"
   ]
  },
  {
   "cell_type": "code",
   "execution_count": 21,
   "metadata": {},
   "outputs": [],
   "source": [
    "import pandas as pd\n",
    "\n",
    "# CSV 파일 읽기\n",
    "category2 = pd.read_csv(r'C:\\Users\\m\\project\\공공데이터_상권분석\\data\\서울시 상권데이터\\업종별대시보드_매출건수.csv')"
   ]
  },
  {
   "cell_type": "code",
   "execution_count": 22,
   "metadata": {},
   "outputs": [],
   "source": [
    "#필요한 컬럼만 선택하기\n",
    "category2 = category2[['기준_년분기_코드','상권_코드_명','서비스_업종_코드_명', '남성','여성','월요일','화요일','수요일','목요일','금요일','토요일','일요일','00시~06시','06시~11시','11시~14시','14시~17시','17시~21시', '21시~24시','10대','20대','30대','40대','50대','60대이상']]"
   ]
  },
  {
   "cell_type": "code",
   "execution_count": 23,
   "metadata": {},
   "outputs": [],
   "source": [
    "category2 = category2.melt(id_vars=['기준_년분기_코드','상권_코드_명','서비스_업종_코드_명'], value_vars=['남성','여성','월요일','화요일','수요일','목요일','금요일','토요일','일요일','00시~06시','06시~11시','11시~14시','14시~17시','17시~21시', '21시~24시','10대','20대','30대','40대','50대','60대이상'],var_name='category', value_name='value')"
   ]
  },
  {
   "cell_type": "code",
   "execution_count": 24,
   "metadata": {},
   "outputs": [],
   "source": [
    "# '기준_년분기_코드' 값을 년월로 변환하는 함수 정의\n",
    "def convert_to_date(code):\n",
    "    year = int(str(code)[:4])  # 연도 추출\n",
    "    quarter = int(str(code)[-1])  # 분기 추출\n",
    "    month = (quarter - 1) * 3 + 1  # 분기에 따라 시작 월 계산\n",
    "    return pd.Timestamp(year=year, month=month, day=1)\n",
    "# 변환 적용\n",
    "category2['기준_년분기_코드_날짜'] = category2['기준_년분기_코드'].apply(convert_to_date)"
   ]
  },
  {
   "cell_type": "code",
   "execution_count": 25,
   "metadata": {},
   "outputs": [],
   "source": [
    "category2 = category2[category2['기준_년분기_코드_날짜'] >= pd.Timestamp(year=2024, month=1, day=1)]"
   ]
  },
  {
   "cell_type": "code",
   "execution_count": 26,
   "metadata": {},
   "outputs": [],
   "source": [
    "category2.rename(columns={'value': '매출건수'}, inplace=True)"
   ]
  },
  {
   "cell_type": "code",
   "execution_count": 27,
   "metadata": {},
   "outputs": [],
   "source": [
    "category.rename(columns={'value': '매출액'}, inplace=True)"
   ]
  },
  {
   "cell_type": "code",
   "execution_count": 28,
   "metadata": {},
   "outputs": [],
   "source": [
    "category.drop_duplicates(subset=['기준_년분기_코드', '상권_코드_명', '서비스_업종_코드_명', 'category', '기준_년분기_코드_날짜'], inplace=True)\n",
    "category2.drop_duplicates(subset=['기준_년분기_코드', '상권_코드_명', '서비스_업종_코드_명', 'category', '기준_년분기_코드_날짜'], inplace=True)"
   ]
  },
  {
   "cell_type": "code",
   "execution_count": 29,
   "metadata": {},
   "outputs": [],
   "source": [
    "# Left Join 수행\n",
    "merged_df = pd.merge(category, category2, on=['기준_년분기_코드', '상권_코드_명', '서비스_업종_코드_명','category','기준_년분기_코드_날짜'], how='left')"
   ]
  },
  {
   "cell_type": "code",
   "execution_count": 30,
   "metadata": {},
   "outputs": [
    {
     "data": {
      "text/html": [
       "<div>\n",
       "<style scoped>\n",
       "    .dataframe tbody tr th:only-of-type {\n",
       "        vertical-align: middle;\n",
       "    }\n",
       "\n",
       "    .dataframe tbody tr th {\n",
       "        vertical-align: top;\n",
       "    }\n",
       "\n",
       "    .dataframe thead th {\n",
       "        text-align: right;\n",
       "    }\n",
       "</style>\n",
       "<table border=\"1\" class=\"dataframe\">\n",
       "  <thead>\n",
       "    <tr style=\"text-align: right;\">\n",
       "      <th></th>\n",
       "      <th>기준_년분기_코드</th>\n",
       "      <th>상권_코드_명</th>\n",
       "      <th>서비스_업종_코드_명</th>\n",
       "      <th>업종_중분류</th>\n",
       "      <th>자치구_코드_명</th>\n",
       "      <th>당월_매출</th>\n",
       "      <th>점포_수</th>\n",
       "      <th>category</th>\n",
       "      <th>매출액</th>\n",
       "      <th>기준_년분기_코드_날짜</th>\n",
       "      <th>매출건수</th>\n",
       "    </tr>\n",
       "  </thead>\n",
       "  <tbody>\n",
       "    <tr>\n",
       "      <th>0</th>\n",
       "      <td>20241</td>\n",
       "      <td>개롱역</td>\n",
       "      <td>자동차수리</td>\n",
       "      <td>기타</td>\n",
       "      <td>송파구</td>\n",
       "      <td>1.341432e+08</td>\n",
       "      <td>2</td>\n",
       "      <td>남성</td>\n",
       "      <td>8.484089e+07</td>\n",
       "      <td>2024-01-01</td>\n",
       "      <td>1815</td>\n",
       "    </tr>\n",
       "    <tr>\n",
       "      <th>1</th>\n",
       "      <td>20241</td>\n",
       "      <td>고덕 골목형상점가</td>\n",
       "      <td>일반의류</td>\n",
       "      <td>패션/뷰티</td>\n",
       "      <td>강동구</td>\n",
       "      <td>8.241687e+06</td>\n",
       "      <td>6</td>\n",
       "      <td>남성</td>\n",
       "      <td>9.422628e+05</td>\n",
       "      <td>2024-01-01</td>\n",
       "      <td>112</td>\n",
       "    </tr>\n",
       "    <tr>\n",
       "      <th>2</th>\n",
       "      <td>20241</td>\n",
       "      <td>합정역</td>\n",
       "      <td>스포츠클럽</td>\n",
       "      <td>여가/오락</td>\n",
       "      <td>마포구</td>\n",
       "      <td>2.110533e+07</td>\n",
       "      <td>4</td>\n",
       "      <td>남성</td>\n",
       "      <td>9.323054e+06</td>\n",
       "      <td>2024-01-01</td>\n",
       "      <td>63</td>\n",
       "    </tr>\n",
       "    <tr>\n",
       "      <th>3</th>\n",
       "      <td>20241</td>\n",
       "      <td>왕십리도선동상점가</td>\n",
       "      <td>청과상</td>\n",
       "      <td>소매</td>\n",
       "      <td>성동구</td>\n",
       "      <td>1.270101e+07</td>\n",
       "      <td>6</td>\n",
       "      <td>남성</td>\n",
       "      <td>1.805127e+06</td>\n",
       "      <td>2024-01-01</td>\n",
       "      <td>466</td>\n",
       "    </tr>\n",
       "    <tr>\n",
       "      <th>4</th>\n",
       "      <td>20241</td>\n",
       "      <td>서울여자간호대학교</td>\n",
       "      <td>미용실</td>\n",
       "      <td>패션/뷰티</td>\n",
       "      <td>서대문구</td>\n",
       "      <td>4.216797e+06</td>\n",
       "      <td>9</td>\n",
       "      <td>남성</td>\n",
       "      <td>1.404005e+06</td>\n",
       "      <td>2024-01-01</td>\n",
       "      <td>420</td>\n",
       "    </tr>\n",
       "    <tr>\n",
       "      <th>...</th>\n",
       "      <td>...</td>\n",
       "      <td>...</td>\n",
       "      <td>...</td>\n",
       "      <td>...</td>\n",
       "      <td>...</td>\n",
       "      <td>...</td>\n",
       "      <td>...</td>\n",
       "      <td>...</td>\n",
       "      <td>...</td>\n",
       "      <td>...</td>\n",
       "      <td>...</td>\n",
       "    </tr>\n",
       "    <tr>\n",
       "      <th>586735</th>\n",
       "      <td>20241</td>\n",
       "      <td>메가박스 상봉</td>\n",
       "      <td>미곡판매</td>\n",
       "      <td>소매</td>\n",
       "      <td>중랑구</td>\n",
       "      <td>4.824121e+07</td>\n",
       "      <td>3</td>\n",
       "      <td>60대이상</td>\n",
       "      <td>0.000000e+00</td>\n",
       "      <td>2024-01-01</td>\n",
       "      <td>0</td>\n",
       "    </tr>\n",
       "    <tr>\n",
       "      <th>586736</th>\n",
       "      <td>20241</td>\n",
       "      <td>포스코사거리</td>\n",
       "      <td>시계및귀금속</td>\n",
       "      <td>소매</td>\n",
       "      <td>강남구</td>\n",
       "      <td>1.040461e+07</td>\n",
       "      <td>9</td>\n",
       "      <td>60대이상</td>\n",
       "      <td>0.000000e+00</td>\n",
       "      <td>2024-01-01</td>\n",
       "      <td>0</td>\n",
       "    </tr>\n",
       "    <tr>\n",
       "      <th>586737</th>\n",
       "      <td>20241</td>\n",
       "      <td>논현역</td>\n",
       "      <td>스포츠클럽</td>\n",
       "      <td>여가/오락</td>\n",
       "      <td>강남구</td>\n",
       "      <td>5.395346e+06</td>\n",
       "      <td>6</td>\n",
       "      <td>60대이상</td>\n",
       "      <td>0.000000e+00</td>\n",
       "      <td>2024-01-01</td>\n",
       "      <td>0</td>\n",
       "    </tr>\n",
       "    <tr>\n",
       "      <th>586738</th>\n",
       "      <td>20241</td>\n",
       "      <td>미성초등학교</td>\n",
       "      <td>스포츠클럽</td>\n",
       "      <td>여가/오락</td>\n",
       "      <td>관악구</td>\n",
       "      <td>3.970776e+07</td>\n",
       "      <td>3</td>\n",
       "      <td>60대이상</td>\n",
       "      <td>0.000000e+00</td>\n",
       "      <td>2024-01-01</td>\n",
       "      <td>17</td>\n",
       "    </tr>\n",
       "    <tr>\n",
       "      <th>586739</th>\n",
       "      <td>20241</td>\n",
       "      <td>북촌(안국역)</td>\n",
       "      <td>치킨전문점</td>\n",
       "      <td>음식/음료</td>\n",
       "      <td>종로구</td>\n",
       "      <td>6.418098e+07</td>\n",
       "      <td>2</td>\n",
       "      <td>60대이상</td>\n",
       "      <td>1.173322e+07</td>\n",
       "      <td>2024-01-01</td>\n",
       "      <td>691</td>\n",
       "    </tr>\n",
       "  </tbody>\n",
       "</table>\n",
       "<p>586740 rows × 11 columns</p>\n",
       "</div>"
      ],
      "text/plain": [
       "        기준_년분기_코드    상권_코드_명 서비스_업종_코드_명 업종_중분류 자치구_코드_명         당월_매출  점포_수  \\\n",
       "0           20241        개롱역       자동차수리     기타      송파구  1.341432e+08     2   \n",
       "1           20241  고덕 골목형상점가        일반의류  패션/뷰티      강동구  8.241687e+06     6   \n",
       "2           20241        합정역       스포츠클럽  여가/오락      마포구  2.110533e+07     4   \n",
       "3           20241  왕십리도선동상점가         청과상     소매      성동구  1.270101e+07     6   \n",
       "4           20241  서울여자간호대학교         미용실  패션/뷰티     서대문구  4.216797e+06     9   \n",
       "...           ...        ...         ...    ...      ...           ...   ...   \n",
       "586735      20241    메가박스 상봉        미곡판매     소매      중랑구  4.824121e+07     3   \n",
       "586736      20241     포스코사거리      시계및귀금속     소매      강남구  1.040461e+07     9   \n",
       "586737      20241        논현역       스포츠클럽  여가/오락      강남구  5.395346e+06     6   \n",
       "586738      20241     미성초등학교       스포츠클럽  여가/오락      관악구  3.970776e+07     3   \n",
       "586739      20241    북촌(안국역)       치킨전문점  음식/음료      종로구  6.418098e+07     2   \n",
       "\n",
       "       category           매출액 기준_년분기_코드_날짜  매출건수  \n",
       "0            남성  8.484089e+07   2024-01-01  1815  \n",
       "1            남성  9.422628e+05   2024-01-01   112  \n",
       "2            남성  9.323054e+06   2024-01-01    63  \n",
       "3            남성  1.805127e+06   2024-01-01   466  \n",
       "4            남성  1.404005e+06   2024-01-01   420  \n",
       "...         ...           ...          ...   ...  \n",
       "586735    60대이상  0.000000e+00   2024-01-01     0  \n",
       "586736    60대이상  0.000000e+00   2024-01-01     0  \n",
       "586737    60대이상  0.000000e+00   2024-01-01     0  \n",
       "586738    60대이상  0.000000e+00   2024-01-01    17  \n",
       "586739    60대이상  1.173322e+07   2024-01-01   691  \n",
       "\n",
       "[586740 rows x 11 columns]"
      ]
     },
     "execution_count": 30,
     "metadata": {},
     "output_type": "execute_result"
    }
   ],
   "source": [
    "merged_df"
   ]
  },
  {
   "cell_type": "code",
   "execution_count": 31,
   "metadata": {},
   "outputs": [],
   "source": [
    "merged_df.to_csv(r'C:\\Users\\m\\project\\공공데이터_상권분석\\data\\서울시 상권데이터\\업종대시보드데이터_V0.2.csv', index=False, encoding='utf-8-sig')"
   ]
  },
  {
   "cell_type": "markdown",
   "metadata": {},
   "source": [
    "## 개업율/폐업률 데이터 전처리"
   ]
  },
  {
   "cell_type": "code",
   "execution_count": 1,
   "metadata": {},
   "outputs": [],
   "source": [
    "import pandas as pd\n",
    "\n",
    "# CSV 파일 읽기\n",
    "category = pd.read_csv(r'C:\\Users\\m\\project\\공공데이터_상권분석\\data\\서울시 상권데이터\\업종별대시보드(before_전처리).csv')"
   ]
  },
  {
   "cell_type": "code",
   "execution_count": 2,
   "metadata": {},
   "outputs": [],
   "source": [
    "#필요한 컬럼만 선택하기\n",
    "category = category[['기준_년분기_코드','업종_중분류','개업율','폐업률']]\n",
    "\n",
    "# '기준_년분기_코드' 값을 년월로 변환하는 함수 정의\n",
    "def convert_to_date(code):\n",
    "    year = int(str(code)[:4])  # 연도 추출\n",
    "    quarter = int(str(code)[-1])  # 분기 추출\n",
    "    month = (quarter - 1) * 3 + 1  # 분기에 따라 시작 월 계산\n",
    "    return pd.Timestamp(year=year, month=month, day=1)\n",
    "# 변환 적용\n",
    "category['기준_년분기_코드_날짜'] = category['기준_년분기_코드'].apply(convert_to_date)"
   ]
  },
  {
   "cell_type": "code",
   "execution_count": 3,
   "metadata": {},
   "outputs": [],
   "source": [
    "category.to_csv(r'C:\\Users\\m\\project\\공공데이터_상권분석\\data\\서울시 상권데이터\\업종별_개업폐업율데이터.csv', index=False, encoding='utf-8-sig')"
   ]
  },
  {
   "cell_type": "code",
   "execution_count": null,
   "metadata": {},
   "outputs": [],
   "source": []
  }
 ],
 "metadata": {
  "kernelspec": {
   "display_name": "base",
   "language": "python",
   "name": "python3"
  },
  "language_info": {
   "codemirror_mode": {
    "name": "ipython",
    "version": 3
   },
   "file_extension": ".py",
   "mimetype": "text/x-python",
   "name": "python",
   "nbconvert_exporter": "python",
   "pygments_lexer": "ipython3",
   "version": "3.12.3"
  }
 },
 "nbformat": 4,
 "nbformat_minor": 2
}
