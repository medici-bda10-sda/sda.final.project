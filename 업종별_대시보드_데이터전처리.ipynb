{
 "cells": [
  {
   "cell_type": "markdown",
   "metadata": {},
   "source": [
    "## 업종별 데이터 전처리"
   ]
  },
  {
   "cell_type": "code",
   "execution_count": 1,
   "metadata": {},
   "outputs": [],
   "source": [
    "import pandas as pd\n",
    "\n",
    "# CSV 파일 읽기\n",
    "category = pd.read_csv(r'C:\\Users\\m\\project\\공공데이터_상권분석\\data\\서울시 상권데이터\\업종별대시보드.csv')"
   ]
  },
  {
   "cell_type": "code",
   "execution_count": 2,
   "metadata": {},
   "outputs": [],
   "source": [
    "#필요한 컬럼만 선택하기\n",
    "category = category[['기준_년분기_코드','상권_구분_코드_명','서비스_업종_코드_명','업종_중분류','당월_매출', '점포_수', '남성','여성','월요일','화요일','수요일','목요일','금요일','토요일','일요일','00시~06시','06시~11시','11시~14시','14시~17시','17시~21시', '21시~24시','10대','20대','30대','40대','50대','60대이상','개업_점포_수','폐업_점포_수','자치구_코드_명']]"
   ]
  },
  {
   "cell_type": "code",
   "execution_count": 4,
   "metadata": {},
   "outputs": [],
   "source": [
    "category = category.melt(id_vars=['기준_년분기_코드','상권_구분_코드_명','서비스_업종_코드_명','업종_중분류','자치구_코드_명','당월_매출','점포_수'], value_vars=['남성','여성','월요일','화요일','수요일','목요일','금요일','토요일','일요일','00시~06시','06시~11시','11시~14시','14시~17시','17시~21시', '21시~24시','10대','20대','30대','40대','50대','60대이상','개업_점포_수','폐업_점포_수'],var_name='category', value_name='value')"
   ]
  },
  {
   "cell_type": "code",
   "execution_count": 5,
   "metadata": {},
   "outputs": [],
   "source": [
    "# '기준_년분기_코드' 값을 년월로 변환하는 함수 정의\n",
    "def convert_to_date(code):\n",
    "    year = int(str(code)[:4])  # 연도 추출\n",
    "    quarter = int(str(code)[-1])  # 분기 추출\n",
    "    month = (quarter - 1) * 3 + 1  # 분기에 따라 시작 월 계산\n",
    "    return pd.Timestamp(year=year, month=month, day=1)\n",
    "# 변환 적용\n",
    "category['기준_년분기_코드_날짜'] = category['기준_년분기_코드'].apply(convert_to_date)"
   ]
  },
  {
   "cell_type": "code",
   "execution_count": 6,
   "metadata": {},
   "outputs": [],
   "source": [
    "category = category[category['기준_년분기_코드_날짜'] >= pd.Timestamp(year=2024, month=1, day=1)]"
   ]
  },
  {
   "cell_type": "code",
   "execution_count": 7,
   "metadata": {},
   "outputs": [],
   "source": [
    "category.to_csv(r'C:\\Users\\m\\project\\공공데이터_상권분석\\data\\서울시 상권데이터\\업종대시보드데이터_V0.1.csv', index=False, encoding='utf-8-sig')"
   ]
  },
  {
   "cell_type": "markdown",
   "metadata": {},
   "source": [
    "## 개업율/폐업률 데이터 전처리"
   ]
  },
  {
   "cell_type": "code",
   "execution_count": 1,
   "metadata": {},
   "outputs": [],
   "source": [
    "import pandas as pd\n",
    "\n",
    "# CSV 파일 읽기\n",
    "category = pd.read_csv(r'C:\\Users\\m\\project\\공공데이터_상권분석\\data\\서울시 상권데이터\\업종별대시보드(before_전처리).csv')"
   ]
  },
  {
   "cell_type": "code",
   "execution_count": 2,
   "metadata": {},
   "outputs": [],
   "source": [
    "#필요한 컬럼만 선택하기\n",
    "category = category[['기준_년분기_코드','업종_중분류','개업율','폐업률']]\n",
    "\n",
    "# '기준_년분기_코드' 값을 년월로 변환하는 함수 정의\n",
    "def convert_to_date(code):\n",
    "    year = int(str(code)[:4])  # 연도 추출\n",
    "    quarter = int(str(code)[-1])  # 분기 추출\n",
    "    month = (quarter - 1) * 3 + 1  # 분기에 따라 시작 월 계산\n",
    "    return pd.Timestamp(year=year, month=month, day=1)\n",
    "# 변환 적용\n",
    "category['기준_년분기_코드_날짜'] = category['기준_년분기_코드'].apply(convert_to_date)"
   ]
  },
  {
   "cell_type": "code",
   "execution_count": 3,
   "metadata": {},
   "outputs": [],
   "source": [
    "category.to_csv(r'C:\\Users\\m\\project\\공공데이터_상권분석\\data\\서울시 상권데이터\\업종별_개업폐업율데이터.csv', index=False, encoding='utf-8-sig')"
   ]
  },
  {
   "cell_type": "code",
   "execution_count": null,
   "metadata": {},
   "outputs": [],
   "source": []
  }
 ],
 "metadata": {
  "kernelspec": {
   "display_name": "base",
   "language": "python",
   "name": "python3"
  },
  "language_info": {
   "codemirror_mode": {
    "name": "ipython",
    "version": 3
   },
   "file_extension": ".py",
   "mimetype": "text/x-python",
   "name": "python",
   "nbconvert_exporter": "python",
   "pygments_lexer": "ipython3",
   "version": "3.12.3"
  }
 },
 "nbformat": 4,
 "nbformat_minor": 2
}
