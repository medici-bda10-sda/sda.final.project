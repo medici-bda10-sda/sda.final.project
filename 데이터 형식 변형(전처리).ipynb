{
 "cells": [
  {
   "cell_type": "code",
   "execution_count": null,
   "metadata": {},
   "outputs": [
    {
     "name": "stdout",
     "output_type": "stream",
     "text": [
      "변환된 파일이 저장되었습니다: C:\\Users\\m\\Desktop\\머신러닝 사용 데이터\\소비자물가지수_변환.csv\n"
     ]
    }
   ],
   "source": [
    "import pandas as pd\n",
    "\n",
    "# 파일 경로\n",
    "file_path = r\"C:\\Users\\m\\Desktop\\머신러닝 사용 데이터\\소비자물가지수_06111949.csv\"\n",
    "output_file_path = r\"C:\\Users\\m\\Desktop\\머신러닝 사용 데이터\\소비자물가지수_변환.csv\"\n",
    "\n",
    "# 데이터 로드\n",
    "df = pd.read_csv(file_path, encoding=\"utf-8-sig\")\n",
    "\n",
    "# 날짜 컬럼 추출 (1행, 6열부터 끝까지)\n",
    "dates = df.columns[5:]\n",
    "\n",
    "# 소비자물가지수 값 추출 (2행, 6열부터 끝까지)\n",
    "values = df.iloc[0, 5:].values\n",
    "\n",
    "# YYYY/MM -> YYYY-MM-01 변환 (각 월의 1일로 설정)\n",
    "dates = pd.to_datetime(dates, format='%Y/%m').strftime('%Y-%m-%d')\n",
    "\n",
    "# 새로운 데이터프레임 생성\n",
    "df_transformed = pd.DataFrame({\"날짜\": dates, \"소비자물가지수\": values})\n",
    "\n",
    "# CSV로 저장\n",
    "df_transformed.to_csv(output_file_path, index=False, encoding=\"utf-8-sig\")\n",
    "\n",
    "print(f\"변환된 파일이 저장되었습니다: {output_file_path}\")"
   ]
  },
  {
   "cell_type": "code",
   "execution_count": 5,
   "metadata": {},
   "outputs": [
    {
     "name": "stdout",
     "output_type": "stream",
     "text": [
      "변환된 파일이 저장되었습니다: C:\\Users\\m\\Desktop\\머신러닝 사용 데이터\\경제심리리지수_변환.csv\n"
     ]
    }
   ],
   "source": [
    "import pandas as pd\n",
    "\n",
    "# 파일 경로\n",
    "file_path = r\"C:\\Users\\m\\Desktop\\머신러닝 사용 데이터\\경제심리지수_06111224.csv\"\n",
    "output_file_path = r\"C:\\Users\\m\\Desktop\\머신러닝 사용 데이터\\경제심리리지수_변환.csv\"\n",
    "\n",
    "# 데이터 로드\n",
    "df = pd.read_csv(file_path, encoding=\"utf-8-sig\")\n",
    "\n",
    "# 날짜 컬럼 추출 (1행,5열부터 끝까지)\n",
    "dates = df.columns[4:]\n",
    "\n",
    "# 경제심리리지수 값 추출 (2행, 5열부터 끝까지)\n",
    "values = df.iloc[0, 4:].values\n",
    "\n",
    "# YYYY/MM -> YYYY-MM-01 변환 (각 월의 1일로 설정)\n",
    "dates = pd.to_datetime(dates, format='%Y/%m').strftime('%Y-%m-%d')\n",
    "\n",
    "# 새로운 데이터프레임 생성\n",
    "df_transformed = pd.DataFrame({\"날짜\": dates, \"경제심리리지수\": values})\n",
    "\n",
    "# CSV로 저장\n",
    "df_transformed.to_csv(output_file_path, index=False, encoding=\"utf-8-sig\")\n",
    "\n",
    "print(f\"변환된 파일이 저장되었습니다: {output_file_path}\")"
   ]
  },
  {
   "cell_type": "code",
   "execution_count": null,
   "metadata": {},
   "outputs": [],
   "source": []
  }
 ],
 "metadata": {
  "kernelspec": {
   "display_name": "base",
   "language": "python",
   "name": "python3"
  },
  "language_info": {
   "codemirror_mode": {
    "name": "ipython",
    "version": 3
   },
   "file_extension": ".py",
   "mimetype": "text/x-python",
   "name": "python",
   "nbconvert_exporter": "python",
   "pygments_lexer": "ipython3",
   "version": "3.12.7"
  }
 },
 "nbformat": 4,
 "nbformat_minor": 2
}
