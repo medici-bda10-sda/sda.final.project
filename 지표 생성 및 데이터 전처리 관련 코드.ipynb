{
 "cells": [
  {
   "cell_type": "code",
   "execution_count": 8,
   "metadata": {},
   "outputs": [
    {
     "name": "stdout",
     "output_type": "stream",
     "text": [
      "데이터 저장 완료: C:\\Users\\m\\Downloads\\서울시_상권분석_서비스_자치구_추가.csv\n"
     ]
    }
   ],
   "source": [
    "import pandas as pd\n",
    "\n",
    "# 파일 경로 설정\n",
    "main_file = r\"C:\\Users\\m\\Downloads\\서울시_상권분석_서비스(점포-상권, 컬럼수정).csv\"\n",
    "sector_file = r\"C:\\Users\\m\\Desktop\\머신러닝 사용 데이터\\구 데이터\\피처엔지니어링한통합데이터\\피처엔지니어링일단다한통합데이터.csv\"\n",
    "district_file = r\"C:\\Users\\m\\Downloads\\서울시 상권분석서비스(상권변화지표-자치구).csv\"\n",
    "\n",
    "# 데이터 불러오기\n",
    "df_main = pd.read_csv(main_file, encoding='utf-8')\n",
    "df_sector = pd.read_csv(sector_file, encoding='utf-8')\n",
    "df_district = pd.read_csv(district_file, encoding='cp949')\n",
    "\n",
    "# 1. 상권별 자치구 정보 추가\n",
    "df_sector_subset = df_sector[['상권_코드_명', '자치구_코드_명']].drop_duplicates()\n",
    "df_main = df_main.merge(df_sector_subset, on='상권_코드_명', how='left')\n",
    "\n",
    "# 2. 자치구별 영업 개월 수 정보 추가\n",
    "df_district_subset = df_district[['자치구_코드_명', '서울_운영_영업_개월_평균', '서울_폐업_영업_개월_평균']]\n",
    "df_main = df_main.merge(df_district_subset, on='자치구_코드_명', how='left')\n",
    "\n",
    "# 결과 저장\n",
    "output_file = r\"C:\\Users\\m\\Downloads\\서울시_상권분석_서비스_자치구_추가.csv\"\n",
    "df_main.to_csv(output_file, index=False, encoding='utf-8-sig')\n",
    "\n",
    "print(f\"데이터 저장 완료: {output_file}\")"
   ]
  },
  {
   "cell_type": "code",
   "execution_count": 9,
   "metadata": {},
   "outputs": [
    {
     "name": "stdout",
     "output_type": "stream",
     "text": [
      "❌ utf-8 인코딩 오류: 'utf-8' codec can't decode byte 0xb1 in position 0: invalid start byte\n",
      "✅ 인코딩: cp949\n",
      "   기준_년분기_코드  자치구_코드 자치구_코드_명 상권_변화_지표 상권_변화_지표_명  운영_영업_개월_평균  폐업_영업_개월_평균  \\\n",
      "0      20191   11545      금천구       LL       다이나믹           86           47   \n",
      "1      20191   11470      양천구       LL       다이나믹           90           46   \n",
      "2      20191   11140       중구       HH         정체          112           57   \n",
      "3      20191   11620      관악구       LL       다이나믹           91           47   \n",
      "4      20234   11200      성동구       LH       상권확장          100           53   \n",
      "\n",
      "   서울_운영_영업_개월_평균  서울_폐업_영업_개월_평균  \n",
      "0              93              48  \n",
      "1              93              48  \n",
      "2              93              48  \n",
      "3              93              48  \n",
      "4             102              51  \n",
      "Index(['기준_년분기_코드', '자치구_코드', '자치구_코드_명', '상권_변화_지표', '상권_변화_지표_명',\n",
      "       '운영_영업_개월_평균', '폐업_영업_개월_평균', '서울_운영_영업_개월_평균', '서울_폐업_영업_개월_평균'],\n",
      "      dtype='object')\n",
      "(575, 9)\n"
     ]
    }
   ],
   "source": [
    "import pandas as pd\n",
    "\n",
    "district_file = r\"C:\\Users\\m\\Downloads\\서울시 상권분석서비스(상권변화지표-자치구).csv\"\n",
    "\n",
    "# 여러 인코딩 시도\n",
    "encodings = [\"utf-8\", \"cp949\", \"euc-kr\"]\n",
    "\n",
    "for enc in encodings:\n",
    "    try:\n",
    "        df_district = pd.read_csv(district_file, encoding=enc)\n",
    "        print(f\"✅ 인코딩: {enc}\")\n",
    "        print(df_district.head())  # 처음 5줄 출력\n",
    "        break\n",
    "    except Exception as e:\n",
    "        print(f\"❌ {enc} 인코딩 오류: {e}\")\n",
    "print(df_district.columns)\n",
    "print(df_district.shape)  # (행 개수, 열 개수)"
   ]
  },
  {
   "cell_type": "code",
   "execution_count": 10,
   "metadata": {},
   "outputs": [
    {
     "name": "stdout",
     "output_type": "stream",
     "text": [
      "기준_년분기_코드         0\n",
      "자치구_코드            0\n",
      "자치구_코드_명          0\n",
      "상권_변화_지표          0\n",
      "상권_변화_지표_명        0\n",
      "운영_영업_개월_평균       0\n",
      "폐업_영업_개월_평균       0\n",
      "서울_운영_영업_개월_평균    0\n",
      "서울_폐업_영업_개월_평균    0\n",
      "dtype: int64\n"
     ]
    }
   ],
   "source": [
    "print(df_district.isnull().sum())  # 각 컬럼별 결측값 개수"
   ]
  },
  {
   "cell_type": "code",
   "execution_count": 17,
   "metadata": {},
   "outputs": [
    {
     "name": "stdout",
     "output_type": "stream",
     "text": [
      "   기준_년분기_코드_x 상권_구분_코드 상권_구분_코드_명    상권_코드               상권_코드_명 서비스_업종_코드  \\\n",
      "0        20191        R       전통시장  3130018  동대문문구완구거리(동대문문구완구시장)  CS300043   \n",
      "1        20191        R       전통시장  3130018  동대문문구완구거리(동대문문구완구시장)  CS300043   \n",
      "2        20191        R       전통시장  3130018  동대문문구완구거리(동대문문구완구시장)  CS300043   \n",
      "3        20191        R       전통시장  3130018  동대문문구완구거리(동대문문구완구시장)  CS300043   \n",
      "4        20191        R       전통시장  3130018  동대문문구완구거리(동대문문구완구시장)  CS300043   \n",
      "\n",
      "  서비스_업종_코드_명  점포_수  유사_업종_점포_수  개업_율  ...  프랜차이즈_점포_수  자치구_코드_명  기준_년분기_코드_y  \\\n",
      "0      전자상거래업    10          10    10  ...           0       종로구      20234.0   \n",
      "1      전자상거래업    10          10    10  ...           0       종로구      20233.0   \n",
      "2      전자상거래업    10          10    10  ...           0       종로구      20223.0   \n",
      "3      전자상거래업    10          10    10  ...           0       종로구      20191.0   \n",
      "4      전자상거래업    10          10    10  ...           0       종로구      20232.0   \n",
      "\n",
      "    자치구_코드 상권_변화_지표  상권_변화_지표_명  운영_영업_개월_평균 폐업_영업_개월_평균 서울_운영_영업_개월_평균  \\\n",
      "0  11110.0       HH          정체        126.0        61.0          102.0   \n",
      "1  11110.0       HH          정체        124.0        61.0          101.0   \n",
      "2  11110.0       HH          정체        122.0        60.0           99.0   \n",
      "3  11110.0       HH          정체        112.0        57.0           93.0   \n",
      "4  11110.0       HH          정체        124.0        61.0          100.0   \n",
      "\n",
      "   서울_폐업_영업_개월_평균  \n",
      "0            51.0  \n",
      "1            51.0  \n",
      "2            50.0  \n",
      "3            48.0  \n",
      "4            51.0  \n",
      "\n",
      "[5 rows x 23 columns]\n",
      "기준_년분기_코드_x           0\n",
      "상권_구분_코드              0\n",
      "상권_구분_코드_명            0\n",
      "상권_코드                 0\n",
      "상권_코드_명               0\n",
      "서비스_업종_코드             0\n",
      "서비스_업종_코드_명           0\n",
      "점포_수                  0\n",
      "유사_업종_점포_수            0\n",
      "개업_율                  0\n",
      "개업_점포_수               0\n",
      "폐업_률                  0\n",
      "폐업_점포_수               0\n",
      "프랜차이즈_점포_수            0\n",
      "자치구_코드_명          49465\n",
      "기준_년분기_코드_y       49465\n",
      "자치구_코드            49465\n",
      "상권_변화_지표          49465\n",
      "상권_변화_지표_명        49465\n",
      "운영_영업_개월_평균       49465\n",
      "폐업_영업_개월_평균       49465\n",
      "서울_운영_영업_개월_평균    49465\n",
      "서울_폐업_영업_개월_평균    49465\n",
      "dtype: int64\n",
      "✅ 데이터 저장 완료: C:\\Users\\m\\Downloads\\서울시_상권_분석_최종본.csv\n"
     ]
    }
   ],
   "source": [
    "import pandas as pd\n",
    "\n",
    "# 📌 1. 파일 경로 설정\n",
    "main_file = r\"C:\\Users\\m\\Downloads\\서울시_상권분석_서비스(점포-상권, 컬럼수정).csv\"\n",
    "sector_file = r\"C:\\Users\\m\\Desktop\\머신러닝 사용 데이터\\구 데이터\\피처엔지니어링한통합데이터\\피처엔지니어링일단다한통합데이터.csv\"\n",
    "district_file = r\"C:\\Users\\m\\Downloads\\서울시 상권분석서비스(상권변화지표-자치구).csv\"\n",
    "\n",
    "# 📌 2. 데이터 불러오기 (한글 인코딩 문제 대비)\n",
    "df_main = pd.read_csv(main_file, encoding=\"utf-8-sig\")  # ✅ UTF-8-SIG 사용\n",
    "df_sector = pd.read_csv(sector_file, encoding=\"utf-8-sig\")  # ✅ 동일한 인코딩 사용\n",
    "df_district = pd.read_csv(district_file, encoding=\"euc-kr\")  # ✅ EUC-KR 인코딩 사용\n",
    "\n",
    "# 📌 3. 상권 데이터에 자치구 정보 추가\n",
    "df_sector_subset = df_sector[['상권_코드_명', '자치구_코드_명']].drop_duplicates()\n",
    "df_merged = df_main.merge(df_sector_subset, on='상권_코드_명', how='left')\n",
    "\n",
    "# 📌 4. 자치구별 영업 개월 데이터 추가\n",
    "df_final = df_merged.merge(df_district, on='자치구_코드_명', how='left')\n",
    "\n",
    "# 📌 5. 최종 데이터 확인\n",
    "print(df_final.head())  # 첫 5행 출력\n",
    "print(df_final.isnull().sum())  # null 값 확인\n",
    "\n",
    "# 📌 6. CSV 파일로 저장 (UTF-8 인코딩)\n",
    "output_file = r\"C:\\Users\\m\\Downloads\\서울시_상권_분석_최종본.csv\"\n",
    "df_final.to_csv(output_file, index=False, encoding='utf-8-sig')\n",
    "\n",
    "print(f\"✅ 데이터 저장 완료: {output_file}\")"
   ]
  },
  {
   "cell_type": "code",
   "execution_count": 16,
   "metadata": {},
   "outputs": [
    {
     "name": "stdout",
     "output_type": "stream",
     "text": [
      "파일의 인코딩: EUC-KR\n"
     ]
    }
   ],
   "source": [
    "import chardet\n",
    "\n",
    "file_path = r\"C:\\Users\\m\\Downloads\\서울시 상권분석서비스(상권변화지표-자치구).csv\"\n",
    "\n",
    "with open(file_path, \"rb\") as f:\n",
    "    raw_data = f.read(100000)  # 처음 100000바이트만 읽어서 인코딩 분석\n",
    "    result = chardet.detect(raw_data)\n",
    "\n",
    "print(\"파일의 인코딩:\", result[\"encoding\"])"
   ]
  },
  {
   "cell_type": "code",
   "execution_count": 19,
   "metadata": {},
   "outputs": [
    {
     "ename": "KeyError",
     "evalue": "\"['자치구_코드_명'] not in index\"",
     "output_type": "error",
     "traceback": [
      "\u001b[1;31m---------------------------------------------------------------------------\u001b[0m",
      "\u001b[1;31mKeyError\u001b[0m                                  Traceback (most recent call last)",
      "Cell \u001b[1;32mIn[19], line 14\u001b[0m\n\u001b[0;32m     11\u001b[0m df_district \u001b[38;5;241m=\u001b[39m pd\u001b[38;5;241m.\u001b[39mread_csv(district_file, encoding\u001b[38;5;241m=\u001b[39m\u001b[38;5;124m\"\u001b[39m\u001b[38;5;124meuc-kr\u001b[39m\u001b[38;5;124m\"\u001b[39m)\n\u001b[0;32m     13\u001b[0m \u001b[38;5;66;03m# 1. 상권 데이터에 자치구 정보 추가 (상권_코드_명 → 자치구_코드_명 매핑)\u001b[39;00m\n\u001b[1;32m---> 14\u001b[0m df_sector_subset \u001b[38;5;241m=\u001b[39m df_sector[[\u001b[38;5;124m'\u001b[39m\u001b[38;5;124m상권_코드_명\u001b[39m\u001b[38;5;124m'\u001b[39m, \u001b[38;5;124m'\u001b[39m\u001b[38;5;124m자치구_코드_명\u001b[39m\u001b[38;5;124m'\u001b[39m]]\u001b[38;5;241m.\u001b[39mdrop_duplicates()\n\u001b[0;32m     15\u001b[0m df_main \u001b[38;5;241m=\u001b[39m df_main\u001b[38;5;241m.\u001b[39mmerge(df_sector_subset, on\u001b[38;5;241m=\u001b[39m\u001b[38;5;124m\"\u001b[39m\u001b[38;5;124m상권_코드_명\u001b[39m\u001b[38;5;124m\"\u001b[39m, how\u001b[38;5;241m=\u001b[39m\u001b[38;5;124m\"\u001b[39m\u001b[38;5;124mleft\u001b[39m\u001b[38;5;124m\"\u001b[39m)\n\u001b[0;32m     17\u001b[0m \u001b[38;5;66;03m# 2. 자치구 데이터를 기준_년분기_코드 + 자치구_코드_명 기준으로 병합\u001b[39;00m\n",
      "File \u001b[1;32mc:\\Users\\m\\anaconda3\\Lib\\site-packages\\pandas\\core\\frame.py:4108\u001b[0m, in \u001b[0;36mDataFrame.__getitem__\u001b[1;34m(self, key)\u001b[0m\n\u001b[0;32m   4106\u001b[0m     \u001b[38;5;28;01mif\u001b[39;00m is_iterator(key):\n\u001b[0;32m   4107\u001b[0m         key \u001b[38;5;241m=\u001b[39m \u001b[38;5;28mlist\u001b[39m(key)\n\u001b[1;32m-> 4108\u001b[0m     indexer \u001b[38;5;241m=\u001b[39m \u001b[38;5;28mself\u001b[39m\u001b[38;5;241m.\u001b[39mcolumns\u001b[38;5;241m.\u001b[39m_get_indexer_strict(key, \u001b[38;5;124m\"\u001b[39m\u001b[38;5;124mcolumns\u001b[39m\u001b[38;5;124m\"\u001b[39m)[\u001b[38;5;241m1\u001b[39m]\n\u001b[0;32m   4110\u001b[0m \u001b[38;5;66;03m# take() does not accept boolean indexers\u001b[39;00m\n\u001b[0;32m   4111\u001b[0m \u001b[38;5;28;01mif\u001b[39;00m \u001b[38;5;28mgetattr\u001b[39m(indexer, \u001b[38;5;124m\"\u001b[39m\u001b[38;5;124mdtype\u001b[39m\u001b[38;5;124m\"\u001b[39m, \u001b[38;5;28;01mNone\u001b[39;00m) \u001b[38;5;241m==\u001b[39m \u001b[38;5;28mbool\u001b[39m:\n",
      "File \u001b[1;32mc:\\Users\\m\\anaconda3\\Lib\\site-packages\\pandas\\core\\indexes\\base.py:6200\u001b[0m, in \u001b[0;36mIndex._get_indexer_strict\u001b[1;34m(self, key, axis_name)\u001b[0m\n\u001b[0;32m   6197\u001b[0m \u001b[38;5;28;01melse\u001b[39;00m:\n\u001b[0;32m   6198\u001b[0m     keyarr, indexer, new_indexer \u001b[38;5;241m=\u001b[39m \u001b[38;5;28mself\u001b[39m\u001b[38;5;241m.\u001b[39m_reindex_non_unique(keyarr)\n\u001b[1;32m-> 6200\u001b[0m \u001b[38;5;28mself\u001b[39m\u001b[38;5;241m.\u001b[39m_raise_if_missing(keyarr, indexer, axis_name)\n\u001b[0;32m   6202\u001b[0m keyarr \u001b[38;5;241m=\u001b[39m \u001b[38;5;28mself\u001b[39m\u001b[38;5;241m.\u001b[39mtake(indexer)\n\u001b[0;32m   6203\u001b[0m \u001b[38;5;28;01mif\u001b[39;00m \u001b[38;5;28misinstance\u001b[39m(key, Index):\n\u001b[0;32m   6204\u001b[0m     \u001b[38;5;66;03m# GH 42790 - Preserve name from an Index\u001b[39;00m\n",
      "File \u001b[1;32mc:\\Users\\m\\anaconda3\\Lib\\site-packages\\pandas\\core\\indexes\\base.py:6252\u001b[0m, in \u001b[0;36mIndex._raise_if_missing\u001b[1;34m(self, key, indexer, axis_name)\u001b[0m\n\u001b[0;32m   6249\u001b[0m     \u001b[38;5;28;01mraise\u001b[39;00m \u001b[38;5;167;01mKeyError\u001b[39;00m(\u001b[38;5;124mf\u001b[39m\u001b[38;5;124m\"\u001b[39m\u001b[38;5;124mNone of [\u001b[39m\u001b[38;5;132;01m{\u001b[39;00mkey\u001b[38;5;132;01m}\u001b[39;00m\u001b[38;5;124m] are in the [\u001b[39m\u001b[38;5;132;01m{\u001b[39;00maxis_name\u001b[38;5;132;01m}\u001b[39;00m\u001b[38;5;124m]\u001b[39m\u001b[38;5;124m\"\u001b[39m)\n\u001b[0;32m   6251\u001b[0m not_found \u001b[38;5;241m=\u001b[39m \u001b[38;5;28mlist\u001b[39m(ensure_index(key)[missing_mask\u001b[38;5;241m.\u001b[39mnonzero()[\u001b[38;5;241m0\u001b[39m]]\u001b[38;5;241m.\u001b[39munique())\n\u001b[1;32m-> 6252\u001b[0m \u001b[38;5;28;01mraise\u001b[39;00m \u001b[38;5;167;01mKeyError\u001b[39;00m(\u001b[38;5;124mf\u001b[39m\u001b[38;5;124m\"\u001b[39m\u001b[38;5;132;01m{\u001b[39;00mnot_found\u001b[38;5;132;01m}\u001b[39;00m\u001b[38;5;124m not in index\u001b[39m\u001b[38;5;124m\"\u001b[39m)\n",
      "\u001b[1;31mKeyError\u001b[0m: \"['자치구_코드_명'] not in index\""
     ]
    }
   ],
   "source": [
    "import pandas as pd\n",
    "\n",
    "# 파일 경로 설정\n",
    "main_file = r\"C:\\Users\\m\\Desktop\\머신러닝 사용 데이터\\구 데이터\\피처엔지니어링한통합데이터\\피처엔지니어링일단다한통합데이터.csv\"\n",
    "sector_file = r\"C:\\Users\\m\\Downloads\\서울시_상권분석_서비스(점포-상권, 컬럼수정).csv\"\n",
    "district_file = r\"C:\\Users\\m\\Downloads\\서울시 상권분석서비스(상권변화지표-자치구).csv\"\n",
    "\n",
    "# 데이터 불러오기\n",
    "df_main = pd.read_csv(main_file, encoding=\"utf-8-sig\")\n",
    "df_sector = pd.read_csv(sector_file, encoding=\"utf-8-sig\")\n",
    "df_district = pd.read_csv(district_file, encoding=\"euc-kr\")\n",
    "\n",
    "# 1. 상권 데이터에 자치구 정보 추가 (상권_코드_명 → 자치구_코드_명 매핑)\n",
    "df_sector_subset = df_sector[['상권_코드_명', '자치구_코드_명']].drop_duplicates()\n",
    "df_main = df_main.merge(df_sector_subset, on=\"상권_코드_명\", how=\"left\")\n",
    "\n",
    "# 2. 자치구 데이터를 기준_년분기_코드 + 자치구_코드_명 기준으로 병합\n",
    "df_district_subset = df_district[['기준_년분기_코드', '자치구_코드_명', '서울_운영_영업_개월_평균', '서울_폐업_영업_개월_평균']]\n",
    "df_main = df_main.merge(df_district_subset, on=['기준_년분기_코드', '자치구_코드_명'], how=\"left\")\n",
    "\n",
    "# 3. 불필요한 컬럼 제거\n",
    "drop_columns = ['기준_년분기_코드_y', '자치구_코드', '상권_변화_지표', '상권_변화_지표_명', '운영_영업_개월_평균', '운영_영업_개월_평균']\n",
    "df_main = df_main.drop(columns=[col for col in drop_columns if col in df_main.columns])\n",
    "\n",
    "# 저장 (필요 시)\n",
    "output_file = r\"C:\\Users\\m\\Desktop\\머신러닝 사용 데이터\\통합데이터_최종.csv\"\n",
    "df_main.to_csv(output_file, encoding=\"utf-8-sig\", index=False)\n",
    "\n",
    "print(\"데이터 병합 완료! ✅\")"
   ]
  },
  {
   "cell_type": "code",
   "execution_count": 20,
   "metadata": {},
   "outputs": [
    {
     "name": "stdout",
     "output_type": "stream",
     "text": [
      "파일 저장 완료: C:\\Users\\m\\Downloads\\서울시_상권분석_서비스(점포-상권, 컬럼수정).csv\n"
     ]
    }
   ],
   "source": [
    "import pandas as pd\n",
    "\n",
    "# 파일 경로\n",
    "main_file = r\"C:\\Users\\m\\Downloads\\서울시_상권분석_서비스(점포-상권, 컬럼수정).csv\"\n",
    "sector_file = r\"C:\\Users\\m\\Desktop\\머신러닝 사용 데이터\\구 데이터\\피처엔지니어링한통합데이터\\피처엔지니어링일단다한통합데이터.csv\"\n",
    "district_file = r\"C:\\Users\\m\\Downloads\\서울시 상권분석서비스(상권변화지표-자치구).csv\"\n",
    "\n",
    "# 데이터 불러오기\n",
    "df_main = pd.read_csv(main_file, encoding=\"utf-8-sig\")\n",
    "df_sector = pd.read_csv(sector_file, encoding=\"utf-8-sig\")\n",
    "df_district = pd.read_csv(district_file, encoding=\"euc-kr\")\n",
    "\n",
    "# 1. 상권 데이터에 자치구 정보 추가 (상권_코드_명 → 자치구_코드_명 매핑)\n",
    "df_sector_subset = df_sector[['상권_코드_명', '자치구_코드_명']].drop_duplicates()\n",
    "df_main = df_main.merge(df_sector_subset, on=\"상권_코드_명\", how=\"left\")\n",
    "\n",
    "# 2. 자치구 데이터를 기준_년분기_코드 + 자치구_코드_명 기준으로 병합\n",
    "df_district_subset = df_district[['기준_년분기_코드', '자치구_코드_명', '서울_운영_영업_개월_평균', '서울_폐업_영업_개월_평균']]\n",
    "df_main = df_main.merge(df_district_subset, on=[\"기준_년분기_코드\", \"자치구_코드_명\"], how=\"left\")\n",
    "\n",
    "# 3. 최종 저장\n",
    "output_file = r\"C:\\Users\\m\\Downloads\\서울시_상권분석_서비스(점포-상권, 컬럼수정).csv\"\n",
    "df_main.to_csv(output_file, encoding=\"utf-8-sig\", index=False)\n",
    "print(f\"파일 저장 완료: {output_file}\")"
   ]
  },
  {
   "cell_type": "code",
   "execution_count": 21,
   "metadata": {},
   "outputs": [
    {
     "name": "stdout",
     "output_type": "stream",
     "text": [
      "📌 컬럼명 목록:\n",
      "['기준_년분기_코드', '상권_구분_코드', '상권_구분_코드_명', '상권_코드', '상권_코드_명', '서비스_업종_코드', '서비스_업종_코드_명', '점포_수', '유사_업종_점포_수', '개업_율', '개업_점포_수', '폐업_률', '폐업_점포_수', '프랜차이즈_점포_수', '자치구_코드_명', '서울_운영_영업_개월_평균', '서울_폐업_영업_개월_평균']\n",
      "\n",
      "📌 컬럼별 Null 값 개수:\n",
      "기준_년분기_코드             0\n",
      "상권_구분_코드              0\n",
      "상권_구분_코드_명            0\n",
      "상권_코드                 0\n",
      "상권_코드_명               0\n",
      "서비스_업종_코드             0\n",
      "서비스_업종_코드_명           0\n",
      "점포_수                  0\n",
      "유사_업종_점포_수            0\n",
      "개업_율                  0\n",
      "개업_점포_수               0\n",
      "폐업_률                  0\n",
      "폐업_점포_수               0\n",
      "프랜차이즈_점포_수            0\n",
      "자치구_코드_명          49465\n",
      "서울_운영_영업_개월_평균    49465\n",
      "서울_폐업_영업_개월_평균    49465\n",
      "dtype: int64\n",
      "\n",
      "📌 컬럼별 Null 값 비율 (%):\n",
      "기준_년분기_코드         0.00\n",
      "상권_구분_코드          0.00\n",
      "상권_구분_코드_명        0.00\n",
      "상권_코드             0.00\n",
      "상권_코드_명           0.00\n",
      "서비스_업종_코드         0.00\n",
      "서비스_업종_코드_명       0.00\n",
      "점포_수              0.00\n",
      "유사_업종_점포_수        0.00\n",
      "개업_율              0.00\n",
      "개업_점포_수           0.00\n",
      "폐업_률              0.00\n",
      "폐업_점포_수           0.00\n",
      "프랜차이즈_점포_수        0.00\n",
      "자치구_코드_명          2.97\n",
      "서울_운영_영업_개월_평균    2.97\n",
      "서울_폐업_영업_개월_평균    2.97\n",
      "dtype: float64\n"
     ]
    }
   ],
   "source": [
    "import pandas as pd\n",
    "\n",
    "# 파일 경로\n",
    "file_path = r\"C:\\Users\\m\\Downloads\\서울시_상권분석_서비스(점포-상권, 컬럼수정).csv\"\n",
    "\n",
    "# 데이터 불러오기\n",
    "df = pd.read_csv(file_path, encoding=\"utf-8-sig\")\n",
    "\n",
    "# 1. 컬럼명 출력\n",
    "print(\"📌 컬럼명 목록:\")\n",
    "print(df.columns.tolist())\n",
    "\n",
    "# 2. Null 값 개수 확인\n",
    "print(\"\\n📌 컬럼별 Null 값 개수:\")\n",
    "print(df.isnull().sum())\n",
    "\n",
    "# 3. Null 값 비율 확인\n",
    "print(\"\\n📌 컬럼별 Null 값 비율 (%):\")\n",
    "print((df.isnull().sum() / len(df) * 100).round(2))"
   ]
  },
  {
   "cell_type": "code",
   "execution_count": 22,
   "metadata": {},
   "outputs": [
    {
     "name": "stdout",
     "output_type": "stream",
     "text": [
      "✅ 컬럼 제거 완료! 저장된 파일: C:\\Users\\m\\Downloads\\서울시_상권분석_서비스_컬럼제거.csv\n"
     ]
    }
   ],
   "source": [
    "import pandas as pd\n",
    "\n",
    "# 파일 경로\n",
    "input_file = r\"C:\\Users\\m\\Downloads\\서울시_상권분석_서비스(점포-상권, 컬럼수정).csv\"\n",
    "output_file = r\"C:\\Users\\m\\Downloads\\서울시_상권분석_서비스_컬럼제거.csv\"\n",
    "\n",
    "# 데이터 불러오기\n",
    "df = pd.read_csv(input_file, encoding=\"utf-8-sig\")\n",
    "\n",
    "# 제거할 컬럼 목록\n",
    "drop_columns = ['상권_구분_코드', '상권_구분_코드_명', '상권_코드', '서비스_업종_코드']\n",
    "\n",
    "# 해당 컬럼 제거\n",
    "df = df.drop(columns=drop_columns)\n",
    "\n",
    "# 새로운 파일로 저장\n",
    "df.to_csv(output_file, index=False, encoding=\"utf-8-sig\")\n",
    "\n",
    "print(f\"✅ 컬럼 제거 완료! 저장된 파일: {output_file}\")"
   ]
  },
  {
   "cell_type": "code",
   "execution_count": 24,
   "metadata": {},
   "outputs": [
    {
     "name": "stdout",
     "output_type": "stream",
     "text": [
      "   기준_년분기_코드               상권_코드_명 서비스_업종_코드_명  점포_수  유사_업종_점포_수  개업_율  \\\n",
      "0      20191  동대문문구완구거리(동대문문구완구시장)      전자상거래업    10          10    10   \n",
      "1      20191        서래마을카페거리(서래마을)       치킨전문점     0           1     0   \n",
      "2      20191               신논현역 1번          가방     3           3     0   \n",
      "3      20191                 서연중학교         사진관     6           6    17   \n",
      "4      20191                먹골역 5번        조명용품     2           2     0   \n",
      "\n",
      "   개업_점포_수  폐업_률  폐업_점포_수  프랜차이즈_점포_수 자치구_코드_명  서울_운영_영업_개월_평균  서울_폐업_영업_개월_평균  \n",
      "0        1     0        0           0      종로구            93.0            48.0  \n",
      "1        0   100        1           1      서초구            93.0            48.0  \n",
      "2        0     0        0           0      서초구            93.0            48.0  \n",
      "3        1     0        0           0     서대문구            93.0            48.0  \n",
      "4        0     0        0           0      중랑구            93.0            48.0  \n"
     ]
    }
   ],
   "source": [
    "import pandas as pd\n",
    "\n",
    "# 파일 경로\n",
    "file_path = r\"C:\\Users\\m\\Downloads\\서울시_상권분석_서비스_컬럼제거.csv\"\n",
    "\n",
    "# 데이터 불러오기\n",
    "df = pd.read_csv(file_path, encoding=\"utf-8-sig\")\n",
    "\n",
    "print(df.head())  # 데이터 샘플 확인"
   ]
  }
 ],
 "metadata": {
  "kernelspec": {
   "display_name": "base",
   "language": "python",
   "name": "python3"
  },
  "language_info": {
   "codemirror_mode": {
    "name": "ipython",
    "version": 3
   },
   "file_extension": ".py",
   "mimetype": "text/x-python",
   "name": "python",
   "nbconvert_exporter": "python",
   "pygments_lexer": "ipython3",
   "version": "3.12.7"
  }
 },
 "nbformat": 4,
 "nbformat_minor": 2
}
