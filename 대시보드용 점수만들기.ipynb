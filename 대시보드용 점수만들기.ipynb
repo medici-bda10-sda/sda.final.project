{
 "cells": [
  {
   "cell_type": "markdown",
   "metadata": {},
   "source": [
    "# 라이브러리 호출"
   ]
  },
  {
   "cell_type": "code",
   "execution_count": 3,
   "metadata": {},
   "outputs": [],
   "source": [
    "import pandas as pd\n",
    "import numpy as np "
   ]
  },
  {
   "cell_type": "markdown",
   "metadata": {},
   "source": [
    "# 데이터 만들기"
   ]
  },
  {
   "cell_type": "code",
   "execution_count": null,
   "metadata": {},
   "outputs": [],
   "source": [
    "# 데이터 호출\n",
    "# df_growth = pd.read_csv() #성장성\n",
    "df_purchase = pd.read_csv(\"C:/Users/dlwlg/Desktop/final/상권지수/구매력점수.csv\")# 구매력\n",
    "# df_attractive = pd.read_csv()# 집객력\n",
    "# df_stability = pd.read_csv()#안정성\n",
    "df_saturation = pd.read_csv('C:/Users/dlwlg/Desktop/final/상권지수/최종포화도점수ver2.csv', encoding='cp949') #포화도"
   ]
  },
  {
   "cell_type": "code",
   "execution_count": null,
   "metadata": {},
   "outputs": [],
   "source": [
    "# 데이터 병합\n",
    "df = pd.merge(df_growth, df_purchase, on=['기준_년분기_코드','상권_코드_명'], how='left') \n",
    "df = pd.merge(df, df_stability, on=['기준_년분기_코드','상권_코드_명'], how='left') \n",
    "df = pd.merge(df, df_attractive, on=['기준_년분기_코드','상권_코드_명'], how='left') \n",
    "df = pd.merge(df, df_saturation, on=['기준_년분기_코드','상권_코드_명'], how='left') \n",
    "\n",
    "# 20242 데이터만 get\n",
    "final_df= df[df['기준_년분기_코드']==20242]"
   ]
  },
  {
   "cell_type": "code",
   "execution_count": null,
   "metadata": {},
   "outputs": [],
   "source": [
    "# 데이터 저장\n",
    "final_df.to_csv('C:/Users/dlwlg/Desktop/final/최종 대시보드 데이터/지역/지역 1 대시보드 점수 데이터.csv', encoding='utf-8')"
   ]
  }
 ],
 "metadata": {
  "kernelspec": {
   "display_name": "Python 3",
   "language": "python",
   "name": "python3"
  },
  "language_info": {
   "codemirror_mode": {
    "name": "ipython",
    "version": 3
   },
   "file_extension": ".py",
   "mimetype": "text/x-python",
   "name": "python",
   "nbconvert_exporter": "python",
   "pygments_lexer": "ipython3",
   "version": "3.10.11"
  }
 },
 "nbformat": 4,
 "nbformat_minor": 2
}
