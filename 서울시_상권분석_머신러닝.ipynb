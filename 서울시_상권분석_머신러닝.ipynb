{
 "cells": [
  {
   "cell_type": "code",
   "execution_count": 1,
   "metadata": {},
   "outputs": [],
   "source": [
    "import pandas as pd\n",
    "import numpy as np"
   ]
  },
  {
   "cell_type": "code",
   "execution_count": 2,
   "metadata": {},
   "outputs": [],
   "source": [
    "sample_data = pd.read_csv(r\"C:\\Users\\dlwlg\\Desktop\\피처엔지니어링한통합데이터\\피처엔지니어링일단다한통합데이터.csv\")\n",
    "# 데이터프레임에서 1000개의 행을 랜덤 샘플링\n",
    "sampled_df = sample_data.sample(n=1000, random_state=42)  # random_state는 재현성을 위해 설정"
   ]
  },
  {
   "cell_type": "code",
   "execution_count": 6,
   "metadata": {},
   "outputs": [],
   "source": [
    "sampled_df.to_csv(r'C:\\Users\\dlwlg\\Desktop\\피처엔지니어링한통합데이터\\서울시_상권_데이터.csv', index=False, encoding='utf-8-sig')"
   ]
  },
  {
   "cell_type": "markdown",
   "metadata": {},
   "source": [
    "## 매출 예측 머신러닝"
   ]
  },
  {
   "cell_type": "code",
   "execution_count": 9,
   "metadata": {},
   "outputs": [
    {
     "name": "stdout",
     "output_type": "stream",
     "text": [
      "Mean Squared Error: 15841990750868694.00\n"
     ]
    },
    {
     "data": {
      "image/png": "[encoded data removed]",
      "text/plain": [
       "<Figure size 640x480 with 1 Axes>"
      ]
     },
     "metadata": {},
     "output_type": "display_data"
    }
   ],
   "source": [
    "import pandas as pd\n",
    "from sklearn.model_selection import train_test_split\n",
    "from sklearn.ensemble import RandomForestRegressor\n",
    "from sklearn.metrics import mean_squared_error\n",
    "\n",
    "# 데이터 로드\n",
    "data = pd.read_csv(r\"C:\\Users\\dlwlg\\Desktop\\피처엔지니어링한통합데이터\\피처엔지니어링일단다한통합데이터.csv\")\n",
    "\n",
    "# 주요 변수 선택 (예: 상권 코드, 유동인구, 점포 수 등)\n",
    "features = [\n",
    "    '총_유동인구_수', '남성_유동인구_수', '여성_유동인구_수', \n",
    "    '점포_수', '프랜차이즈_점포_수', '영역_면적'\n",
    "]\n",
    "target = '당월_매출_금액'\n",
    "\n",
    "# 결측치 처리\n",
    "data = data.dropna(subset=features + [target])\n",
    "\n",
    "# 독립 변수(X)와 종속 변수(y) 분리\n",
    "X = data[features]\n",
    "y = data[target]\n",
    "\n",
    "# 데이터 분할 (훈련:테스트 = 8:2)\n",
    "X_train, X_test, y_train, y_test = train_test_split(X, y, test_size=0.2, random_state=42)\n",
    "\n",
    "# 랜덤 포레스트 회귀 모델 학습\n",
    "model = RandomForestRegressor(n_estimators=100, random_state=42)\n",
    "model.fit(X_train, y_train)\n",
    "\n",
    "# 예측 및 평가\n",
    "y_pred = model.predict(X_test)\n",
    "mse = mean_squared_error(y_test, y_pred)\n",
    "print(f\"Mean Squared Error: {mse:.2f}\")\n",
    "\n",
    "# 중요 변수 시각화\n",
    "import matplotlib.pyplot as plt\n",
    "plt.rcParams['font.family'] = 'Malgun Gothic'  # Windows의 경우\n",
    "plt.rcParams['axes.unicode_minus'] = False  # 마이너스 기호 깨짐 방지\n",
    "\n",
    "feature_importances = model.feature_importances_\n",
    "plt.barh(features, feature_importances)\n",
    "plt.xlabel(\"Feature Importance\")\n",
    "plt.title(\"Random Forest Feature Importances\")\n",
    "plt.show()\n"
   ]
  },
  {
   "cell_type": "code",
   "execution_count": null,
   "metadata": {},
   "outputs": [],
   "source": [
    "import pandas as pd\n",
    "import numpy as np\n",
    "from sklearn.model_selection import train_test_split\n",
    "from sklearn.ensemble import RandomForestRegressor\n",
    "from sklearn.metrics import r2_score\n",
    "from sklearn.preprocessing import LabelEncoder\n",
    "\n",
    "# 1. 데이터 불러오기 (파일 경로를 실제 데이터 파일로 변경)\n",
    "data = pd.read_csv(r\"C:\\Users\\dlwlg\\Desktop\\피처엔지니어링한통합데이터\\피처엔지니어링일단다한통합데이터.csv\")\n",
    "\n",
    "# 2. 데이터 전처리\n",
    "# 타겟 변수(매출 금액)의 결측치 제거\n",
    "data = data.dropna(subset=['당월_매출_금액'])\n",
    "\n",
    "# 숫자형 열만 선택하여 중앙값으로 결측치 채우기\n",
    "numeric_columns = data.select_dtypes(include=['number']).columns\n",
    "data[numeric_columns] = data[numeric_columns].fillna(data[numeric_columns].median())\n",
    "\n",
    "# 범주형 데이터(문자열)를 숫자로 변환 (Label Encoding)\n",
    "categorical_columns = data.select_dtypes(include=['object']).columns\n",
    "label_encoders = {}\n",
    "for col in categorical_columns:\n",
    "    le = LabelEncoder()\n",
    "    data[col] = le.fit_transform(data[col])\n",
    "    label_encoders[col] = le\n",
    "\n",
    "# 입력 변수(features)와 타겟 변수(target) 분리\n",
    "features = data.drop(columns=['당월_매출_금액'])  # '당월_매출_금액' 제외\n",
    "target = data['당월_매출_금액']\n",
    "\n",
    "# 3. 학습 및 테스트 데이터 분할 (80% 학습, 20% 테스트)\n",
    "X_train, X_test, y_train, y_test = train_test_split(features, target, test_size=0.2, random_state=42)\n",
    "\n",
    "# 4. 모델 생성 및 학습\n",
    "model = RandomForestRegressor(random_state=42)  # 랜덤 포레스트 회귀 모델 초기화\n",
    "model.fit(X_train, y_train)  # 모델 학습\n",
    "\n",
    "# 5. 예측 수행\n",
    "y_pred = model.predict(X_test)\n",
    "\n",
    "# 6. 성능 평가\n",
    "# RMSE 직접 계산\n",
    "rmse = np.sqrt(np.mean((y_test.values - y_pred) ** 2))  # RMSE 계산\n",
    "r2 = r2_score(y_test, y_pred)  # R² 계산\n",
    "\n",
    "print(f\"모델 성능 평가:\\nRMSE: {rmse:.2f}\\nR²: {r2:.2f}\")\n",
    "\n",
    "# 7. 예측값과 실제값 비교\n",
    "y_test_vs_pred = pd.DataFrame({'Actual': y_test.values, 'Predicted': y_pred})\n",
    "print(\"\\n예측값과 실제값 비교 (상위 10개):\")\n",
    "print(y_test_vs_pred.head(10))  # 상위 10개만 출력\n",
    "\n",
    "# 필요시 CSV 파일로 저장 (옵션)\n",
    "y_test_vs_pred.to_csv('predictions.csv', index=False)\n"
   ]
  },
  {
   "cell_type": "code",
   "execution_count": null,
   "metadata": {},
   "outputs": [],
   "source": []
  }
 ],
 "metadata": {
  "kernelspec": {
   "display_name": "base",
   "language": "python",
   "name": "python3"
  },
  "language_info": {
   "codemirror_mode": {
    "name": "ipython",
    "version": 3
   },
   "file_extension": ".py",
   "mimetype": "text/x-python",
   "name": "python",
   "nbconvert_exporter": "python",
   "pygments_lexer": "ipython3",
   "version": "3.12.7"
  }
 },
 "nbformat": 4,
 "nbformat_minor": 2
}
