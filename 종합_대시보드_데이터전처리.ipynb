{
 "cells": [
  {
   "cell_type": "code",
   "execution_count": 22,
   "metadata": {},
   "outputs": [],
   "source": [
    "import pandas as pd\n",
    "\n",
    "# CSV 파일 읽기\n",
    "money = pd.read_csv(r'C:\\Users\\m\\project\\공공데이터_상권분석\\data\\서울시 상권데이터\\서울시_상권분석_서비스(추정매출-상권).csv')  # DataFrame 객체로 로드\n",
    "human = pd.read_csv(r'C:\\Users\\m\\project\\공공데이터_상권분석\\data\\서울시 상권데이터\\서울시_상권분석_서비스(길단위인구-상권).csv')\n",
    "map_sang = pd.read_csv(r'C:\\Users\\m\\project\\공공데이터_상권분석\\data\\서울시 상권데이터\\서울시_상권분석_서비스(영역-상권).csv')\n",
    "coordinate = pd.read_csv(r'C:\\Users\\m\\project\\공공데이터_상권분석\\data\\서울시 상권데이터\\위도경도.csv')\n",
    "store = pd.read_csv(r'C:\\Users\\m\\project\\공공데이터_상권분석\\data\\서울시 상권데이터\\점포.csv')\n",
    "jong = pd.read_csv(r'C:\\Users\\m\\project\\공공데이터_상권분석\\data\\서울시 상권데이터\\업종별대시보드(before_전처리).csv')"
   ]
  },
  {
   "cell_type": "code",
   "execution_count": 23,
   "metadata": {},
   "outputs": [],
   "source": [
    "#필요한 컬럼만 선택하기\n",
    "money = money[['기준_년분기_코드','상권_구분_코드_명','상권_코드','상권_코드_명','당월_매출_금액','서비스_업종_코드_명']]\n",
    "human = human[['기준_년분기_코드','상권_코드','총_유동인구_수']]\n",
    "map_sang = map_sang[['상권_코드','자치구_코드_명','행정동_코드_명']]\n",
    "coordinate = coordinate[['상권_코드','경도1','위도1']]\n",
    "store = store[['기준_년분기_코드', '상권_코드','점포_수']]\n",
    "jong = jong[['서비스_업종_코드_명','업종_중분류']]\n",
    "jong = jong.drop_duplicates(subset=['서비스_업종_코드_명', '업종_중분류'], keep='first')"
   ]
  },
  {
   "cell_type": "code",
   "execution_count": 24,
   "metadata": {},
   "outputs": [],
   "source": [
    "# 추정매출과 길단위인구 조인 1step\n",
    "join_1step = pd.merge(money, human, on=['기준_년분기_코드', '상권_코드'], how='inner')"
   ]
  },
  {
   "cell_type": "code",
   "execution_count": 25,
   "metadata": {},
   "outputs": [],
   "source": [
    "# 1차에서 조인 되지 못한 상권코드\n",
    "unmatched_from_df1 = money.merge(human, on=['기준_년분기_코드', '상권_코드'], how='left', indicator=True)\n",
    "unmatched_code = unmatched_from_df1[unmatched_from_df1['_merge'] == 'left_only']"
   ]
  },
  {
   "cell_type": "code",
   "execution_count": 26,
   "metadata": {},
   "outputs": [],
   "source": [
    "# 1step에서 조인 한것과 영역 데이터 조인(2차조인)\n",
    "join_2step = pd.merge(join_1step, map_sang, on=['상권_코드'], how='inner')"
   ]
  },
  {
   "cell_type": "code",
   "execution_count": 27,
   "metadata": {},
   "outputs": [],
   "source": [
    "#2차에서 조인 되지 못한 상권코드\n",
    "unmatched_from_df1 = join_1step.merge(map_sang, on=['상권_코드'], how='left', indicator=True)\n",
    "unmatched_code2 = unmatched_from_df1[unmatched_from_df1['_merge'] == 'left_only']"
   ]
  },
  {
   "cell_type": "code",
   "execution_count": 28,
   "metadata": {},
   "outputs": [],
   "source": [
    "# '기준_년분기_코드' 값을 년월로 변환하는 함수 정의\n",
    "def convert_to_date(code):\n",
    "    year = int(str(code)[:4])  # 연도 추출\n",
    "    quarter = int(str(code)[-1])  # 분기 추출\n",
    "    month = (quarter - 1) * 3 + 1  # 분기에 따라 시작 월 계산\n",
    "    return pd.Timestamp(year=year, month=month, day=1)\n",
    "# 변환 적용\n",
    "join_2step['기준_년분기_코드_날짜'] = join_2step['기준_년분기_코드'].apply(convert_to_date)"
   ]
  },
  {
   "cell_type": "code",
   "execution_count": 29,
   "metadata": {},
   "outputs": [],
   "source": [
    "join_3step = join_2step[join_2step['기준_년분기_코드_날짜'] >= pd.Timestamp(year=2024, month=1, day=1)]"
   ]
  },
  {
   "cell_type": "code",
   "execution_count": 30,
   "metadata": {},
   "outputs": [
    {
     "name": "stderr",
     "output_type": "stream",
     "text": [
      "C:\\Users\\m\\AppData\\Local\\Temp\\ipykernel_11184\\1505405958.py:3: SettingWithCopyWarning: \n",
      "A value is trying to be set on a copy of a slice from a DataFrame.\n",
      "Try using .loc[row_indexer,col_indexer] = value instead\n",
      "\n",
      "See the caveats in the documentation: https://pandas.pydata.org/pandas-docs/stable/user_guide/indexing.html#returning-a-view-versus-a-copy\n",
      "  join_3step['상권_코드'] = join_3step['상권_코드'].astype('category')\n"
     ]
    }
   ],
   "source": [
    "# 데이터 타입 최적화\n",
    "coordinate['상권_코드'] = coordinate['상권_코드'].astype('category')\n",
    "join_3step['상권_코드'] = join_3step['상권_코드'].astype('category')\n"
   ]
  },
  {
   "cell_type": "code",
   "execution_count": 31,
   "metadata": {},
   "outputs": [],
   "source": [
    "# 2step에서 조인 한것과 영역 데이터 조인(3차조인)\n",
    "join_4step = pd.merge(join_3step, coordinate, on=['상권_코드'], how='inner')"
   ]
  },
  {
   "cell_type": "code",
   "execution_count": 32,
   "metadata": {},
   "outputs": [],
   "source": [
    "#3차에서 조인 되지 못한 상권코드\n",
    "unmatched_from_df2 = join_3step.merge(coordinate, on=['상권_코드'], how='left', indicator=True)\n",
    "unmatched_code3 = unmatched_from_df2[unmatched_from_df2['_merge'] == 'left_only']"
   ]
  },
  {
   "cell_type": "code",
   "execution_count": 33,
   "metadata": {},
   "outputs": [],
   "source": [
    "# 중복 제거\n",
    "join_4step = join_4step.drop_duplicates()"
   ]
  },
  {
   "cell_type": "code",
   "execution_count": 34,
   "metadata": {},
   "outputs": [],
   "source": [
    "# 3step에서 조인 한것과 점포수 데이터 조인(4차조인)\n",
    "join_5step = pd.merge(join_4step, store, on=['기준_년분기_코드', '상권_코드'], how='inner')"
   ]
  },
  {
   "cell_type": "code",
   "execution_count": 35,
   "metadata": {},
   "outputs": [],
   "source": [
    "# 3step에서 조인 한것과 점포수 데이터 조인(4차조인)\n",
    "join_final = pd.merge(join_4step, store, on=['기준_년분기_코드', '상권_코드'], how='inner')\n",
    "join_final = pd.merge(join_final, jong, on=['서비스_업종_코드_명'], how='inner')"
   ]
  },
  {
   "cell_type": "code",
   "execution_count": 36,
   "metadata": {},
   "outputs": [
    {
     "data": {
      "text/html": [
       "<div>\n",
       "<style scoped>\n",
       "    .dataframe tbody tr th:only-of-type {\n",
       "        vertical-align: middle;\n",
       "    }\n",
       "\n",
       "    .dataframe tbody tr th {\n",
       "        vertical-align: top;\n",
       "    }\n",
       "\n",
       "    .dataframe thead th {\n",
       "        text-align: right;\n",
       "    }\n",
       "</style>\n",
       "<table border=\"1\" class=\"dataframe\">\n",
       "  <thead>\n",
       "    <tr style=\"text-align: right;\">\n",
       "      <th></th>\n",
       "      <th>기준_년분기_코드</th>\n",
       "      <th>상권_구분_코드_명</th>\n",
       "      <th>상권_코드</th>\n",
       "      <th>상권_코드_명</th>\n",
       "      <th>당월_매출_금액</th>\n",
       "      <th>서비스_업종_코드_명</th>\n",
       "      <th>총_유동인구_수</th>\n",
       "      <th>자치구_코드_명</th>\n",
       "      <th>행정동_코드_명</th>\n",
       "      <th>기준_년분기_코드_날짜</th>\n",
       "      <th>경도1</th>\n",
       "      <th>위도1</th>\n",
       "      <th>점포_수</th>\n",
       "      <th>업종_중분류</th>\n",
       "    </tr>\n",
       "  </thead>\n",
       "  <tbody>\n",
       "    <tr>\n",
       "      <th>0</th>\n",
       "      <td>20241</td>\n",
       "      <td>골목상권</td>\n",
       "      <td>3110242</td>\n",
       "      <td>면목5동주민센터</td>\n",
       "      <td>477000000.0</td>\n",
       "      <td>컴퓨터및주변장치판매</td>\n",
       "      <td>543331</td>\n",
       "      <td>중랑구</td>\n",
       "      <td>면목5동</td>\n",
       "      <td>2024-01-01</td>\n",
       "      <td>127.048893</td>\n",
       "      <td>37.585913</td>\n",
       "      <td>3</td>\n",
       "      <td>소매</td>\n",
       "    </tr>\n",
       "    <tr>\n",
       "      <th>1</th>\n",
       "      <td>20241</td>\n",
       "      <td>골목상권</td>\n",
       "      <td>3110242</td>\n",
       "      <td>면목5동주민센터</td>\n",
       "      <td>477000000.0</td>\n",
       "      <td>컴퓨터및주변장치판매</td>\n",
       "      <td>543331</td>\n",
       "      <td>중랑구</td>\n",
       "      <td>면목5동</td>\n",
       "      <td>2024-01-01</td>\n",
       "      <td>127.048893</td>\n",
       "      <td>37.585913</td>\n",
       "      <td>0</td>\n",
       "      <td>소매</td>\n",
       "    </tr>\n",
       "    <tr>\n",
       "      <th>2</th>\n",
       "      <td>20241</td>\n",
       "      <td>골목상권</td>\n",
       "      <td>3110242</td>\n",
       "      <td>면목5동주민센터</td>\n",
       "      <td>477000000.0</td>\n",
       "      <td>컴퓨터및주변장치판매</td>\n",
       "      <td>543331</td>\n",
       "      <td>중랑구</td>\n",
       "      <td>면목5동</td>\n",
       "      <td>2024-01-01</td>\n",
       "      <td>127.048893</td>\n",
       "      <td>37.585913</td>\n",
       "      <td>10</td>\n",
       "      <td>소매</td>\n",
       "    </tr>\n",
       "    <tr>\n",
       "      <th>3</th>\n",
       "      <td>20241</td>\n",
       "      <td>골목상권</td>\n",
       "      <td>3110242</td>\n",
       "      <td>면목5동주민센터</td>\n",
       "      <td>477000000.0</td>\n",
       "      <td>컴퓨터및주변장치판매</td>\n",
       "      <td>543331</td>\n",
       "      <td>중랑구</td>\n",
       "      <td>면목5동</td>\n",
       "      <td>2024-01-01</td>\n",
       "      <td>127.048893</td>\n",
       "      <td>37.585913</td>\n",
       "      <td>4</td>\n",
       "      <td>소매</td>\n",
       "    </tr>\n",
       "    <tr>\n",
       "      <th>4</th>\n",
       "      <td>20241</td>\n",
       "      <td>골목상권</td>\n",
       "      <td>3110242</td>\n",
       "      <td>면목5동주민센터</td>\n",
       "      <td>477000000.0</td>\n",
       "      <td>컴퓨터및주변장치판매</td>\n",
       "      <td>543331</td>\n",
       "      <td>중랑구</td>\n",
       "      <td>면목5동</td>\n",
       "      <td>2024-01-01</td>\n",
       "      <td>127.048893</td>\n",
       "      <td>37.585913</td>\n",
       "      <td>2</td>\n",
       "      <td>소매</td>\n",
       "    </tr>\n",
       "    <tr>\n",
       "      <th>...</th>\n",
       "      <td>...</td>\n",
       "      <td>...</td>\n",
       "      <td>...</td>\n",
       "      <td>...</td>\n",
       "      <td>...</td>\n",
       "      <td>...</td>\n",
       "      <td>...</td>\n",
       "      <td>...</td>\n",
       "      <td>...</td>\n",
       "      <td>...</td>\n",
       "      <td>...</td>\n",
       "      <td>...</td>\n",
       "      <td>...</td>\n",
       "      <td>...</td>\n",
       "    </tr>\n",
       "    <tr>\n",
       "      <th>666464</th>\n",
       "      <td>20241</td>\n",
       "      <td>발달상권</td>\n",
       "      <td>3120007</td>\n",
       "      <td>북촌(안국역)</td>\n",
       "      <td>192542931.0</td>\n",
       "      <td>치킨전문점</td>\n",
       "      <td>705408</td>\n",
       "      <td>종로구</td>\n",
       "      <td>가회동</td>\n",
       "      <td>2024-01-01</td>\n",
       "      <td>126.991088</td>\n",
       "      <td>37.580397</td>\n",
       "      <td>77</td>\n",
       "      <td>음식/음료</td>\n",
       "    </tr>\n",
       "    <tr>\n",
       "      <th>666465</th>\n",
       "      <td>20241</td>\n",
       "      <td>발달상권</td>\n",
       "      <td>3120007</td>\n",
       "      <td>북촌(안국역)</td>\n",
       "      <td>192542931.0</td>\n",
       "      <td>치킨전문점</td>\n",
       "      <td>705408</td>\n",
       "      <td>종로구</td>\n",
       "      <td>가회동</td>\n",
       "      <td>2024-01-01</td>\n",
       "      <td>126.991088</td>\n",
       "      <td>37.580397</td>\n",
       "      <td>3</td>\n",
       "      <td>음식/음료</td>\n",
       "    </tr>\n",
       "    <tr>\n",
       "      <th>666466</th>\n",
       "      <td>20241</td>\n",
       "      <td>발달상권</td>\n",
       "      <td>3120007</td>\n",
       "      <td>북촌(안국역)</td>\n",
       "      <td>192542931.0</td>\n",
       "      <td>치킨전문점</td>\n",
       "      <td>705408</td>\n",
       "      <td>종로구</td>\n",
       "      <td>가회동</td>\n",
       "      <td>2024-01-01</td>\n",
       "      <td>126.991088</td>\n",
       "      <td>37.580397</td>\n",
       "      <td>6</td>\n",
       "      <td>음식/음료</td>\n",
       "    </tr>\n",
       "    <tr>\n",
       "      <th>666467</th>\n",
       "      <td>20241</td>\n",
       "      <td>발달상권</td>\n",
       "      <td>3120007</td>\n",
       "      <td>북촌(안국역)</td>\n",
       "      <td>192542931.0</td>\n",
       "      <td>치킨전문점</td>\n",
       "      <td>705408</td>\n",
       "      <td>종로구</td>\n",
       "      <td>가회동</td>\n",
       "      <td>2024-01-01</td>\n",
       "      <td>126.991088</td>\n",
       "      <td>37.580397</td>\n",
       "      <td>9</td>\n",
       "      <td>음식/음료</td>\n",
       "    </tr>\n",
       "    <tr>\n",
       "      <th>666468</th>\n",
       "      <td>20241</td>\n",
       "      <td>발달상권</td>\n",
       "      <td>3120007</td>\n",
       "      <td>북촌(안국역)</td>\n",
       "      <td>192542931.0</td>\n",
       "      <td>치킨전문점</td>\n",
       "      <td>705408</td>\n",
       "      <td>종로구</td>\n",
       "      <td>가회동</td>\n",
       "      <td>2024-01-01</td>\n",
       "      <td>126.991088</td>\n",
       "      <td>37.580397</td>\n",
       "      <td>2</td>\n",
       "      <td>음식/음료</td>\n",
       "    </tr>\n",
       "  </tbody>\n",
       "</table>\n",
       "<p>666469 rows × 14 columns</p>\n",
       "</div>"
      ],
      "text/plain": [
       "        기준_년분기_코드 상권_구분_코드_명    상권_코드   상권_코드_명     당월_매출_금액 서비스_업종_코드_명  \\\n",
       "0           20241       골목상권  3110242  면목5동주민센터  477000000.0  컴퓨터및주변장치판매   \n",
       "1           20241       골목상권  3110242  면목5동주민센터  477000000.0  컴퓨터및주변장치판매   \n",
       "2           20241       골목상권  3110242  면목5동주민센터  477000000.0  컴퓨터및주변장치판매   \n",
       "3           20241       골목상권  3110242  면목5동주민센터  477000000.0  컴퓨터및주변장치판매   \n",
       "4           20241       골목상권  3110242  면목5동주민센터  477000000.0  컴퓨터및주변장치판매   \n",
       "...           ...        ...      ...       ...          ...         ...   \n",
       "666464      20241       발달상권  3120007   북촌(안국역)  192542931.0       치킨전문점   \n",
       "666465      20241       발달상권  3120007   북촌(안국역)  192542931.0       치킨전문점   \n",
       "666466      20241       발달상권  3120007   북촌(안국역)  192542931.0       치킨전문점   \n",
       "666467      20241       발달상권  3120007   북촌(안국역)  192542931.0       치킨전문점   \n",
       "666468      20241       발달상권  3120007   북촌(안국역)  192542931.0       치킨전문점   \n",
       "\n",
       "        총_유동인구_수 자치구_코드_명 행정동_코드_명 기준_년분기_코드_날짜         경도1        위도1  점포_수  \\\n",
       "0         543331      중랑구     면목5동   2024-01-01  127.048893  37.585913     3   \n",
       "1         543331      중랑구     면목5동   2024-01-01  127.048893  37.585913     0   \n",
       "2         543331      중랑구     면목5동   2024-01-01  127.048893  37.585913    10   \n",
       "3         543331      중랑구     면목5동   2024-01-01  127.048893  37.585913     4   \n",
       "4         543331      중랑구     면목5동   2024-01-01  127.048893  37.585913     2   \n",
       "...          ...      ...      ...          ...         ...        ...   ...   \n",
       "666464    705408      종로구      가회동   2024-01-01  126.991088  37.580397    77   \n",
       "666465    705408      종로구      가회동   2024-01-01  126.991088  37.580397     3   \n",
       "666466    705408      종로구      가회동   2024-01-01  126.991088  37.580397     6   \n",
       "666467    705408      종로구      가회동   2024-01-01  126.991088  37.580397     9   \n",
       "666468    705408      종로구      가회동   2024-01-01  126.991088  37.580397     2   \n",
       "\n",
       "       업종_중분류  \n",
       "0          소매  \n",
       "1          소매  \n",
       "2          소매  \n",
       "3          소매  \n",
       "4          소매  \n",
       "...       ...  \n",
       "666464  음식/음료  \n",
       "666465  음식/음료  \n",
       "666466  음식/음료  \n",
       "666467  음식/음료  \n",
       "666468  음식/음료  \n",
       "\n",
       "[666469 rows x 14 columns]"
      ]
     },
     "execution_count": 36,
     "metadata": {},
     "output_type": "execute_result"
    }
   ],
   "source": [
    "join_final"
   ]
  },
  {
   "cell_type": "code",
   "execution_count": 37,
   "metadata": {},
   "outputs": [],
   "source": [
    "join_final = join_final.drop_duplicates(keep='first')"
   ]
  },
  {
   "cell_type": "markdown",
   "metadata": {},
   "source": [
    "## 전분기 대비 증감 컬럼 구하기"
   ]
  },
  {
   "cell_type": "code",
   "execution_count": 67,
   "metadata": {},
   "outputs": [],
   "source": [
    "# 기준_년분기_코드 정렬 (필요 시)\n",
    "data = join_final.sort_values(by='기준_년분기_코드')\n",
    "\n",
    "# 그룹화하여 합계계산\n",
    "exclude_cols = ['점포_수', '총_유동인구_수'] # 증감에 사용할 컬럼 분리\n",
    "group_cols = [col for col in data.columns if col not in exclude_cols]\n",
    "data = data.groupby(group_cols)[exclude_cols].sum().reset_index()"
   ]
  },
  {
   "cell_type": "code",
   "execution_count": 70,
   "metadata": {},
   "outputs": [],
   "source": [
    "# 기준_년분기_코드를 숫자로 변환\n",
    "data['기준_년분기_코드'] = data['기준_년분기_코드'].astype(int)\n",
    "\n",
    "# 연도와 분기를 분리\n",
    "data['연도'] = data['기준_년분기_코드'] // 10  # 연도 추출\n",
    "data['분기'] = data['기준_년분기_코드'] % 10   # 분기 추출\n",
    "\n",
    "# 전분기 계산: 분기가 1인 경우 전년도 4분기로 이동\n",
    "data['전분기_연도'] = data['연도']\n",
    "data['전분기_분기'] = data['분기'] - 1\n",
    "data.loc[data['전분기_분기'] == 0, '전분기_연도'] -= 1  # 전년도 처리\n",
    "data.loc[data['전분기_분기'] == 0, '전분기_분기'] = 4   # 전년도 4분기로 설정\n",
    "\n",
    "# 전분기의 기준_년분기_코드 생성 (연도 * 10 + 분기)\n",
    "data['전분기_코드'] = data['전분기_연도'] * 10 + data['전분기_분기']\n",
    "\n",
    "# 셀프 조인: 현재 데이터와 전 분기의 데이터를 기준으로 병합\n",
    "merged_data = pd.merge(\n",
    "    data,\n",
    "    data[['상권_코드', '기준_년분기_코드', '점포_수', '총_유동인구_수']],\n",
    "    left_on=['상권_코드', '전분기_코드'],\n",
    "    right_on=['상권_코드', '기준_년분기_코드'],\n",
    "    how='left',\n",
    "    suffixes=('', '_전분기')\n",
    ")\n",
    "\n",
    "# 전분기 대비 차이 계산\n",
    "merged_data['점포_수_전분기대비'] = merged_data['점포_수'] - merged_data['점포_수_전분기']\n",
    "merged_data['총유동인구수_전분기대비'] = merged_data['총_유동인구_수'] - merged_data['총_유동인구_수_전분기']"
   ]
  },
  {
   "cell_type": "code",
   "execution_count": 73,
   "metadata": {},
   "outputs": [],
   "source": [
    "#조인 할떄 발생한 중복제거\n",
    "merged_data = merged_data.drop_duplicates(keep='first')"
   ]
  },
  {
   "cell_type": "code",
   "execution_count": 74,
   "metadata": {},
   "outputs": [],
   "source": [
    "merged_data.to_csv(r'C:\\Users\\m\\project\\공공데이터_상권분석\\data\\서울시 상권데이터\\종합_데시보드데이터_v0.2.csv', index=False, encoding='utf-8-sig')"
   ]
  },
  {
   "cell_type": "code",
   "execution_count": 39,
   "metadata": {},
   "outputs": [],
   "source": [
    "#최종 데이터 저장\n",
    "join_final.to_csv(r'C:\\Users\\m\\project\\공공데이터_상권분석\\data\\서울시 상권데이터\\종합_대시보드데이터_v0.1.csv', index=False, encoding='utf-8-sig')\n",
    "unmatched_code.to_csv(r'C:\\Users\\m\\project\\공공데이터_상권분석\\data\\서울시 상권데이터\\유동인구없는_상권코드.csv', index=False, encoding='utf-8-sig')\n",
    "unmatched_code3.to_csv(r'C:\\Users\\m\\project\\공공데이터_상권분석\\data\\서울시 상권데이터\\좌표없는_상권코드.csv', index=False, encoding='utf-8-sig')"
   ]
  },
  {
   "cell_type": "code",
   "execution_count": null,
   "metadata": {},
   "outputs": [],
   "source": []
  }
 ],
 "metadata": {
  "kernelspec": {
   "display_name": "base",
   "language": "python",
   "name": "python3"
  },
  "language_info": {
   "codemirror_mode": {
    "name": "ipython",
    "version": 3
   },
   "file_extension": ".py",
   "mimetype": "text/x-python",
   "name": "python",
   "nbconvert_exporter": "python",
   "pygments_lexer": "ipython3",
   "version": "3.12.3"
  }
 },
 "nbformat": 4,
 "nbformat_minor": 2
}
