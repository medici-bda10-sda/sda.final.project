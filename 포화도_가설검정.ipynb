{
 "cells": [
  {
   "cell_type": "markdown",
   "metadata": {},
   "source": [
    "## 성장성을 기준으로 가설검정하여 등급 라벨링"
   ]
  },
  {
   "cell_type": "markdown",
   "metadata": {},
   "source": [
    "### 1. 데이터 불러오기"
   ]
  },
  {
   "cell_type": "code",
   "execution_count": null,
   "metadata": {},
   "outputs": [],
   "source": [
    "import pandas as pd\n",
    "import numpy as np\n",
    "from sklearn.ensemble import RandomForestRegressor\n",
    "from sklearn.cluster import KMeans\n",
    "from sklearn.preprocessing import StandardScaler\n",
    "\n",
    "df = pd.read_csv(r\"C:\\Users\\dlwlg\\Desktop\\최종프로젝트\\all_data_raw\\머신러닝\\서울시상권데이터.csv\")"
   ]
  },
  {
   "cell_type": "markdown",
   "metadata": {},
   "source": [
    "### 2. 숫자형 데이터만 선택"
   ]
  },
  {
   "cell_type": "code",
   "execution_count": 20,
   "metadata": {},
   "outputs": [],
   "source": [
    "features = ['당월_매출', '총_유동인구_수', '점포_수', '개업율', '폐업률']\n",
    "data = df[['상권_코드_명'] + features].dropna()\n",
    "\n",
    "# 데이터 스케일링\n",
    "scaler = StandardScaler()\n",
    "X_scaled = scaler.fit_transform(data[features])\n"
   ]
  },
  {
   "cell_type": "markdown",
   "metadata": {},
   "source": [
    "### 3. 머신러닝 기반 변수 중요도 평가 (예: 랜덤 포레스트 회귀 모델)"
   ]
  },
  {
   "cell_type": "code",
   "execution_count": 22,
   "metadata": {},
   "outputs": [
    {
     "name": "stdout",
     "output_type": "stream",
     "text": [
      "당월_매출: 0.398\n",
      "총_유동인구_수: 0.375\n",
      "점포_수: 0.143\n",
      "개업율: 0.038\n",
      "폐업률: 0.046\n"
     ]
    }
   ],
   "source": [
    "# 더미 타겟 변수 생성 (실제로는 성장성 관련 지표를 사용할 수 있음)\n",
    "y_dummy = np.random.rand(X_scaled.shape[0])\n",
    "\n",
    "rf = RandomForestRegressor(random_state=42)\n",
    "rf.fit(X_scaled, y_dummy)\n",
    "importances = rf.feature_importances_\n",
    "\n",
    "# 변수 중요도 출력\n",
    "for feature, importance in zip(features, importances):\n",
    "    print(f\"{feature}: {importance:.3f}\")"
   ]
  },
  {
   "cell_type": "markdown",
   "metadata": {},
   "source": [
    "### 4. 선택된 변수로 성장률(또는 관련 지표) 산출"
   ]
  },
  {
   "cell_type": "code",
   "execution_count": 23,
   "metadata": {},
   "outputs": [],
   "source": [
    "growth_rate = data[features].mean(axis=1)"
   ]
  },
  {
   "cell_type": "markdown",
   "metadata": {},
   "source": [
    "### 5. KMeans 클러스터링을 통해 라벨링"
   ]
  },
  {
   "cell_type": "code",
   "execution_count": 24,
   "metadata": {},
   "outputs": [],
   "source": [
    "X_for_clustering = growth_rate.values.reshape(-1, 1)\n",
    "kmeans = KMeans(n_clusters=3, random_state=42)\n",
    "clusters = kmeans.fit_predict(X_for_clustering)\n",
    "\n",
    "# 클러스터 중심의 크기에 따라 라벨 매핑\n",
    "centers = kmeans.cluster_centers_\n",
    "cluster_order = np.argsort(centers.flatten())\n",
    "label_mapping = {cluster_order[0]: '쇠퇴', cluster_order[1]: '정체', cluster_order[2]: '성장'}\n",
    "labels = [label_mapping[c] for c in clusters]"
   ]
  },
  {
   "cell_type": "code",
   "execution_count": 25,
   "metadata": {},
   "outputs": [
    {
     "name": "stdout",
     "output_type": "stream",
     "text": [
      "   상권_코드_명        가상_성장률  라벨\n",
      "0      홍익대  3.437587e+06  쇠퇴\n",
      "1     가로수길  1.848618e+07  쇠퇴\n",
      "2      오금역  6.709719e+06  쇠퇴\n",
      "3  서초3동사거리  1.627271e+07  쇠퇴\n",
      "4   시청역_8번  5.253277e+06  쇠퇴\n"
     ]
    }
   ],
   "source": [
    "# 결과 DataFrame 생성\n",
    "result = pd.DataFrame({\n",
    "    '상권_코드_명': data['상권_코드_명'].values,\n",
    "    '가상_성장률': growth_rate.values,\n",
    "    '라벨': labels\n",
    "})\n",
    "\n",
    "print(result.head())"
   ]
  },
  {
   "cell_type": "markdown",
   "metadata": {},
   "source": [
    "# 영업력 활용 변수"
   ]
  },
  {
   "cell_type": "markdown",
   "metadata": {},
   "source": [
    "#### 가설검정을 활용하여 변수 추려내기"
   ]
  },
  {
   "cell_type": "code",
   "execution_count": 5,
   "metadata": {},
   "outputs": [
    {
     "name": "stdout",
     "output_type": "stream",
     "text": [
      "후보 feature:\n",
      "['기준_년분기_코드', '상권_코드', '총_유동인구_수', '경도1', '위도1', '점포_수']\n",
      "변수 추가: 점포_수                           (p-value = 0.000000)\n",
      "변수 추가: 위도1                            (p-value = 0.000000)\n",
      "변수 추가: 총_유동인구_수                       (p-value = 0.000000)\n",
      "변수 추가: 상권_코드                          (p-value = 0.000000)\n",
      "변수 추가: 경도1                            (p-value = 0.000001)\n",
      "변수 추가: 기준_년분기_코드                      (p-value = 0.000001)\n",
      "\n",
      "최종 선택된 변수 (단계별 선택 결과):\n",
      "['점포_수', '위도1', '총_유동인구_수', '상권_코드', '경도1', '기준_년분기_코드']\n",
      "\n",
      "최종 회귀분석 결과:\n",
      "                            OLS Regression Results                            \n",
      "==============================================================================\n",
      "Dep. Variable:               당월_매출_금액   R-squared:                       0.005\n",
      "Model:                            OLS   Adj. R-squared:                  0.005\n",
      "Method:                 Least Squares   F-statistic:                     2887.\n",
      "Date:                Tue, 18 Feb 2025   Prob (F-statistic):               0.00\n",
      "Time:                        10:35:05   Log-Likelihood:            -7.8635e+07\n",
      "No. Observations:             3185332   AIC:                         1.573e+08\n",
      "Df Residuals:                 3185325   BIC:                         1.573e+08\n",
      "Df Model:                           6                                         \n",
      "Covariance Type:            nonrobust                                         \n",
      "==============================================================================\n",
      "                 coef    std err          t      P>|t|      [0.025      0.975]\n",
      "------------------------------------------------------------------------------\n",
      "const       2.651e+11   2.64e+10     10.029      0.000    2.13e+11    3.17e+11\n",
      "점포_수        6.688e+06   1.26e+05     53.035      0.000    6.44e+06    6.94e+06\n",
      "위도1        -6.154e+09   1.53e+08    -40.097      0.000   -6.46e+09   -5.85e+09\n",
      "총_유동인구_수     375.9506      5.278     71.226      0.000     365.605     386.296\n",
      "상권_코드      -1.375e+04    407.783    -33.710      0.000   -1.45e+04   -1.29e+04\n",
      "경도1         -6.73e+08   1.37e+08     -4.910      0.000   -9.42e+08   -4.04e+08\n",
      "기준_년분기_코드     4.7e+06   9.69e+05      4.849      0.000     2.8e+06     6.6e+06\n",
      "==============================================================================\n",
      "Omnibus:                  9994887.859   Durbin-Watson:                   0.069\n",
      "Prob(Omnibus):                  0.000   Jarque-Bera (JB):    1325965493064.760\n",
      "Skew:                          49.945   Prob(JB):                         0.00\n",
      "Kurtosis:                    3162.202   Cond. No.                     1.35e+10\n",
      "==============================================================================\n",
      "\n",
      "Notes:\n",
      "[1] Standard Errors assume that the covariance matrix of the errors is correctly specified.\n",
      "[2] The condition number is large, 1.35e+10. This might indicate that there are\n",
      "strong multicollinearity or other numerical problems.\n",
      "\n",
      "p-value 기준 (0.05 미만) 최종 선택 변수:\n",
      "['점포_수', '위도1', '총_유동인구_수', '상권_코드', '경도1', '기준_년분기_코드']\n"
     ]
    }
   ],
   "source": [
    "import pandas as pd\n",
    "import numpy as np\n",
    "import statsmodels.api as sm\n",
    "\n",
    "# 1. CSV 파일 불러오기\n",
    "df = pd.read_csv(r\"C:\\Users\\dlwlg\\Desktop\\최종프로젝트\\all_data_raw\\머신러닝\\종합_대시보드데이터.csv\")\n",
    "\n",
    "# 2. 타깃 변수 및 후보 feature 설정\n",
    "# \"당월_매출\"을 타깃으로 하고, 나머지 수치형 컬럼(숫자형 데이터)들을 후보로 사용\n",
    "target = \"당월_매출_금액\"\n",
    "\n",
    "# 수치형 컬럼만 선택한 후 타깃 변수 제거\n",
    "numeric_cols = df.select_dtypes(include=[np.number]).columns.tolist()\n",
    "if target in numeric_cols:\n",
    "    numeric_cols.remove(target)\n",
    "candidate_features = numeric_cols\n",
    "print(\"후보 feature:\")\n",
    "print(candidate_features)\n",
    "\n",
    "# 필수 변수에 결측치가 있을 경우 제거\n",
    "df = df.dropna(subset=candidate_features + [target])\n",
    "\n",
    "# 3. 독립변수(X)와 종속변수(y) 설정\n",
    "X = df[candidate_features]\n",
    "y = df[target]\n",
    "\n",
    "# 4. 단계별 변수 선택 (Stepwise selection) 함수 정의\n",
    "def stepwise_selection(X, y, initial_list=[], threshold_in=0.05, threshold_out=0.05, verbose=True):\n",
    "    \"\"\"\n",
    "    단계별 변수 선택 (Forward + Backward elimination)\n",
    "    - forward step: 아직 포함되지 않은 변수 중 현재 모델에 추가했을 때 p‑value가 threshold_in 보다 작은 변수 추가\n",
    "    - backward step: 이미 포함된 변수 중 p‑value가 threshold_out 보다 큰 변수를 제거\n",
    "    최종적으로 p‑value 기준(0.05 이하)을 만족하는 변수 집합을 반환합니다.\n",
    "    \"\"\"\n",
    "    included = list(initial_list)\n",
    "    while True:\n",
    "        changed = False\n",
    "        \n",
    "        # forward step: 아직 포함되지 않은 변수들 중 추가 검토\n",
    "        excluded = list(set(X.columns) - set(included))\n",
    "        new_pvals = pd.Series(index=excluded, dtype=float)\n",
    "        for new_col in excluded:\n",
    "            model = sm.OLS(y, sm.add_constant(X[included + [new_col]])).fit()\n",
    "            new_pvals[new_col] = model.pvalues[new_col]\n",
    "        if not new_pvals.empty:\n",
    "            best_pval = new_pvals.min()\n",
    "            if best_pval < threshold_in:\n",
    "                best_feature = new_pvals.idxmin()\n",
    "                included.append(best_feature)\n",
    "                changed = True\n",
    "                if verbose:\n",
    "                    print(f\"변수 추가: {best_feature:30} (p-value = {best_pval:.6f})\")\n",
    "        \n",
    "        # backward step: 현재 포함된 변수들 중 제거 검토 (상수항 제외)\n",
    "        model = sm.OLS(y, sm.add_constant(X[included])).fit()\n",
    "        # 상수항('const')는 제외하고 변수들의 p-value 고려\n",
    "        pvals = model.pvalues.iloc[1:]\n",
    "        worst_pval = pvals.max()\n",
    "        if worst_pval > threshold_out:\n",
    "            worst_feature = pvals.idxmax()\n",
    "            included.remove(worst_feature)\n",
    "            changed = True\n",
    "            if verbose:\n",
    "                print(f\"변수 제거: {worst_feature:30} (p-value = {worst_pval:.6f})\")\n",
    "        if not changed:\n",
    "            break\n",
    "    return included\n",
    "\n",
    "# 5. 단계별 선택 수행 (전체 후보 변수를 대상으로 진행, p-value 기준: 0.05)\n",
    "selected_features = stepwise_selection(X, y, verbose=True)\n",
    "print(\"\\n최종 선택된 변수 (단계별 선택 결과):\")\n",
    "print(selected_features)\n",
    "\n",
    "# 6. 최종 선택된 변수들을 사용한 회귀모델 구성 및 결과 확인\n",
    "X_selected = sm.add_constant(X[selected_features])\n",
    "final_model = sm.OLS(y, X_selected).fit()\n",
    "print(\"\\n최종 회귀분석 결과:\")\n",
    "print(final_model.summary())\n",
    "\n",
    "# 7. 최종 모델에서 p‑value가 0.05 미만인 변수들(상수항 제외)만 필터링\n",
    "final_vars = final_model.pvalues[final_model.pvalues < 0.05].index.tolist()\n",
    "final_vars = [var for var in final_vars if var != \"const\"]\n",
    "print(\"\\np-value 기준 (0.05 미만) 최종 선택 변수:\")\n",
    "print(final_vars)\n"
   ]
  },
  {
   "cell_type": "markdown",
   "metadata": {},
   "source": [
    "### 추려낸 변수로 영업력 지수 계산하기"
   ]
  },
  {
   "cell_type": "code",
   "execution_count": 7,
   "metadata": {},
   "outputs": [
    {
     "name": "stdout",
     "output_type": "stream",
     "text": [
      "                            OLS Regression Results                            \n",
      "==============================================================================\n",
      "Dep. Variable:               당월_매출_금액   R-squared:                       0.005\n",
      "Model:                            OLS   Adj. R-squared:                  0.005\n",
      "Method:                 Least Squares   F-statistic:                     4883.\n",
      "Date:                Tue, 18 Feb 2025   Prob (F-statistic):               0.00\n",
      "Time:                        10:38:42   Log-Likelihood:            -7.8636e+07\n",
      "No. Observations:             3185332   AIC:                         1.573e+08\n",
      "Df Residuals:                 3185328   BIC:                         1.573e+08\n",
      "Df Model:                           3                                         \n",
      "Covariance Type:            nonrobust                                         \n",
      "==============================================================================\n",
      "                 coef    std err          t      P>|t|      [0.025      0.975]\n",
      "------------------------------------------------------------------------------\n",
      "const       -9.17e+10   1.96e+10     -4.675      0.000    -1.3e+11   -5.33e+10\n",
      "기준_년분기_코드   4.568e+06    9.7e+05      4.711      0.000    2.67e+06    6.47e+06\n",
      "점포_수        7.067e+06   1.26e+05     56.166      0.000    6.82e+06    7.31e+06\n",
      "총_유동인구_수     448.9424      4.811     93.308      0.000     439.512     458.373\n",
      "==============================================================================\n",
      "Omnibus:                  9993028.436   Durbin-Watson:                   0.069\n",
      "Prob(Omnibus):                  0.000   Jarque-Bera (JB):    1323368801838.254\n",
      "Skew:                          49.919   Prob(JB):                         0.00\n",
      "Kurtosis:                    3159.106   Cond. No.                     6.32e+09\n",
      "==============================================================================\n",
      "\n",
      "Notes:\n",
      "[1] Standard Errors assume that the covariance matrix of the errors is correctly specified.\n",
      "[2] The condition number is large, 6.32e+09. This might indicate that there are\n",
      "strong multicollinearity or other numerical problems.\n",
      "\n",
      "각 상권별 평균 영업력지수:\n",
      "         상권_코드_명      평균_영업력지수\n",
      "0   4.19민주묘지역 2번  1.179619e+09\n",
      "1           63빌딩  8.153563e+08\n",
      "2  DMC(디지털미디어시티)  1.083156e+09\n",
      "3      GS강동자이아파트  1.149737e+09\n",
      "4            G타워  9.087432e+08\n"
     ]
    }
   ],
   "source": [
    "import pandas as pd\n",
    "import numpy as np\n",
    "import statsmodels.api as sm\n",
    "\n",
    "# 1. 데이터 불러오기\n",
    "# CSV 파일이 로컬에 있다면 파일 경로를 사용하세요.\n",
    "# 예를 들어, 파일명이 \"seoulsisanggweonbunseog_sample.csv\"라고 가정합니다.\n",
    "df = pd.read_csv(r\"C:\\Users\\dlwlg\\Desktop\\최종프로젝트\\all_data_raw\\머신러닝\\종합_대시보드데이터.csv\")\n",
    "\n",
    "# 2. 필요 변수 확인 및 전처리\n",
    "# 본 예시에서는 '당월_매출'을 중심으로,\n",
    "# '평균_당월_매출_건수', '평균_주중_매출_금액', '평균_주말_매출_금액'을 독립 변수로 사용합니다.\n",
    "features = ['기준_년분기_코드','점포_수',  '총_유동인구_수']\n",
    "target = '당월_매출_금액'\n",
    "\n",
    "# 결측치 제거(필요한 경우)\n",
    "df = df.dropna(subset=features + [target])\n",
    "\n",
    "# 3. 전체 데이터를 대상으로 회귀모델 생성\n",
    "X = df[features]\n",
    "y = df[target]\n",
    "X = sm.add_constant(X)  # 상수항 추가\n",
    "model = sm.OLS(y, X).fit()\n",
    "\n",
    "# 회귀모델 결과 요약 출력(가설검정 결과 포함)\n",
    "print(model.summary())\n",
    "\n",
    "# 4. 각 관측치에 대해 영업력지수(예측값) 계산\n",
    "df[\"영업력지수\"] = model.predict(X)\n",
    "\n",
    "# 만약 상권별(예: \"상권_코드_명\")로 집계하여 영업력지수를 적용하고 싶다면:\n",
    "grouped_index = df.groupby(\"상권_코드_명\")[\"영업력지수\"].mean().reset_index()\n",
    "grouped_index.columns = [\"상권_코드_명\", \"평균_영업력지수\"]\n",
    "\n",
    "print(\"\\n각 상권별 평균 영업력지수:\")\n",
    "print(grouped_index.head())\n"
   ]
  },
  {
   "cell_type": "markdown",
   "metadata": {},
   "source": [
    "## 1. 포화도 라벨링 기준 정하기\n",
    "**경쟁강도 :: 상권 점포수 / 행정동 점포수 -> 이것만 사용하기로 결정**  \n",
    "매출경쟁도 :: 상권 당월 매출 / 해당 행정동 당월 매출  \n",
    "상권밀집도 :: 상권 점포수 / 상권 면적\n",
    "\n",
    "포화지수 = (경쟁강도 * 0.4) + (매출경쟁도 * 0.4) + (상권밀집도 * 0.2)"
   ]
  },
  {
   "cell_type": "code",
   "execution_count": 2,
   "metadata": {},
   "outputs": [
    {
     "name": "stdout",
     "output_type": "stream",
     "text": [
      "Shapiro-Wilk 검정 결과:\n",
      "통계량: 0.2557\n",
      "p-value: 0.0000\n",
      "\n",
      "단일표본 t-검정 결과:\n",
      "t-통계량: -411029.5863\n",
      "p-value: 0.0000\n",
      "\n",
      "기술통계량:\n",
      "count    139700.000000\n",
      "mean          0.000179\n",
      "std           0.000455\n",
      "min           0.000000\n",
      "25%           0.000044\n",
      "50%           0.000086\n",
      "75%           0.000175\n",
      "max           0.025066\n",
      "Name: competition_index, dtype: float64\n"
     ]
    },
    {
     "name": "stderr",
     "output_type": "stream",
     "text": [
      "c:\\Users\\m\\anaconda3\\Lib\\site-packages\\scipy\\stats\\_axis_nan_policy.py:531: UserWarning: scipy.stats.shapiro: For N > 5000, computed p-value may not be accurate. Current N is 139700.\n",
      "  res = hypotest_fun_out(*samples, **kwds)\n"
     ]
    }
   ],
   "source": [
    "import pandas as pd\n",
    "import numpy as np\n",
    "from scipy import stats\n",
    "\n",
    "# 1. 데이터 불러오기\n",
    "# CSV 파일이 로컬에 있다면 파일 경로를 사용하세요.\n",
    "# 예를 들어, 파일명이 \"seoulsisanggweonbunseog_sample.csv\"라고 가정합니다.\n",
    "df = pd.read_csv(r\"C:\\Users\\m\\project\\공공데이터_상권분석\\data\\머신러닝\\인공지능용_before.csv\")\n",
    "\n",
    "# 경쟁강도 지수 계산\n",
    "df['competition_index'] = df['점포_수'] / df.groupby('자치구_코드_명')['점포_수'].transform('sum')\n",
    "\n",
    "# 정규성 검정\n",
    "statistic, p_value = stats.shapiro(df['competition_index'])\n",
    "print(\"Shapiro-Wilk 검정 결과:\")\n",
    "print(f\"통계량: {statistic:.4f}\")\n",
    "print(f\"p-value: {p_value:.4f}\")\n",
    "\n",
    "# 단일표본 t-검정 (예: 기준값 0.5와 비교)\n",
    "t_stat, t_p_value = stats.ttest_1samp(df['competition_index'], 0.5)\n",
    "print(\"\\n단일표본 t-검정 결과:\")\n",
    "print(f\"t-통계량: {t_stat:.4f}\")\n",
    "print(f\"p-value: {t_p_value:.4f}\")\n",
    "\n",
    "# 기술통계량 출력\n",
    "print(\"\\n기술통계량:\")\n",
    "print(df['competition_index'].describe())"
   ]
  },
  {
   "cell_type": "code",
   "execution_count": null,
   "metadata": {},
   "outputs": [],
   "source": []
  }
 ],
 "metadata": {
  "kernelspec": {
   "display_name": "base",
   "language": "python",
   "name": "python3"
  },
  "language_info": {
   "codemirror_mode": {
    "name": "ipython",
    "version": 3
   },
   "file_extension": ".py",
   "mimetype": "text/x-python",
   "name": "python",
   "nbconvert_exporter": "python",
   "pygments_lexer": "ipython3",
   "version": "3.12.3"
  }
 },
 "nbformat": 4,
 "nbformat_minor": 2
}
