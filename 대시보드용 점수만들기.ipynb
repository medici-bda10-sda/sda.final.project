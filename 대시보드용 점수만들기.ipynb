{
 "cells": [
  {
   "cell_type": "markdown",
   "metadata": {},
   "source": [
    "# 라이브러리 호출"
   ]
  },
  {
   "cell_type": "code",
   "execution_count": 3,
   "metadata": {},
   "outputs": [],
   "source": [
    "import pandas as pd\n",
    "import numpy as np "
   ]
  },
  {
   "cell_type": "markdown",
   "metadata": {},
   "source": [
    "# 데이터 만들기"
   ]
  },
  {
   "cell_type": "code",
   "execution_count": 64,
   "metadata": {},
   "outputs": [],
   "source": [
    "# 데이터 호출\n",
    "df_growth = pd.read_csv(r\"C:\\Users\\dlwlg\\Desktop\\final\\상권지수\\성장성점수.csv\") #성장성\n",
    "df_purchase = pd.read_csv(\"C:/Users/dlwlg/Desktop/final/상권지수/구매력점수.csv\")# 구매력\n",
    "df_attractive = pd.read_csv(r\"C:\\Users\\dlwlg\\Desktop\\final\\상권지수\\집객력점수.csv\")# 집객력\n",
    "df_stability = pd.read_csv(r\"C:\\Users\\dlwlg\\Desktop\\final\\상권지수\\매출변수_20192_안정성_점수_추가_프로토타입.csv\")#안정성\n",
    "df_saturation = pd.read_csv('C:/Users/dlwlg/Desktop/final/상권지수/여유도 점수 ver2.csv', encoding='cp949') #포화도\n",
    "df_place = pd.read_csv(r\"C:\\Users\\dlwlg\\Desktop\\final\\merge.csv\", encoding='cp949')"
   ]
  },
  {
   "cell_type": "code",
   "execution_count": 65,
   "metadata": {},
   "outputs": [],
   "source": [
    "# 집객력 csv 기준년분기코드 수정 \n",
    "df_attractive['year'] = pd.to_datetime(df_attractive['기준_년분기_코드'])  # 날짜 타입 변환\n",
    "df_attractive['기준_년분기_코드'] = df_attractive['year'].dt.year.astype(str) + df_attractive['year'].dt.quarter.astype(str)\n",
    "df_attractive.drop(columns='year', inplace=True)\n",
    "df_attractive['기준_년분기_코드'] = df_attractive['기준_년분기_코드'].astype(int)"
   ]
  },
  {
   "cell_type": "code",
   "execution_count": 66,
   "metadata": {},
   "outputs": [
    {
     "data": {
      "text/html": [
       "<div>\n",
       "<style scoped>\n",
       "    .dataframe tbody tr th:only-of-type {\n",
       "        vertical-align: middle;\n",
       "    }\n",
       "\n",
       "    .dataframe tbody tr th {\n",
       "        vertical-align: top;\n",
       "    }\n",
       "\n",
       "    .dataframe thead th {\n",
       "        text-align: right;\n",
       "    }\n",
       "</style>\n",
       "<table border=\"1\" class=\"dataframe\">\n",
       "  <thead>\n",
       "    <tr style=\"text-align: right;\">\n",
       "      <th></th>\n",
       "      <th>기준_년분기_코드</th>\n",
       "      <th>자치구_코드_명</th>\n",
       "      <th>상권_코드_명</th>\n",
       "      <th>구매력_점수</th>\n",
       "      <th>여유도 점수</th>\n",
       "      <th>안정성_점수</th>\n",
       "      <th>집객력점수</th>\n",
       "      <th>성장성_점수_스케일링</th>\n",
       "      <th>행정동</th>\n",
       "    </tr>\n",
       "  </thead>\n",
       "  <tbody>\n",
       "    <tr>\n",
       "      <th>0</th>\n",
       "      <td>20242</td>\n",
       "      <td>강북구</td>\n",
       "      <td>4.19민주묘지역 2번</td>\n",
       "      <td>7.538912</td>\n",
       "      <td>12.0</td>\n",
       "      <td>5.840234</td>\n",
       "      <td>7.520368</td>\n",
       "      <td>16.289197</td>\n",
       "      <td>우이동</td>\n",
       "    </tr>\n",
       "    <tr>\n",
       "      <th>1</th>\n",
       "      <td>20242</td>\n",
       "      <td>영등포구</td>\n",
       "      <td>63빌딩</td>\n",
       "      <td>10.583734</td>\n",
       "      <td>12.0</td>\n",
       "      <td>6.355650</td>\n",
       "      <td>6.302414</td>\n",
       "      <td>11.492795</td>\n",
       "      <td>여의동</td>\n",
       "    </tr>\n",
       "    <tr>\n",
       "      <th>2</th>\n",
       "      <td>20242</td>\n",
       "      <td>마포구</td>\n",
       "      <td>DMC(디지털미디어시티)</td>\n",
       "      <td>13.372972</td>\n",
       "      <td>11.0</td>\n",
       "      <td>8.941182</td>\n",
       "      <td>11.692442</td>\n",
       "      <td>11.920587</td>\n",
       "      <td>상암동</td>\n",
       "    </tr>\n",
       "    <tr>\n",
       "      <th>3</th>\n",
       "      <td>20242</td>\n",
       "      <td>강동구</td>\n",
       "      <td>GS강동자이아파트</td>\n",
       "      <td>7.097538</td>\n",
       "      <td>12.0</td>\n",
       "      <td>5.337552</td>\n",
       "      <td>8.003538</td>\n",
       "      <td>12.545240</td>\n",
       "      <td>길동</td>\n",
       "    </tr>\n",
       "    <tr>\n",
       "      <th>4</th>\n",
       "      <td>20242</td>\n",
       "      <td>구로구</td>\n",
       "      <td>G타워</td>\n",
       "      <td>7.497179</td>\n",
       "      <td>12.0</td>\n",
       "      <td>6.364343</td>\n",
       "      <td>4.712795</td>\n",
       "      <td>11.278161</td>\n",
       "      <td>구로3동</td>\n",
       "    </tr>\n",
       "    <tr>\n",
       "      <th>...</th>\n",
       "      <td>...</td>\n",
       "      <td>...</td>\n",
       "      <td>...</td>\n",
       "      <td>...</td>\n",
       "      <td>...</td>\n",
       "      <td>...</td>\n",
       "      <td>...</td>\n",
       "      <td>...</td>\n",
       "      <td>...</td>\n",
       "    </tr>\n",
       "    <tr>\n",
       "      <th>1505</th>\n",
       "      <td>20242</td>\n",
       "      <td>용산구</td>\n",
       "      <td>효창동주민센터</td>\n",
       "      <td>6.295638</td>\n",
       "      <td>12.0</td>\n",
       "      <td>3.504015</td>\n",
       "      <td>8.032668</td>\n",
       "      <td>11.860852</td>\n",
       "      <td>효창동</td>\n",
       "    </tr>\n",
       "    <tr>\n",
       "      <th>1506</th>\n",
       "      <td>20242</td>\n",
       "      <td>용산구</td>\n",
       "      <td>후암동주민센터</td>\n",
       "      <td>8.682286</td>\n",
       "      <td>11.0</td>\n",
       "      <td>5.748926</td>\n",
       "      <td>10.218123</td>\n",
       "      <td>11.225029</td>\n",
       "      <td>후암동</td>\n",
       "    </tr>\n",
       "    <tr>\n",
       "      <th>1507</th>\n",
       "      <td>20242</td>\n",
       "      <td>용산구</td>\n",
       "      <td>후암시장</td>\n",
       "      <td>9.345041</td>\n",
       "      <td>12.0</td>\n",
       "      <td>7.784967</td>\n",
       "      <td>7.118304</td>\n",
       "      <td>10.632042</td>\n",
       "      <td>후암동</td>\n",
       "    </tr>\n",
       "    <tr>\n",
       "      <th>1508</th>\n",
       "      <td>20242</td>\n",
       "      <td>강남구</td>\n",
       "      <td>휘문고교사거리</td>\n",
       "      <td>7.204587</td>\n",
       "      <td>12.0</td>\n",
       "      <td>10.144811</td>\n",
       "      <td>6.438113</td>\n",
       "      <td>8.456609</td>\n",
       "      <td>대치2동</td>\n",
       "    </tr>\n",
       "    <tr>\n",
       "      <th>1509</th>\n",
       "      <td>20242</td>\n",
       "      <td>동작구</td>\n",
       "      <td>흑리단길</td>\n",
       "      <td>9.430589</td>\n",
       "      <td>12.0</td>\n",
       "      <td>6.179076</td>\n",
       "      <td>7.444698</td>\n",
       "      <td>10.895076</td>\n",
       "      <td>흑석동</td>\n",
       "    </tr>\n",
       "  </tbody>\n",
       "</table>\n",
       "<p>1510 rows × 9 columns</p>\n",
       "</div>"
      ],
      "text/plain": [
       "      기준_년분기_코드 자치구_코드_명        상권_코드_명     구매력_점수  여유도 점수     안정성_점수  \\\n",
       "0         20242      강북구   4.19민주묘지역 2번   7.538912    12.0   5.840234   \n",
       "1         20242     영등포구           63빌딩  10.583734    12.0   6.355650   \n",
       "2         20242      마포구  DMC(디지털미디어시티)  13.372972    11.0   8.941182   \n",
       "3         20242      강동구      GS강동자이아파트   7.097538    12.0   5.337552   \n",
       "4         20242      구로구            G타워   7.497179    12.0   6.364343   \n",
       "...         ...      ...            ...        ...     ...        ...   \n",
       "1505      20242      용산구        효창동주민센터   6.295638    12.0   3.504015   \n",
       "1506      20242      용산구        후암동주민센터   8.682286    11.0   5.748926   \n",
       "1507      20242      용산구           후암시장   9.345041    12.0   7.784967   \n",
       "1508      20242      강남구        휘문고교사거리   7.204587    12.0  10.144811   \n",
       "1509      20242      동작구           흑리단길   9.430589    12.0   6.179076   \n",
       "\n",
       "          집객력점수  성장성_점수_스케일링   행정동  \n",
       "0      7.520368    16.289197   우이동  \n",
       "1      6.302414    11.492795   여의동  \n",
       "2     11.692442    11.920587   상암동  \n",
       "3      8.003538    12.545240    길동  \n",
       "4      4.712795    11.278161  구로3동  \n",
       "...         ...          ...   ...  \n",
       "1505   8.032668    11.860852   효창동  \n",
       "1506  10.218123    11.225029   후암동  \n",
       "1507   7.118304    10.632042   후암동  \n",
       "1508   6.438113     8.456609  대치2동  \n",
       "1509   7.444698    10.895076   흑석동  \n",
       "\n",
       "[1510 rows x 9 columns]"
      ]
     },
     "execution_count": 66,
     "metadata": {},
     "output_type": "execute_result"
    }
   ],
   "source": [
    "# 데이터 병합\n",
    "df = pd.merge(df_purchase, df_saturation, on=['기준_년분기_코드','상권_코드_명'], how='left') \n",
    "df = pd.merge(df, df_stability[['기준_년분기_코드','상권_코드_명','안정성_점수']], on=['기준_년분기_코드','상권_코드_명'], how='left') \n",
    "df = pd.merge(df, df_attractive, on=['기준_년분기_코드','상권_코드_명'], how='left') \n",
    "df = pd.merge(df, df_growth, on=['기준_년분기_코드','상권_코드_명'], how='left') \n",
    "df = pd.merge(df, df_place[['상권_코드_명','행정동']], on='상권_코드_명', how='left')\n",
    "\n",
    "# 20242 데이터만 get\n",
    "final_df= df[df['기준_년분기_코드']==20242].reset_index()\n",
    "\n",
    "# 필요없는 칼럼 제외\n",
    "final_df.drop(columns='index',inplace=True)\n",
    "\n",
    "# 데이터 확인\n",
    "final_df"
   ]
  },
  {
   "cell_type": "code",
   "execution_count": 67,
   "metadata": {},
   "outputs": [
    {
     "data": {
      "text/plain": [
       "기준_년분기_코드          0\n",
       "자치구_코드_명           0\n",
       "상권_코드_명            0\n",
       "구매력_점수             0\n",
       "여유도 점수         31697\n",
       "안정성_점수         31697\n",
       "집객력점수          24138\n",
       "성장성_점수_스케일링     1530\n",
       "행정동                0\n",
       "dtype: int64"
      ]
     },
     "execution_count": 67,
     "metadata": {},
     "output_type": "execute_result"
    }
   ],
   "source": [
    "# 결측치 여부 확인 \n",
    "df.isnull().sum()"
   ]
  },
  {
   "cell_type": "code",
   "execution_count": 68,
   "metadata": {},
   "outputs": [
    {
     "name": "stdout",
     "output_type": "stream",
     "text": [
      "      기준_년분기_코드 자치구_코드_명         상권_코드_명    구매력_점수  여유도 점수    안정성_점수  \\\n",
      "1275      20242     동대문구  전농1동주민센터(전농시장)  3.051911    12.0  4.838269   \n",
      "\n",
      "         집객력점수  성장성_점수_스케일링   행정동  \n",
      "1275  6.588638          NaN  전농1동  \n"
     ]
    }
   ],
   "source": [
    "null_rows = final_df[final_df.isnull().any(axis=1)]\n",
    "print(null_rows)"
   ]
  },
  {
   "cell_type": "code",
   "execution_count": 69,
   "metadata": {},
   "outputs": [],
   "source": [
    "# 육안으로 확인 뒤, 전농 성장성 점수 스케일링 평균점수 10 대입\n",
    "final_df = final_df.fillna(0)"
   ]
  },
  {
   "cell_type": "code",
   "execution_count": 70,
   "metadata": {},
   "outputs": [
    {
     "data": {
      "text/plain": [
       "기준_년분기_코드      0\n",
       "자치구_코드_명       0\n",
       "상권_코드_명        0\n",
       "구매력_점수         0\n",
       "여유도 점수         0\n",
       "안정성_점수         0\n",
       "집객력점수          0\n",
       "성장성_점수_스케일링    0\n",
       "행정동            0\n",
       "dtype: int64"
      ]
     },
     "execution_count": 70,
     "metadata": {},
     "output_type": "execute_result"
    }
   ],
   "source": [
    "# 결측치 여부 확인 \n",
    "final_df.isnull().sum()"
   ]
  },
  {
   "cell_type": "markdown",
   "metadata": {},
   "source": [
    "# 데이터 저장"
   ]
  },
  {
   "cell_type": "code",
   "execution_count": 71,
   "metadata": {},
   "outputs": [],
   "source": [
    "# 데이터 저장\n",
    "final_df.to_csv('C:/Users/dlwlg/Desktop/final/최종 대시보드 데이터/지역/지역 1 대시보드 점수 데이터.csv', encoding='utf-8', index=False)"
   ]
  }
 ],
 "metadata": {
  "kernelspec": {
   "display_name": "Python 3",
   "language": "python",
   "name": "python3"
  },
  "language_info": {
   "codemirror_mode": {
    "name": "ipython",
    "version": 3
   },
   "file_extension": ".py",
   "mimetype": "text/x-python",
   "name": "python",
   "nbconvert_exporter": "python",
   "pygments_lexer": "ipython3",
   "version": "3.10.11"
  }
 },
 "nbformat": 4,
 "nbformat_minor": 2
}
