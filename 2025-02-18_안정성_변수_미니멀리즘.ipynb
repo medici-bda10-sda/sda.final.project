{
 "cells": [
  {
   "cell_type": "code",
   "execution_count": null,
   "metadata": {},
   "outputs": [],
   "source": []
  },
  {
   "cell_type": "code",
   "execution_count": null,
   "metadata": {},
   "outputs": [],
   "source": []
  },
  {
   "cell_type": "markdown",
   "metadata": {},
   "source": [
    "변수 계산 및 신규 데이터 저장 코드"
   ]
  },
  {
   "cell_type": "code",
   "execution_count": 4,
   "metadata": {},
   "outputs": [
    {
     "name": "stderr",
     "output_type": "stream",
     "text": [
      "C:\\Users\\m\\AppData\\Local\\Temp\\ipykernel_3212\\796764776.py:42: DeprecationWarning: DataFrameGroupBy.apply operated on the grouping columns. This behavior is deprecated, and in a future version of pandas the grouping columns will be excluded from the operation. Either pass `include_groups=False` to exclude the groupings or explicitly select the grouping columns after groupby to silence this warning.\n",
      "  df_general['영업_개월_차이'] = df_general.groupby(['상권명', '업종명']).apply(lambda x: x['서울_운영_영업_개월_평균'].rolling(rolling_window).mean() - x['서울_폐업_영업_개월_평균'].rolling(rolling_window).mean()).reset_index(level=[0,1], drop=True)\n"
     ]
    },
    {
     "name": "stdout",
     "output_type": "stream",
     "text": [
      "변수 생성 완료: 일반 변수(df_general)와 매출 변수(df_sales) 각각 저장됨.\n"
     ]
    }
   ],
   "source": [
    "import pandas as pd\n",
    "\n",
    "# 파일 경로\n",
    "file_general = \"C:\\\\Users\\\\m\\\\Desktop\\\\변수 생성용 데이터\\\\서울시_상권분석_서비스_컬럼제거.csv\"\n",
    "file_sales = \"C:\\\\Users\\\\m\\\\Desktop\\\\변수 생성용 데이터\\\\서울시_상권분석_서비스_매출추가_매출결측치_제거.csv\"\n",
    "\n",
    "# 데이터 로드\n",
    "df_general = pd.read_csv(file_general)\n",
    "df_sales = pd.read_csv(file_sales)\n",
    "\n",
    "# 4개 분기(1년) 단위로 이동 표준 편차 및 증감률 계산\n",
    "rolling_window = 4\n",
    "\n",
    "# 유동인구 안정성\n",
    "df_sales['유동인구_안정성'] = df_sales.groupby(['상권명', '업종명'])['유동인구수'].transform(lambda x: x.mean() / (x.std() + 1))\n",
    "\n",
    "# 점포 수 변동성\n",
    "df_general['점포_수_변동성'] = df_general.groupby(['상권명', '업종명'])['점포_수'].transform(lambda x: x.rolling(rolling_window).std())\n",
    "\n",
    "# 점포 수 증감률\n",
    "df_general['점포_수_증감률'] = df_general.groupby(['상권명', '업종명'])['점포_수'].transform(lambda x: x.pct_change(periods=rolling_window))\n",
    "\n",
    "# 매출 관련 변수 생성\n",
    "if '매출_금액' in df_sales.columns:\n",
    "    df_sales['매출_변동성'] = df_sales.groupby(['상권명', '업종명'])['매출_금액'].transform(lambda x: x.rolling(rolling_window).std())\n",
    "    df_sales['매출_증감률'] = df_sales.groupby(['상권명', '업종명'])['매출_금액'].transform(lambda x: x.pct_change(periods=rolling_window))\n",
    "    df_sales['매출_안정성'] = df_sales.groupby(['상권명', '업종명'])['매출_금액'].transform(lambda x: x.median() / (x.std() + 1))\n",
    "    df_sales['매출_감소율'] = df_sales.groupby(['상권명', '업종명'])['매출_금액'].transform(lambda x: (x.shift(rolling_window) - x) / (x.shift(rolling_window) + 1))\n",
    "    df_sales['소비_전환율'] = df_sales['매출_금액'] / (df_sales['유동인구수'] + 1)\n",
    "\n",
    "# 개폐업 관련 변수 생성\n",
    "if '개업_점포_수' in df_general.columns and '폐업_점포_수' in df_general.columns:\n",
    "    df_general['개폐업_비율'] = df_general['폐업_점포_수'] / (df_general['개업_점포_수'] + 1)\n",
    "    df_general['개폐업_균형_지수'] = (df_general['개업_점포_수'] - df_general['폐업_점포_수']) / (df_general['개업_점포_수'] + df_general['폐업_점포_수'] + 1) * 100\n",
    "\n",
    "# 프랜차이즈 관련 변수 생성\n",
    "if '프랜차이즈_점포_수' in df_general.columns and '점포_수' in df_general.columns:\n",
    "    df_general['프랜차이즈_비율'] = df_general['프랜차이즈_점포_수'] / df_general['점포_수']\n",
    "    df_general['프랜차이즈_변동성'] = df_general.groupby(['상권명', '업종명'])['프랜차이즈_점포_수'].transform(lambda x: x.rolling(rolling_window).std())\n",
    "\n",
    "# 영업 개월 차이\n",
    "df_general['영업_개월_차이'] = df_general.groupby(['상권명', '업종명']).apply(lambda x: x['서울_운영_영업_개월_평균'].rolling(rolling_window).mean() - x['서울_폐업_영업_개월_평균'].rolling(rolling_window).mean()).reset_index(level=[0,1], drop=True)\n",
    "\n",
    "# 점포 생존율\n",
    "if '점포_수' in df_general.columns and '폐업_점포_수' in df_general.columns:\n",
    "    df_general['점포_생존율'] = 1 - (df_general['폐업_점포_수'] / df_general['점포_수'])\n",
    "\n",
    "# 유사업종 경쟁 강도\n",
    "if '유사_업종_점포_수' in df_general.columns and '점포_수' in df_general.columns:\n",
    "    df_general['유사_업종_경쟁_강도'] = df_general['유사_업종_점포_수'] / df_general['점포_수']\n",
    "\n",
    "df_general[\"점포_증감률\"] = df_general.groupby([\"상권명\", \"업종명\"])[\"점포_수\"].transform(lambda x: (x - x.shift(1)) / (x.shift(1) + 1) * 100)\n",
    "\n",
    "# 데이터 저장\n",
    "df_general.to_csv(\"C:\\\\Users\\\\m\\\\Desktop\\\\변수 생성용 데이터\\\\서울시_상권분석_서비스_일반변수.csv\", index=False)\n",
    "df_sales.to_csv(\"C:\\\\Users\\\\m\\\\Desktop\\\\변수 생성용 데이터\\\\서울시_상권분석_서비스_매출변수.csv\", index=False)\n",
    "\n",
    "print(\"변수 생성 완료: 일반 변수(df_general)와 매출 변수(df_sales) 각각 저장됨.\")"
   ]
  },
  {
   "cell_type": "markdown",
   "metadata": {},
   "source": [
    "1️⃣ 📂 서울시_상권분석_서비스_매출추가_결과.csv\n",
    "(매출 데이터를 포함한 파일 → df_sales)\n",
    "\n",
    "- 매출 변동성\n",
    "\n",
    "4개 분기 매출의 표준편차\n",
    "\n",
    "- 매출 증감률\n",
    "\n",
    "(현재 분기의 매출 - 4개 분기 전의 매출) / 4개 분기 전의 매출\n",
    "\n",
    "* 매출 안정성 (매출_안정성)\n",
    "\n",
    "매출 금액의 중위값을 표준편차로 나눈 값으로, 매출 변동성을 고려한 안정성 지표.\n",
    "계산식: 매출_금액의 중위값 / (표준편차 + 1)\n",
    "\n",
    "\n",
    "- 매출 감소율 (매출_감소율)\n",
    "\n",
    "이전 분기 대비 현재 분기의 매출 감소 비율을 나타냄.\n",
    "계산식: (이전 분기 매출 - 현재 분기 매출) / (이전 분기 매출 + 1)\n",
    "groupby(['상권명', '업종명'])을 이용해 분기별로 변화량 계산.\n",
    "\n",
    "* 소비 전환율 (소비_전환율)\n",
    "\n",
    "유동인구 대비 실제 매출이 발생하는 비율을 나타냄.\n",
    "계산식: 매출_금액 / (유동인구수 + 1)\n",
    "\n",
    "* 유동인구 안정성 (유동인구_안정성)\n",
    "\n",
    "유동인구의 평균값을 표준편차로 나눈 값으로, 유동인구 변동성을 고려한 안정성 지표.\n",
    "계산식: 유동인구수의 평균 / (표준편차 + 1)\n",
    "\n",
    "2️⃣ 📂 서울시_상권분석_서비스_컬럼제거_결과.csv\n",
    "(일반적인 상권 데이터 → df_general)\n",
    "\n",
    "추가된 변수\n",
    "\n",
    "- 점포 수 변동성 (점포_수_변동성)\n",
    "\n",
    "각 상권의 점포 수 변동성을 반영하기 위해 이전 분기 대비 표준편차를 계산.\n",
    "계산식: 점포_수의 rolling std()\n",
    "\n",
    "* 개폐업 비율 (개폐업_비율)\n",
    "\n",
    "폐업 점포 수를 개업 점포 수로 나눈 값으로, 상권 내 점포 변화 정도를 평가.\n",
    "계산식: 폐업_점포_수 / (개업_점포_수 + 1)\n",
    "\n",
    "* 개폐업 균형 지수 (개폐업_균형_지수)\n",
    "\n",
    "개업과 폐업 간의 균형을 측정하는 지표.\n",
    "계산식: (개업_점포_수 - 폐업_점포_수) / (개업_점포_수 + 폐업_점포_수 + 1) * 100\n",
    "양수면 개업이 많고, 음수면 폐업이 많음을 의미.\n",
    "\n",
    "- 프랜차이즈 비율 (프랜차이즈_비율)\n",
    "\n",
    "전체 점포 중 프랜차이즈 점포가 차지하는 비율을 나타냄.\n",
    "계산식: 프랜차이즈_점포_수 / 점포_수\n",
    "\n",
    "- 프랜차이즈 변동성 (프랜차이즈_변동성)\n",
    "\n",
    "프랜차이즈 점포 수의 변동성을 평가하기 위해 rolling std() 계산.\n",
    "계산식: 프랜차이즈_점포_수의 rolling std()\n",
    "\n",
    "* 영업 개월 차이 (영업_개월_차이)\n",
    "\n",
    "운영 중인 점포의 평균 영업 개월 수와 폐업한 점포의 평균 영업 개월 수 차이.\n",
    "계산식: 영업_개월_평균 - 폐업_영업_개월_평균\n",
    "값이 크면 기존 점포들이 오래 운영되었다는 의미.\n",
    "\n",
    "* 점포 증감률 (점포_증감률)\n",
    "\n",
    "이전 분기 대비 점포 수 증가율을 나타냄.\n",
    "계산식: (점포_수 - 이전 분기 점포 수) / 이전 분기 점포 수 * 100\n",
    "값이 크면 점포가 많이 늘어나고 있다는 의미.\n",
    "\n",
    "* 점포 생존율 (점포_생존율)\n",
    "\n",
    "폐업 점포 수를 고려한 전체 점포 생존 비율.\n",
    "계산식: 1 - (폐업_점포_수 / 점포_수)\n",
    "1에 가까울수록 점포가 유지되는 비율이 높음.\n",
    "\n",
    "* 유사업종 경쟁 강도 (유사업종_경쟁_강도)\n",
    "\n",
    "특정 상권 내 같은 업종의 점포 비율을 나타냄.\n",
    "계산식: 유사 업종 점포 수 / 점포 수\n",
    "값이 높을수록 특정 업종에 대한 경쟁이 치열함을 의미."
   ]
  },
  {
   "cell_type": "markdown",
   "metadata": {},
   "source": [
    "매출 변수 파일 확인 결과 : 매출 변동성, 매출 증감률, 매출 감소율열에서 간혹 null값이 발견됨. 분석시 null값을 제외하고 분석하도록 해야 할듯. 매출 증감률, 매출 감소율열 20223, 20193분기에서 null 자주 발생. 매출 변동성열 20192분기까지 null."
   ]
  },
  {
   "cell_type": "markdown",
   "metadata": {},
   "source": [
    "일반 변수 파일 확인 결과 : 점포 수 변동성, 프랜차이즈 변동성 열에서 20192분기까지 null. 점포 수 증감률 열에서 20193분기까지 null 다수. 프랜차이즈 비율 열에서 일부 값 inf로 출력됨."
   ]
  },
  {
   "cell_type": "markdown",
   "metadata": {},
   "source": [
    "상관계수 분석"
   ]
  },
  {
   "cell_type": "code",
   "execution_count": null,
   "metadata": {},
   "outputs": [
    {
     "name": "stdout",
     "output_type": "stream",
     "text": [
      "               매출_안정성    소비_전환율  유동인구_안정성    개폐업_비율  개폐업_균형_지수  영업_개월_차이  \\\n",
      "매출_안정성       1.000000  0.001468  0.001371 -0.005634   0.000500  0.003422   \n",
      "소비_전환율       0.001468  1.000000 -0.001270 -0.001090  -0.000338  0.003432   \n",
      "유동인구_안정성     0.001371 -0.001270  1.000000  0.002101   0.013247  0.021076   \n",
      "개폐업_비율      -0.005634 -0.001090  0.002101  1.000000  -0.583075  0.017894   \n",
      "개폐업_균형_지수    0.000500 -0.000338  0.013247 -0.583075   1.000000 -0.027094   \n",
      "영업_개월_차이     0.003422  0.003432  0.021076  0.017894  -0.027094  1.000000   \n",
      "점포_증감률       0.001052 -0.000518  0.024857 -0.116838   0.284213  0.009570   \n",
      "점포_생존율       0.004716  0.000936 -0.000786 -0.414619   0.374895 -0.000105   \n",
      "유사_업종_경쟁_강도 -0.002086 -0.000581  0.003802  0.017075  -0.002430 -0.006245   \n",
      "\n",
      "               점포_증감률    점포_생존율  유사_업종_경쟁_강도  \n",
      "매출_안정성       0.001052  0.004716    -0.002086  \n",
      "소비_전환율      -0.000518  0.000936    -0.000581  \n",
      "유동인구_안정성     0.024857 -0.000786     0.003802  \n",
      "개폐업_비율      -0.116838 -0.414619     0.017075  \n",
      "개폐업_균형_지수    0.284213  0.374895    -0.002430  \n",
      "영업_개월_차이     0.009570 -0.000105    -0.006245  \n",
      "점포_증감률       1.000000  0.111010     0.019419  \n",
      "점포_생존율       0.111010  1.000000    -0.338384  \n",
      "유사_업종_경쟁_강도  0.019419 -0.338384     1.000000  \n"
     ]
    }
   ],
   "source": [
    "import pandas as pd\n",
    "\n",
    "# 파일 경로\n",
    "file_general = \"C:\\\\Users\\\\m\\\\Desktop\\\\변수 생성용 데이터\\\\서울시_상권분석_서비스_일반변수.csv\"\n",
    "file_sales = \"C:\\\\Users\\\\m\\\\Desktop\\\\변수 생성용 데이터\\\\서울시_상권분석_서비스_매출변수.csv\"\n",
    "\n",
    "# 데이터 로드\n",
    "df_general = pd.read_csv(file_general)\n",
    "df_sales = pd.read_csv(file_sales)\n",
    "\n",
    "# 필요한 컬럼만 선택\n",
    "selected_columns = [\n",
    "    \"매출_안정성\", \"소비_전환율\", \"유동인구_안정성\",\n",
    "    \"개폐업_비율\", \"개폐업_균형_지수\", \"영업_개월_차이\",\n",
    "    \"점포_증감률\", \"점포_생존율\", \"유사_\n",
    "    업종_경쟁_강도\"\n",
    "]\n",
    "\n",
    "# 데이터 병합 (공통된 키: 연분기, 상권명, 업종명)\n",
    "df_merged = pd.merge(df_general, df_sales, on=[\"연분기\", \"상권명\", \"업종명\"], how=\"inner\")\n",
    "\n",
    "# 선택한 컬럼만 필터링\n",
    "df_selected = df_merged[selected_columns]\n",
    "\n",
    "# 상관계수 계산\n",
    "correlation_matrix = df_selected.corr()\n",
    "\n",
    "# 상관계수 출력\n",
    "print(correlation_matrix)"
   ]
  },
  {
   "cell_type": "code",
   "execution_count": 14,
   "metadata": {},
   "outputs": [
    {
     "name": "stdout",
     "output_type": "stream",
     "text": [
      "Index(['연분기', '상권명', '업종명', '점포_수', '유사_업종_점포_수', '개업율', '개업_점포_수', '폐업률',\n",
      "       '폐업_점포_수', '프랜차이즈_점포_수', '자치구명', '서울_운영_영업_개월_평균', '서울_폐업_영업_개월_평균',\n",
      "       '점포_수_변동성', '점포_수_증감률', '개폐업_비율', '개폐업_균형_지수', '프랜차이즈_비율', '프랜차이즈_변동성',\n",
      "       '영업_개월_차이', '점포_생존율', '유사_업종_경쟁_강도', '점포_증감률', '매출_금액', '매출_건수',\n",
      "       '유동인구수', '유동인구_안정성', '매출_변동성', '매출_증감률', '매출_안정성', '매출_감소율', '소비_전환율'],\n",
      "      dtype='object')\n"
     ]
    }
   ],
   "source": [
    "import pandas as pd\n",
    "\n",
    "# 데이터 불러오기\n",
    "file_general = r\"C:\\Users\\m\\Desktop\\변수 생성용 데이터\\서울시_상권분석_서비스_일반변수.csv\"\n",
    "file_sales = r\"C:\\Users\\m\\Desktop\\변수 생성용 데이터\\서울시_상권분석_서비스_매출변수.csv\"\n",
    "\n",
    "df_general = pd.read_csv(file_general, encoding=\"utf-8\")\n",
    "df_sales = pd.read_csv(file_sales, encoding=\"utf-8\")\n",
    "\n",
    "# 병합 (중복 컬럼 제거)\n",
    "df = pd.merge(df_general, df_sales, on=[\"연분기\", \"상권명\", \"업종명\"], how=\"inner\")\n",
    "\n",
    "# _x, _y로 중복된 컬럼 처리 (일반적으로 동일한 데이터이므로 하나만 유지)\n",
    "for col in df.columns:\n",
    "    if col.endswith(\"_x\"):  # \"_x\"가 붙은 컬럼만 확인\n",
    "        base_col = col[:-2]  # \"_x\" 제거\n",
    "        if base_col + \"_y\" in df.columns:  # 동일한 _y 컬럼이 있으면 삭제\n",
    "            df.drop(columns=[base_col + \"_y\"], inplace=True)\n",
    "        df.rename(columns={col: base_col}, inplace=True)  # _x를 원래 이름으로 변경\n",
    "\n",
    "# 컬럼명 확인\n",
    "print(df.columns)"
   ]
  },
  {
   "cell_type": "code",
   "execution_count": 18,
   "metadata": {},
   "outputs": [
    {
     "name": "stderr",
     "output_type": "stream",
     "text": [
      "c:\\Users\\m\\anaconda3\\Lib\\site-packages\\seaborn\\utils.py:61: UserWarning: Glyph 8722 (\\N{MINUS SIGN}) missing from font(s) Malgun Gothic.\n",
      "  fig.canvas.draw()\n",
      "c:\\Users\\m\\anaconda3\\Lib\\site-packages\\IPython\\core\\pylabtools.py:170: UserWarning: Glyph 8722 (\\N{MINUS SIGN}) missing from font(s) Malgun Gothic.\n",
      "  fig.canvas.print_figure(bytes_io, **kw)\n"
     ]
    },
    {
     "data": {
      "image/png": "[encoded data removed]",
      "text/plain": [
       "<Figure size 800x600 with 2 Axes>"
      ]
     },
     "metadata": {},
     "output_type": "display_data"
    }
   ],
   "source": [
    "import matplotlib.pyplot as plt\n",
    "import matplotlib.font_manager as fm\n",
    "\n",
    "# 한글 폰트 설정 (예: 맑은 고딕)\n",
    "plt.rc(\"font\", family=\"Malgun Gothic\")\n",
    "\n",
    "# 사용할 변수 선택\n",
    "selected_cols = [\n",
    "    \"개업율\", \"폐업률\", \"점포_생존율\", \"유사_업종_경쟁_강도\", \"매출_금액\", \"매출_건수\", \"유동인구수\", \"유동인구_안정성\", \"매출_변동성\", \"매출_증감률\", \"매출_안정성\", \"매출_감소율\", \"소비_전환율\"\n",
    "]\n",
    "df_selected = df[selected_cols]\n",
    "\n",
    "# 상관관계 계산\n",
    "corr_matrix = df_selected.corr()\n",
    "\n",
    "# 히트맵 시각화\n",
    "plt.figure(figsize=(8, 6))\n",
    "sns.heatmap(corr_matrix, annot=True, cmap=\"coolwarm\", fmt=\".3f\", linewidths=0.5)\n",
    "plt.title(\"개업율, 폐업률, 점포 생존율, 유사 업종 경쟁 강도의 상관관계\")\n",
    "plt.show()"
   ]
  },
  {
   "cell_type": "markdown",
   "metadata": {},
   "source": [
    "# 안전성 지표 개발 - 김민규 담당\n",
    "\n",
    "## Step1. 안전성 라벨링 부여를 위한 기준 잡기 "
   ]
  },
  {
   "cell_type": "code",
   "execution_count": null,
   "metadata": {},
   "outputs": [
    {
     "name": "stdout",
     "output_type": "stream",
     "text": [
      "점포_생존율 컬럼의 고유 값들:\n",
      "[1.               -inf 0.9        ... 0.9813846  0.98034398 0.99774266]\n",
      "\n",
      "점포_생존율 평균: 0.9739928132103385\n",
      "점포_생존율 중앙값: 1.0\n",
      "점포_생존율 최빈값: 1.0\n"
     ]
    }
   ],
   "source": [
    "# 점포 생존율 컬럼 평균, 최빈값, 중앙값 확인\n",
    "\n",
    "import pandas as pd\n",
    "import numpy as np\n",
    "from scipy import stats\n",
    "\n",
    "# CSV 파일 불러오기\n",
    "file_path = r\"C:\\Users\\m\\Desktop\\변수 생성용 데이터\\서울시_상권분석_서비스_일반변수.csv\"\n",
    "df = pd.read_csv(file_path)\n",
    "\n",
    "# \"점포_생존율\" 컬럼 값 확인\n",
    "print(\"점포_생존율 컬럼의 고유 값들:\")\n",
    "print(df[\"점포_생존율\"].unique())\n",
    "\n",
    "# 결측치 및 무한대 값 처리\n",
    "df_filtered = df[\"점포_생존율\"].replace([np.inf, -np.inf], np.nan).dropna()\n",
    "\n",
    "# 평균, 중앙값 계산\n",
    "mean_value = df_filtered.mean()\n",
    "median_value = df_filtered.median()\n",
    "\n",
    "# 최빈값 계산 (단일 값이 아닐 수도 있으므로 대응)\n",
    "mode_result = stats.mode(df_filtered, keepdims=True)\n",
    "mode_value = mode_result.mode[0] if mode_result.mode.size > 0 else None\n",
    "\n",
    "print(f\"\\n점포_생존율 평균: {mean_value}\")\n",
    "print(f\"점포_생존율 중앙값: {median_value}\")\n",
    "print(f\"점포_생존율 최빈값: {mode_value if mode_value is not None else '최빈값 없음'}\")"
   ]
  },
  {
   "cell_type": "markdown",
   "metadata": {},
   "source": [
    "### 안정성 라벨링 하기"
   ]
  },
  {
   "cell_type": "code",
   "execution_count": 21,
   "metadata": {},
   "outputs": [
    {
     "name": "stdout",
     "output_type": "stream",
     "text": [
      "파일 저장 완료: C:\\Users\\m\\Desktop\\변수 생성용 데이터\\서울시_상권분석_서비스_일반변수_안정성추가.csv\n"
     ]
    }
   ],
   "source": [
    "import pandas as pd\n",
    "import numpy as np\n",
    "\n",
    "# CSV 파일 불러오기\n",
    "file_path = r\"C:\\Users\\m\\Desktop\\변수 생성용 데이터\\서울시_상권분석_서비스_일반변수.csv\"\n",
    "df = pd.read_csv(file_path)\n",
    "\n",
    "# 점포_생존율의 평균값 계산 (무한대 및 결측치 제외)\n",
    "df_filtered = df[\"점포_생존율\"].replace([np.inf, -np.inf], np.nan)\n",
    "mean_value = df_filtered.mean()\n",
    "\n",
    "# \"안정성\" 컬럼 추가 (평균 이상이면 \"안정\", 평균 미만이면 \"불안정\", 결측치는 \"NULL\")\n",
    "df[\"안정성\"] = df_filtered.apply(lambda x: \"안정\" if x >= mean_value else (\"불안정\" if pd.notna(x) else \"NULL\"))\n",
    "\n",
    "# 새로운 파일로 저장\n",
    "output_path = r\"C:\\Users\\m\\Desktop\\변수 생성용 데이터\\서울시_상권분석_서비스_일반변수_안정성추가.csv\"\n",
    "df.to_csv(output_path, index=False, encoding=\"utf-8-sig\")\n",
    "\n",
    "print(f\"파일 저장 완료: {output_path}\")"
   ]
  },
  {
   "cell_type": "code",
   "execution_count": 23,
   "metadata": {},
   "outputs": [
    {
     "name": "stderr",
     "output_type": "stream",
     "text": [
      "C:\\Users\\m\\AppData\\Local\\Temp\\ipykernel_3212\\915862682.py:12: FutureWarning: A value is trying to be set on a copy of a DataFrame or Series through chained assignment using an inplace method.\n",
      "The behavior will change in pandas 3.0. This inplace method will never work because the intermediate object on which we are setting values always behaves as a copy.\n",
      "\n",
      "For example, when doing 'df[col].method(value, inplace=True)', try using 'df.method({col: value}, inplace=True)' or df[col] = df[col].method(value) instead, to perform the operation inplace on the original object.\n",
      "\n",
      "\n",
      "  df[\"점포_생존율\"].replace([np.inf, -np.inf], np.nan, inplace=True)\n"
     ]
    },
    {
     "name": "stdout",
     "output_type": "stream",
     "text": [
      "파일 저장 완료: C:\\Users\\m\\Desktop\\변수 생성용 데이터\\서울시_상권분석_서비스_매출변수_안정성추가.csv\n"
     ]
    }
   ],
   "source": [
    "import pandas as pd\n",
    "import numpy as np\n",
    "\n",
    "# CSV 파일 불러오기\n",
    "file_path = r\"C:\\Users\\m\\Desktop\\변수 생성용 데이터\\서울시_상권분석_서비스_매출변수.csv\"\n",
    "df = pd.read_csv(file_path)\n",
    "\n",
    "# 점포_생존율 계산 (1 - 폐업_점포_수 / 점포_수)\n",
    "df[\"점포_생존율\"] = 1 - (df[\"폐업_점포_수\"] / df[\"점포_수\"])\n",
    "\n",
    "# inf, -inf 값 제거 및 NaN 변환\n",
    "df[\"점포_생존율\"].replace([np.inf, -np.inf], np.nan, inplace=True)\n",
    "\n",
    "# 점포_생존율의 평균값 계산\n",
    "mean_value = df[\"점포_생존율\"].mean()\n",
    "\n",
    "# \"안정성\" 컬럼 추가 (평균 이상이면 \"안정\", 평균 미만이면 \"불안정\", 결측치는 \"NULL\")\n",
    "df[\"안정성\"] = df[\"점포_생존율\"].apply(lambda x: \"안정\" if x >= mean_value else (\"불안정\" if pd.notna(x) else \"NULL\"))\n",
    "\n",
    "# 새로운 파일로 저장\n",
    "output_path = r\"C:\\Users\\m\\Desktop\\변수 생성용 데이터\\서울시_상권분석_서비스_매출변수_안정성추가.csv\"\n",
    "df.to_csv(output_path, index=False, encoding=\"utf-8-sig\")\n",
    "\n",
    "print(f\"파일 저장 완료: {output_path}\")"
   ]
  },
  {
   "cell_type": "markdown",
   "metadata": {},
   "source": [
    "두 데이터의 평균의 차이 확인. 다시 라벨링. 비율 확인 결과 최빈값, 중앙값인 1로 설정."
   ]
  },
  {
   "cell_type": "code",
   "execution_count": 24,
   "metadata": {},
   "outputs": [
    {
     "name": "stdout",
     "output_type": "stream",
     "text": [
      "📌 매출 변수 파일의 점포_생존율\n",
      "- 평균: 0.9635622948021249\n",
      "- 중앙값: 1.0\n",
      "- 최빈값: 1.0\n",
      "\n",
      "📌 일반 변수 파일의 점포_생존율\n",
      "- 평균: 0.9739928132103385\n",
      "- 중앙값: 1.0\n",
      "- 최빈값: 1.0\n"
     ]
    },
    {
     "name": "stderr",
     "output_type": "stream",
     "text": [
      "C:\\Users\\m\\AppData\\Local\\Temp\\ipykernel_3212\\3264130912.py:17: FutureWarning: A value is trying to be set on a copy of a DataFrame or Series through chained assignment using an inplace method.\n",
      "The behavior will change in pandas 3.0. This inplace method will never work because the intermediate object on which we are setting values always behaves as a copy.\n",
      "\n",
      "For example, when doing 'df[col].method(value, inplace=True)', try using 'df.method({col: value}, inplace=True)' or df[col] = df[col].method(value) instead, to perform the operation inplace on the original object.\n",
      "\n",
      "\n",
      "  df_sales[\"점포_생존율\"].replace([np.inf, -np.inf], np.nan, inplace=True)\n",
      "C:\\Users\\m\\AppData\\Local\\Temp\\ipykernel_3212\\3264130912.py:18: FutureWarning: A value is trying to be set on a copy of a DataFrame or Series through chained assignment using an inplace method.\n",
      "The behavior will change in pandas 3.0. This inplace method will never work because the intermediate object on which we are setting values always behaves as a copy.\n",
      "\n",
      "For example, when doing 'df[col].method(value, inplace=True)', try using 'df.method({col: value}, inplace=True)' or df[col] = df[col].method(value) instead, to perform the operation inplace on the original object.\n",
      "\n",
      "\n",
      "  df_general[\"점포_생존율\"].replace([np.inf, -np.inf], np.nan, inplace=True)\n"
     ]
    }
   ],
   "source": [
    "import pandas as pd\n",
    "import numpy as np\n",
    "from scipy import stats\n",
    "\n",
    "# 파일 경로\n",
    "file_path_sales = r\"C:\\Users\\m\\Desktop\\변수 생성용 데이터\\서울시_상권분석_서비스_매출변수.csv\"\n",
    "file_path_general = r\"C:\\Users\\m\\Desktop\\변수 생성용 데이터\\서울시_상권분석_서비스_일반변수.csv\"\n",
    "\n",
    "# 파일 불러오기\n",
    "df_sales = pd.read_csv(file_path_sales)\n",
    "df_general = pd.read_csv(file_path_general)\n",
    "\n",
    "# 매출 변수 파일의 점포_생존율 계산 (1 - (폐업_점포_수 / 점포_수))\n",
    "df_sales[\"점포_생존율\"] = 1 - (df_sales[\"폐업_점포_수\"] / df_sales[\"점포_수\"])\n",
    "\n",
    "# inf, -inf, NaN 값 제거\n",
    "df_sales[\"점포_생존율\"].replace([np.inf, -np.inf], np.nan, inplace=True)\n",
    "df_general[\"점포_생존율\"].replace([np.inf, -np.inf], np.nan, inplace=True)\n",
    "\n",
    "# 유효한 값만 필터링 (결측치 제거)\n",
    "df_sales_filtered = df_sales[\"점포_생존율\"].dropna()\n",
    "df_general_filtered = df_general[\"점포_생존율\"].dropna()\n",
    "\n",
    "# 평균, 중앙값, 최빈값 계산 함수\n",
    "def calculate_stats(series):\n",
    "    mean_value = series.mean()\n",
    "    median_value = series.median()\n",
    "    mode_value = stats.mode(series, keepdims=True)[0][0]  # 최빈값\n",
    "    return mean_value, median_value, mode_value\n",
    "\n",
    "# 매출 변수 파일의 점포_생존율 통계\n",
    "mean_sales, median_sales, mode_sales = calculate_stats(df_sales_filtered)\n",
    "\n",
    "# 일반 변수 파일의 점포_생존율 통계\n",
    "mean_general, median_general, mode_general = calculate_stats(df_general_filtered)\n",
    "\n",
    "# 결과 출력\n",
    "print(\"📌 매출 변수 파일의 점포_생존율\")\n",
    "print(f\"- 평균: {mean_sales}\")\n",
    "print(f\"- 중앙값: {median_sales}\")\n",
    "print(f\"- 최빈값: {mode_sales}\\n\")\n",
    "\n",
    "print(\"📌 일반 변수 파일의 점포_생존율\")\n",
    "print(f\"- 평균: {mean_general}\")\n",
    "print(f\"- 중앙값: {median_general}\")\n",
    "print(f\"- 최빈값: {mode_general}\")"
   ]
  },
  {
   "cell_type": "code",
   "execution_count": 31,
   "metadata": {},
   "outputs": [
    {
     "name": "stdout",
     "output_type": "stream",
     "text": [
      "파일 저장 완료: C:\\Users\\m\\Desktop\\변수 생성용 데이터\\서울시_상권분석_서비스_매출변수_안정성추가.csv\n"
     ]
    }
   ],
   "source": [
    "import pandas as pd\n",
    "import numpy as np\n",
    "\n",
    "# 파일 불러오기\n",
    "file_path = r\"C:\\Users\\m\\Desktop\\변수 생성용 데이터\\서울시_상권분석_서비스_매출변수.csv\"\n",
    "df_sales = pd.read_csv(file_path)\n",
    "\n",
    "# 점포_생존율 계산 (0으로 나누는 경우 대비)\n",
    "df_sales[\"점포_생존율\"] = 1 - (df_sales[\"폐업_점포_수\"] / df_sales[\"점포_수\"]).replace([np.inf, -np.inf], np.nan)\n",
    "\n",
    "# 기준 평균값 (매출 변수 파일 기준)\n",
    "threshold = 1\n",
    "\n",
    "# 안정성 컬럼 생성\n",
    "df_sales[\"안정성\"] = np.where(df_sales[\"점포_생존율\"] >= threshold, \"안정\", \"불안정\")\n",
    "df_sales.loc[df_sales[\"점포_생존율\"].isna(), \"안정성\"] = \"NULL\"  # 결측치는 NULL로 표시\n",
    "\n",
    "# 새로운 파일로 저장\n",
    "output_path = r\"C:\\Users\\m\\Desktop\\변수 생성용 데이터\\서울시_상권분석_서비스_매출변수_안정성추가.csv\"\n",
    "df_sales.to_csv(output_path, index=False, encoding=\"utf-8-sig\")\n",
    "\n",
    "print(f\"파일 저장 완료: {output_path}\")"
   ]
  },
  {
   "cell_type": "code",
   "execution_count": 32,
   "metadata": {},
   "outputs": [
    {
     "name": "stdout",
     "output_type": "stream",
     "text": [
      "파일 저장 완료: C:\\Users\\m\\Desktop\\변수 생성용 데이터\\서울시_상권분석_서비스_일반변수_안정성추가.csv\n"
     ]
    }
   ],
   "source": [
    "import pandas as pd\n",
    "import numpy as np\n",
    "\n",
    "# 파일 불러오기\n",
    "file_path = r\"C:\\Users\\m\\Desktop\\변수 생성용 데이터\\서울시_상권분석_서비스_일반변수.csv\"\n",
    "df_general = pd.read_csv(file_path)\n",
    "\n",
    "# 점포_생존율 컬럼의 inf, -inf를 NaN으로 변환\n",
    "df_general[\"점포_생존율\"] = df_general[\"점포_생존율\"].replace([np.inf, -np.inf], np.nan)\n",
    "\n",
    "# 기준 평균값 (매출 변수 파일 기준)\n",
    "threshold = 1\n",
    "\n",
    "# 안정성 컬럼 생성\n",
    "df_general[\"안정성\"] = np.where(df_general[\"점포_생존율\"] >= threshold, \"안정\", \"불안정\")\n",
    "df_general.loc[df_general[\"점포_생존율\"].isna(), \"안정성\"] = \"NULL\"  # 결측치는 NULL로 표시\n",
    "\n",
    "# 새로운 파일로 저장\n",
    "output_path = r\"C:\\Users\\m\\Desktop\\변수 생성용 데이터\\서울시_상권분석_서비스_일반변수_안정성추가.csv\"\n",
    "df_general.to_csv(output_path, index=False, encoding=\"utf-8-sig\")\n",
    "\n",
    "print(f\"파일 저장 완료: {output_path}\")"
   ]
  },
  {
   "cell_type": "markdown",
   "metadata": {},
   "source": [
    "라벨링 비율 확인"
   ]
  },
  {
   "cell_type": "code",
   "execution_count": 33,
   "metadata": {},
   "outputs": [
    {
     "name": "stdout",
     "output_type": "stream",
     "text": [
      "\n",
      "✅ 매출 변수 파일 안정성 비율:\n",
      "안정성\n",
      "안정     76.8%\n",
      "불안정    23.2%\n",
      "Name: proportion, dtype: object\n",
      "\n",
      "✅ 일반 변수 파일 안정성 비율:\n",
      "안정성\n",
      "안정     90.1%\n",
      "불안정     9.9%\n",
      "Name: proportion, dtype: object\n"
     ]
    }
   ],
   "source": [
    "# 파일 경로 설정\n",
    "file_paths = {\n",
    "    \"매출 변수 파일\": r\"C:\\Users\\m\\Desktop\\변수 생성용 데이터\\서울시_상권분석_서비스_매출변수_안정성추가.csv\",\n",
    "    \"일반 변수 파일\": r\"C:\\Users\\m\\Desktop\\변수 생성용 데이터\\서울시_상권분석_서비스_일반변수_안정성추가.csv\"\n",
    "}\n",
    "\n",
    "# 각 파일에서 안정성 컬럼 비율 계산\n",
    "for file_name, path in file_paths.items():\n",
    "    # 파일 불러오기\n",
    "    df = pd.read_csv(path)\n",
    "\n",
    "    # 안정성 컬럼의 비율 계산\n",
    "    stability_ratio = df[\"안정성\"].value_counts(normalize=True) * 100  # 백분율 변환\n",
    "\n",
    "    # 출력\n",
    "    print(f\"\\n✅ {file_name} 안정성 비율:\")\n",
    "    print(stability_ratio.round(1).astype(str) + \"%\")  # 소수점 1자리까지 표시"
   ]
  },
  {
   "cell_type": "markdown",
   "metadata": {},
   "source": [
    "상위 0.1퍼센트 값 확인"
   ]
  },
  {
   "cell_type": "code",
   "execution_count": 38,
   "metadata": {},
   "outputs": [
    {
     "name": "stdout",
     "output_type": "stream",
     "text": [
      "✅ 매출 변수 파일 점포 생존율 상위 20% 값: 1.000000\n",
      "✅ 일반 변수 파일 점포 생존율 상위 20% 값: 1.000000\n"
     ]
    }
   ],
   "source": [
    "# 각 파일에서 상위 20% 점포 생존율 값 계산\n",
    "for file_name, path in file_paths.items():\n",
    "    # 파일 불러오기\n",
    "    df = pd.read_csv(path)\n",
    "\n",
    "    # 점포_생존율 컬럼이 존재하는지 확인 후 처리\n",
    "    if \"점포_생존율\" not in df.columns:\n",
    "        print(f\"⚠ {file_name}에 '점포_생존율' 컬럼이 없음.\")\n",
    "        continue\n",
    "\n",
    "    # 점포_생존율 컬럼에서 inf 및 NaN 값 제거\n",
    "    df_filtered = df[\"점포_생존율\"].replace([np.inf, -np.inf], np.nan).dropna()\n",
    "\n",
    "    # 상위 20% (80번째 백분위수) 값 계산\n",
    "    top_20_percentile = df_filtered.quantile(0.999)\n",
    "\n",
    "    # 출력\n",
    "    print(f\"✅ {file_name} 점포 생존율 상위 20% 값: {top_20_percentile:.6f}\")\n"
   ]
  },
  {
   "cell_type": "markdown",
   "metadata": {},
   "source": [
    "상위 데이터 출력"
   ]
  },
  {
   "cell_type": "code",
   "execution_count": 40,
   "metadata": {},
   "outputs": [
    {
     "name": "stdout",
     "output_type": "stream",
     "text": [
      "\n",
      "✅ 매출 변수 파일 상위 20개 점포 생존율 값:\n",
      "1.0\n",
      "1.0\n",
      "1.0\n",
      "1.0\n",
      "1.0\n",
      "1.0\n",
      "1.0\n",
      "1.0\n",
      "1.0\n",
      "1.0\n",
      "1.0\n",
      "1.0\n",
      "1.0\n",
      "1.0\n",
      "1.0\n",
      "1.0\n",
      "1.0\n",
      "1.0\n",
      "1.0\n",
      "1.0\n",
      "\n",
      "✅ 일반 변수 파일 상위 20개 점포 생존율 값:\n",
      "1.0\n",
      "1.0\n",
      "1.0\n",
      "1.0\n",
      "1.0\n",
      "1.0\n",
      "1.0\n",
      "1.0\n",
      "1.0\n",
      "1.0\n",
      "1.0\n",
      "1.0\n",
      "1.0\n",
      "1.0\n",
      "1.0\n",
      "1.0\n",
      "1.0\n",
      "1.0\n",
      "1.0\n",
      "1.0\n"
     ]
    }
   ],
   "source": [
    "# 파일 경로 설정\n",
    "file_paths = {\n",
    "    \"매출 변수 파일\": r\"C:\\Users\\m\\Desktop\\변수 생성용 데이터\\서울시_상권분석_서비스_매출변수_안정성추가.csv\",\n",
    "    \"일반 변수 파일\": r\"C:\\Users\\m\\Desktop\\변수 생성용 데이터\\서울시_상권분석_서비스_일반변수_안정성추가.csv\"\n",
    "}\n",
    "\n",
    "# 상위 몇 개 데이터를 출력할지 설정\n",
    "top_n = 20  # 예: 상위 20개 데이터 출력\n",
    "\n",
    "for file_name, path in file_paths.items():\n",
    "    # 파일 불러오기\n",
    "    df = pd.read_csv(path)\n",
    "\n",
    "    # 점포_생존율 컬럼 확인 후 처리\n",
    "    if \"점포_생존율\" not in df.columns:\n",
    "        print(f\"⚠ {file_name}에 '점포_생존율' 컬럼이 없음.\")\n",
    "        continue\n",
    "\n",
    "    # 점포_생존율 컬럼에서 inf 및 NaN 값 제거\n",
    "    df_filtered = df[\"점포_생존율\"].replace([np.inf, -np.inf], np.nan).dropna()\n",
    "\n",
    "    # 내림차순 정렬 후 상위 N개 데이터 출력\n",
    "    top_values = df_filtered.sort_values(ascending=False).head(top_n)\n",
    "\n",
    "    # 출력\n",
    "    print(f\"\\n✅ {file_name} 상위 {top_n}개 점포 생존율 값:\")\n",
    "    print(top_values.to_string(index=False))"
   ]
  },
  {
   "cell_type": "markdown",
   "metadata": {},
   "source": [
    "폐업률 컬럼 분포 확인"
   ]
  },
  {
   "cell_type": "code",
   "execution_count": 42,
   "metadata": {},
   "outputs": [
    {
     "name": "stdout",
     "output_type": "stream",
     "text": [
      "\n",
      "✅ 매출 변수 파일 폐업률 통계값\n",
      "- 최솟값: 0\n",
      "- 최댓값: 133\n",
      "- 평균값: 2.7262164988711395\n",
      "- 중앙값: 0.0\n",
      "- 최빈값: 0\n"
     ]
    },
    {
     "name": "stderr",
     "output_type": "stream",
     "text": [
      "c:\\Users\\m\\anaconda3\\Lib\\site-packages\\IPython\\core\\pylabtools.py:170: UserWarning: Glyph 54224 (\\N{HANGUL SYLLABLE PYE}) missing from font(s) Arial.\n",
      "  fig.canvas.print_figure(bytes_io, **kw)\n",
      "c:\\Users\\m\\anaconda3\\Lib\\site-packages\\IPython\\core\\pylabtools.py:170: UserWarning: Glyph 50629 (\\N{HANGUL SYLLABLE EOB}) missing from font(s) Arial.\n",
      "  fig.canvas.print_figure(bytes_io, **kw)\n",
      "c:\\Users\\m\\anaconda3\\Lib\\site-packages\\IPython\\core\\pylabtools.py:170: UserWarning: Glyph 47456 (\\N{HANGUL SYLLABLE RYUL}) missing from font(s) Arial.\n",
      "  fig.canvas.print_figure(bytes_io, **kw)\n",
      "c:\\Users\\m\\anaconda3\\Lib\\site-packages\\IPython\\core\\pylabtools.py:170: UserWarning: Glyph 48712 (\\N{HANGUL SYLLABLE BIN}) missing from font(s) Arial.\n",
      "  fig.canvas.print_figure(bytes_io, **kw)\n",
      "c:\\Users\\m\\anaconda3\\Lib\\site-packages\\IPython\\core\\pylabtools.py:170: UserWarning: Glyph 46020 (\\N{HANGUL SYLLABLE DO}) missing from font(s) Arial.\n",
      "  fig.canvas.print_figure(bytes_io, **kw)\n",
      "c:\\Users\\m\\anaconda3\\Lib\\site-packages\\IPython\\core\\pylabtools.py:170: UserWarning: Glyph 49688 (\\N{HANGUL SYLLABLE SU}) missing from font(s) Arial.\n",
      "  fig.canvas.print_figure(bytes_io, **kw)\n",
      "c:\\Users\\m\\anaconda3\\Lib\\site-packages\\IPython\\core\\pylabtools.py:170: UserWarning: Glyph 47588 (\\N{HANGUL SYLLABLE MAE}) missing from font(s) Arial.\n",
      "  fig.canvas.print_figure(bytes_io, **kw)\n",
      "c:\\Users\\m\\anaconda3\\Lib\\site-packages\\IPython\\core\\pylabtools.py:170: UserWarning: Glyph 52636 (\\N{HANGUL SYLLABLE CUL}) missing from font(s) Arial.\n",
      "  fig.canvas.print_figure(bytes_io, **kw)\n",
      "c:\\Users\\m\\anaconda3\\Lib\\site-packages\\IPython\\core\\pylabtools.py:170: UserWarning: Glyph 48320 (\\N{HANGUL SYLLABLE BYEON}) missing from font(s) Arial.\n",
      "  fig.canvas.print_figure(bytes_io, **kw)\n",
      "c:\\Users\\m\\anaconda3\\Lib\\site-packages\\IPython\\core\\pylabtools.py:170: UserWarning: Glyph 54028 (\\N{HANGUL SYLLABLE PA}) missing from font(s) Arial.\n",
      "  fig.canvas.print_figure(bytes_io, **kw)\n",
      "c:\\Users\\m\\anaconda3\\Lib\\site-packages\\IPython\\core\\pylabtools.py:170: UserWarning: Glyph 51068 (\\N{HANGUL SYLLABLE IL}) missing from font(s) Arial.\n",
      "  fig.canvas.print_figure(bytes_io, **kw)\n",
      "c:\\Users\\m\\anaconda3\\Lib\\site-packages\\IPython\\core\\pylabtools.py:170: UserWarning: Glyph 48516 (\\N{HANGUL SYLLABLE BUN}) missing from font(s) Arial.\n",
      "  fig.canvas.print_figure(bytes_io, **kw)\n",
      "c:\\Users\\m\\anaconda3\\Lib\\site-packages\\IPython\\core\\pylabtools.py:170: UserWarning: Glyph 54252 (\\N{HANGUL SYLLABLE PO}) missing from font(s) Arial.\n",
      "  fig.canvas.print_figure(bytes_io, **kw)\n"
     ]
    },
    {
     "data": {
      "image/png": "[encoded data removed]",
      "text/plain": [
       "<Figure size 800x500 with 1 Axes>"
      ]
     },
     "metadata": {},
     "output_type": "display_data"
    },
    {
     "name": "stdout",
     "output_type": "stream",
     "text": [
      "\n",
      "✅ 일반 변수 파일 폐업률 통계값\n",
      "- 최솟값: 0\n",
      "- 최댓값: 4800\n",
      "- 평균값: 2.305900340329155\n",
      "- 중앙값: 0.0\n",
      "- 최빈값: 0\n"
     ]
    },
    {
     "name": "stderr",
     "output_type": "stream",
     "text": [
      "c:\\Users\\m\\anaconda3\\Lib\\site-packages\\IPython\\core\\pylabtools.py:170: UserWarning: Glyph 54224 (\\N{HANGUL SYLLABLE PYE}) missing from font(s) Arial.\n",
      "  fig.canvas.print_figure(bytes_io, **kw)\n",
      "c:\\Users\\m\\anaconda3\\Lib\\site-packages\\IPython\\core\\pylabtools.py:170: UserWarning: Glyph 50629 (\\N{HANGUL SYLLABLE EOB}) missing from font(s) Arial.\n",
      "  fig.canvas.print_figure(bytes_io, **kw)\n",
      "c:\\Users\\m\\anaconda3\\Lib\\site-packages\\IPython\\core\\pylabtools.py:170: UserWarning: Glyph 47456 (\\N{HANGUL SYLLABLE RYUL}) missing from font(s) Arial.\n",
      "  fig.canvas.print_figure(bytes_io, **kw)\n",
      "c:\\Users\\m\\anaconda3\\Lib\\site-packages\\IPython\\core\\pylabtools.py:170: UserWarning: Glyph 48712 (\\N{HANGUL SYLLABLE BIN}) missing from font(s) Arial.\n",
      "  fig.canvas.print_figure(bytes_io, **kw)\n",
      "c:\\Users\\m\\anaconda3\\Lib\\site-packages\\IPython\\core\\pylabtools.py:170: UserWarning: Glyph 46020 (\\N{HANGUL SYLLABLE DO}) missing from font(s) Arial.\n",
      "  fig.canvas.print_figure(bytes_io, **kw)\n",
      "c:\\Users\\m\\anaconda3\\Lib\\site-packages\\IPython\\core\\pylabtools.py:170: UserWarning: Glyph 49688 (\\N{HANGUL SYLLABLE SU}) missing from font(s) Arial.\n",
      "  fig.canvas.print_figure(bytes_io, **kw)\n",
      "c:\\Users\\m\\anaconda3\\Lib\\site-packages\\IPython\\core\\pylabtools.py:170: UserWarning: Glyph 51068 (\\N{HANGUL SYLLABLE IL}) missing from font(s) Arial.\n",
      "  fig.canvas.print_figure(bytes_io, **kw)\n",
      "c:\\Users\\m\\anaconda3\\Lib\\site-packages\\IPython\\core\\pylabtools.py:170: UserWarning: Glyph 48152 (\\N{HANGUL SYLLABLE BAN}) missing from font(s) Arial.\n",
      "  fig.canvas.print_figure(bytes_io, **kw)\n",
      "c:\\Users\\m\\anaconda3\\Lib\\site-packages\\IPython\\core\\pylabtools.py:170: UserWarning: Glyph 48320 (\\N{HANGUL SYLLABLE BYEON}) missing from font(s) Arial.\n",
      "  fig.canvas.print_figure(bytes_io, **kw)\n",
      "c:\\Users\\m\\anaconda3\\Lib\\site-packages\\IPython\\core\\pylabtools.py:170: UserWarning: Glyph 54028 (\\N{HANGUL SYLLABLE PA}) missing from font(s) Arial.\n",
      "  fig.canvas.print_figure(bytes_io, **kw)\n",
      "c:\\Users\\m\\anaconda3\\Lib\\site-packages\\IPython\\core\\pylabtools.py:170: UserWarning: Glyph 48516 (\\N{HANGUL SYLLABLE BUN}) missing from font(s) Arial.\n",
      "  fig.canvas.print_figure(bytes_io, **kw)\n",
      "c:\\Users\\m\\anaconda3\\Lib\\site-packages\\IPython\\core\\pylabtools.py:170: UserWarning: Glyph 54252 (\\N{HANGUL SYLLABLE PO}) missing from font(s) Arial.\n",
      "  fig.canvas.print_figure(bytes_io, **kw)\n"
     ]
    },
    {
     "data": {
      "image/png": "[encoded data removed]",
      "text/plain": [
       "<Figure size 800x500 with 1 Axes>"
      ]
     },
     "metadata": {},
     "output_type": "display_data"
    }
   ],
   "source": [
    "import pandas as pd\n",
    "import numpy as np\n",
    "import matplotlib.pyplot as plt\n",
    "import seaborn as sns\n",
    "\n",
    "# 한글 폰트 설정 (그래프 깨짐 방지)\n",
    "plt.rc(\"font\", family=\"Malgun Gothic\")\n",
    "\n",
    "# 파일 경로 설정\n",
    "file_paths = {\n",
    "    \"매출 변수 파일\": r\"C:\\Users\\m\\Desktop\\변수 생성용 데이터\\서울시_상권분석_서비스_매출변수.csv\",\n",
    "    \"일반 변수 파일\": r\"C:\\Users\\m\\Desktop\\변수 생성용 데이터\\서울시_상권분석_서비스_일반변수.csv\"\n",
    "}\n",
    "\n",
    "# 그래프 스타일 설정\n",
    "sns.set_style(\"whitegrid\")\n",
    "\n",
    "# 폐업률 분포 확인\n",
    "for file_name, path in file_paths.items():\n",
    "    # 파일 불러오기\n",
    "    df = pd.read_csv(path)\n",
    "\n",
    "    # 폐업률 컬럼 확인\n",
    "    if \"폐업률\" not in df.columns:\n",
    "        print(f\"⚠ {file_name}에 '폐업률' 컬럼이 없음.\")\n",
    "        continue\n",
    "\n",
    "    # 폐업률 데이터 필터링 (inf, -inf, NaN 제거)\n",
    "    df_filtered = df[\"폐업률\"].replace([np.inf, -np.inf], np.nan).dropna()\n",
    "\n",
    "    # 기초 통계값 계산\n",
    "    min_value = df_filtered.min()\n",
    "    max_value = df_filtered.max()\n",
    "    mean_value = df_filtered.mean()\n",
    "    median_value = df_filtered.median()\n",
    "\n",
    "    # 최빈값 계산 (오류 방지)\n",
    "    mode_values = df_filtered.mode()\n",
    "    mode_value = mode_values.iloc[0] if not mode_values.empty else None\n",
    "\n",
    "    # 결과 출력\n",
    "    print(f\"\\n✅ {file_name} 폐업률 통계값\")\n",
    "    print(f\"- 최솟값: {min_value}\")\n",
    "    print(f\"- 최댓값: {max_value}\")\n",
    "    print(f\"- 평균값: {mean_value}\")\n",
    "    print(f\"- 중앙값: {median_value}\")\n",
    "    print(f\"- 최빈값: {mode_value}\")\n",
    "\n",
    "    # 히스토그램 시각화\n",
    "    plt.figure(figsize=(8, 5))\n",
    "    sns.histplot(df_filtered, bins=50, kde=True, color=\"skyblue\")\n",
    "    plt.title(f\"{file_name} 폐업률 분포\", fontsize=14)\n",
    "    plt.xlabel(\"폐업률\")\n",
    "    plt.ylabel(\"빈도수\")\n",
    "    plt.show()"
   ]
  },
  {
   "cell_type": "markdown",
   "metadata": {},
   "source": [
    "폐업률 기준으로 안정성 컬럼 생성"
   ]
  },
  {
   "cell_type": "code",
   "execution_count": 45,
   "metadata": {},
   "outputs": [
    {
     "name": "stdout",
     "output_type": "stream",
     "text": [
      "✅ 매출 변수 파일 안정성 컬럼 추가 완료! 저장됨 → C:\\Users\\m\\Desktop\\변수 생성용 데이터\\서울시_상권분석_서비스_매출변수_안정성추가.csv\n",
      "✅ 일반 변수 파일 안정성 컬럼 추가 완료! 저장됨 → C:\\Users\\m\\Desktop\\변수 생성용 데이터\\서울시_상권분석_서비스_일반변수_안정성추가.csv\n"
     ]
    }
   ],
   "source": [
    "# 파일 경로 설정\n",
    "file_paths = {\n",
    "    \"매출 변수 파일\": r\"C:\\Users\\m\\Desktop\\변수 생성용 데이터\\서울시_상권분석_서비스_매출변수.csv\",\n",
    "    \"일반 변수 파일\": r\"C:\\Users\\m\\Desktop\\변수 생성용 데이터\\서울시_상권분석_서비스_일반변수.csv\"\n",
    "}\n",
    "\n",
    "# 저장 경로 (새 파일로 저장)\n",
    "output_paths = {\n",
    "    \"매출 변수 파일\": r\"C:\\Users\\m\\Desktop\\변수 생성용 데이터\\서울시_상권분석_서비스_매출변수_안정성추가.csv\",\n",
    "    \"일반 변수 파일\": r\"C:\\Users\\m\\Desktop\\변수 생성용 데이터\\서울시_상권분석_서비스_일반변수_안정성추가.csv\"\n",
    "}\n",
    "\n",
    "# 폐업률 기준\n",
    "threshold = 2.305900340329155\n",
    "\n",
    "for file_name, path in file_paths.items():\n",
    "    # 파일 불러오기\n",
    "    df = pd.read_csv(path)\n",
    "\n",
    "    # 폐업률 컬럼 확인\n",
    "    if \"폐업률\" not in df.columns:\n",
    "        print(f\"⚠ {file_name}에 '폐업률' 컬럼이 없음.\")\n",
    "        continue\n",
    "\n",
    "    # 안정성 컬럼 생성\n",
    "    df[\"안정성\"] = np.where(df[\"폐업률\"] > threshold, \"불안정\", \"안정\")\n",
    "    \n",
    "    # 결측치 처리 (inf, -inf, NaN → NULL)\n",
    "    df.loc[df[\"폐업률\"].replace([np.inf, -np.inf], np.nan).isna(), \"안정성\"] = \"NULL\"\n",
    "\n",
    "    # 파일 저장\n",
    "    df.to_csv(output_paths[file_name], index=False, encoding=\"utf-8-sig\")\n",
    "\n",
    "    print(f\"✅ {file_name} 안정성 컬럼 추가 완료! 저장됨 → {output_paths[file_name]}\")"
   ]
  },
  {
   "cell_type": "code",
   "execution_count": 46,
   "metadata": {},
   "outputs": [
    {
     "name": "stdout",
     "output_type": "stream",
     "text": [
      "\n",
      "✅ 매출 변수 파일 안정성 비율:\n",
      "안정성\n",
      "안정     79.0%\n",
      "불안정    21.0%\n",
      "Name: proportion, dtype: object\n",
      "\n",
      "✅ 일반 변수 파일 안정성 비율:\n",
      "안정성\n",
      "안정     90.9%\n",
      "불안정     9.1%\n",
      "Name: proportion, dtype: object\n"
     ]
    }
   ],
   "source": [
    "# 파일 경로 설정\n",
    "file_paths = {\n",
    "    \"매출 변수 파일\": r\"C:\\Users\\m\\Desktop\\변수 생성용 데이터\\서울시_상권분석_서비스_매출변수_안정성추가.csv\",\n",
    "    \"일반 변수 파일\": r\"C:\\Users\\m\\Desktop\\변수 생성용 데이터\\서울시_상권분석_서비스_일반변수_안정성추가.csv\"\n",
    "}\n",
    "\n",
    "# 각 파일에서 안정성 컬럼 비율 계산\n",
    "for file_name, path in file_paths.items():\n",
    "    # 파일 불러오기\n",
    "    df = pd.read_csv(path)\n",
    "\n",
    "    # 안정성 컬럼의 비율 계산\n",
    "    stability_ratio = df[\"안정성\"].value_counts(normalize=True) * 100  # 백분율 변환\n",
    "\n",
    "    # 출력\n",
    "    print(f\"\\n✅ {file_name} 안정성 비율:\")\n",
    "    print(stability_ratio.round(1).astype(str) + \"%\")  # 소수점 1자리까지 표시"
   ]
  },
  {
   "cell_type": "code",
   "execution_count": 47,
   "metadata": {},
   "outputs": [
    {
     "name": "stdout",
     "output_type": "stream",
     "text": [
      "✅ 폐업률 상위 25% 기준값: 0.0\n"
     ]
    }
   ],
   "source": [
    "import pandas as pd\n",
    "\n",
    "# 파일 로드\n",
    "file_path = r\"C:\\Users\\m\\Desktop\\변수 생성용 데이터\\서울시_상권분석_서비스_일반변수.csv\"\n",
    "df = pd.read_csv(file_path)\n",
    "\n",
    "# 결측치 및 비정상값 제거\n",
    "df_filtered = df[\"폐업률\"].replace([float(\"inf\"), float(\"-inf\")], pd.NA).dropna()\n",
    "\n",
    "# 75번째 백분위수 값 계산 (상위 25% 기준)\n",
    "threshold_75 = df_filtered.quantile(0.75)\n",
    "\n",
    "print(f\"✅ 폐업률 상위 25% 기준값: {threshold_75}\")"
   ]
  },
  {
   "cell_type": "markdown",
   "metadata": {},
   "source": [
    "폐업-개업 비율 컬럼 생성"
   ]
  },
  {
   "cell_type": "code",
   "execution_count": 48,
   "metadata": {},
   "outputs": [
    {
     "name": "stdout",
     "output_type": "stream",
     "text": [
      "✅ 새로운 비율 컬럼 추가 완료! 파일 저장: C:\\Users\\m\\Desktop\\변수 생성용 데이터\\서울시_상권분석_서비스_매출변수_비율추가.csv\n",
      "✅ 새로운 비율 컬럼 추가 완료! 파일 저장: C:\\Users\\m\\Desktop\\변수 생성용 데이터\\서울시_상권분석_서비스_일반변수_비율추가.csv\n"
     ]
    }
   ],
   "source": [
    "import pandas as pd\n",
    "\n",
    "def add_closure_opening_ratio(file_path, save_path):\n",
    "    # 파일 불러오기\n",
    "    df = pd.read_csv(file_path)\n",
    "\n",
    "    # 결측치 및 무한대 값 처리\n",
    "    df.replace([float(\"inf\"), float(\"-inf\")], pd.NA, inplace=True)\n",
    "\n",
    "    # 개업 점포 수와 폐업 점포 수 컬럼 확인 후 존재하면 계산\n",
    "    if \"개업_점포_수\" in df.columns and \"폐업_점포_수\" in df.columns:\n",
    "        df[\"폐업-개업 비율\"] = df[\"폐업_점포_수\"] / (df[\"개업_점포_수\"] + 1)  # 개업 점포가 0이면 +1로 방지\n",
    "    else:\n",
    "        print(\"❌ 개업_점포_수 또는 폐업_점포_수 컬럼이 없습니다.\")\n",
    "        return\n",
    "\n",
    "    # 새로운 컬럼 추가된 데이터 저장\n",
    "    df.to_csv(save_path, index=False)\n",
    "    print(f\"✅ 새로운 비율 컬럼 추가 완료! 파일 저장: {save_path}\")\n",
    "\n",
    "# 📂 적용할 파일 경로\n",
    "file_paths = {\n",
    "    \"매출 변수 파일\": r\"C:\\Users\\m\\Desktop\\변수 생성용 데이터\\서울시_상권분석_서비스_매출변수.csv\",\n",
    "    \"일반 변수 파일\": r\"C:\\Users\\m\\Desktop\\변수 생성용 데이터\\서울시_상권분석_서비스_일반변수.csv\"\n",
    "}\n",
    "\n",
    "# 📂 저장할 파일 경로\n",
    "save_paths = {\n",
    "    \"매출 변수 파일\": r\"C:\\Users\\m\\Desktop\\변수 생성용 데이터\\서울시_상권분석_서비스_매출변수_비율추가.csv\",\n",
    "    \"일반 변수 파일\": r\"C:\\Users\\m\\Desktop\\변수 생성용 데이터\\서울시_상권분석_서비스_일반변수_비율추가.csv\"\n",
    "}\n",
    "\n",
    "# 두 파일 모두 적용\n",
    "for key in file_paths:\n",
    "    add_closure_opening_ratio(file_paths[key], save_paths[key])"
   ]
  },
  {
   "cell_type": "code",
   "execution_count": 49,
   "metadata": {},
   "outputs": [
    {
     "name": "stdout",
     "output_type": "stream",
     "text": [
      "\n",
      "✅ 매출 변수 파일 폐업-개업 비율 통계값\n",
      "count    445582.000000\n",
      "mean          0.226238\n",
      "std           0.605432\n",
      "min           0.000000\n",
      "25%           0.000000\n",
      "50%           0.000000\n",
      "75%           0.000000\n",
      "max          71.000000\n",
      "Name: 폐업-개업 비율, dtype: float64\n"
     ]
    },
    {
     "name": "stderr",
     "output_type": "stream",
     "text": [
      "c:\\Users\\m\\anaconda3\\Lib\\site-packages\\IPython\\core\\pylabtools.py:170: UserWarning: Glyph 54224 (\\N{HANGUL SYLLABLE PYE}) missing from font(s) Arial.\n",
      "  fig.canvas.print_figure(bytes_io, **kw)\n",
      "c:\\Users\\m\\anaconda3\\Lib\\site-packages\\IPython\\core\\pylabtools.py:170: UserWarning: Glyph 50629 (\\N{HANGUL SYLLABLE EOB}) missing from font(s) Arial.\n",
      "  fig.canvas.print_figure(bytes_io, **kw)\n",
      "c:\\Users\\m\\anaconda3\\Lib\\site-packages\\IPython\\core\\pylabtools.py:170: UserWarning: Glyph 44060 (\\N{HANGUL SYLLABLE GAE}) missing from font(s) Arial.\n",
      "  fig.canvas.print_figure(bytes_io, **kw)\n",
      "c:\\Users\\m\\anaconda3\\Lib\\site-packages\\IPython\\core\\pylabtools.py:170: UserWarning: Glyph 48708 (\\N{HANGUL SYLLABLE BI}) missing from font(s) Arial.\n",
      "  fig.canvas.print_figure(bytes_io, **kw)\n",
      "c:\\Users\\m\\anaconda3\\Lib\\site-packages\\IPython\\core\\pylabtools.py:170: UserWarning: Glyph 50984 (\\N{HANGUL SYLLABLE YUL}) missing from font(s) Arial.\n",
      "  fig.canvas.print_figure(bytes_io, **kw)\n",
      "c:\\Users\\m\\anaconda3\\Lib\\site-packages\\IPython\\core\\pylabtools.py:170: UserWarning: Glyph 48712 (\\N{HANGUL SYLLABLE BIN}) missing from font(s) Arial.\n",
      "  fig.canvas.print_figure(bytes_io, **kw)\n",
      "c:\\Users\\m\\anaconda3\\Lib\\site-packages\\IPython\\core\\pylabtools.py:170: UserWarning: Glyph 46020 (\\N{HANGUL SYLLABLE DO}) missing from font(s) Arial.\n",
      "  fig.canvas.print_figure(bytes_io, **kw)\n",
      "c:\\Users\\m\\anaconda3\\Lib\\site-packages\\IPython\\core\\pylabtools.py:170: UserWarning: Glyph 49688 (\\N{HANGUL SYLLABLE SU}) missing from font(s) Arial.\n",
      "  fig.canvas.print_figure(bytes_io, **kw)\n",
      "c:\\Users\\m\\anaconda3\\Lib\\site-packages\\IPython\\core\\pylabtools.py:170: UserWarning: Glyph 47588 (\\N{HANGUL SYLLABLE MAE}) missing from font(s) Arial.\n",
      "  fig.canvas.print_figure(bytes_io, **kw)\n",
      "c:\\Users\\m\\anaconda3\\Lib\\site-packages\\IPython\\core\\pylabtools.py:170: UserWarning: Glyph 52636 (\\N{HANGUL SYLLABLE CUL}) missing from font(s) Arial.\n",
      "  fig.canvas.print_figure(bytes_io, **kw)\n",
      "c:\\Users\\m\\anaconda3\\Lib\\site-packages\\IPython\\core\\pylabtools.py:170: UserWarning: Glyph 48320 (\\N{HANGUL SYLLABLE BYEON}) missing from font(s) Arial.\n",
      "  fig.canvas.print_figure(bytes_io, **kw)\n",
      "c:\\Users\\m\\anaconda3\\Lib\\site-packages\\IPython\\core\\pylabtools.py:170: UserWarning: Glyph 54028 (\\N{HANGUL SYLLABLE PA}) missing from font(s) Arial.\n",
      "  fig.canvas.print_figure(bytes_io, **kw)\n",
      "c:\\Users\\m\\anaconda3\\Lib\\site-packages\\IPython\\core\\pylabtools.py:170: UserWarning: Glyph 51068 (\\N{HANGUL SYLLABLE IL}) missing from font(s) Arial.\n",
      "  fig.canvas.print_figure(bytes_io, **kw)\n",
      "c:\\Users\\m\\anaconda3\\Lib\\site-packages\\IPython\\core\\pylabtools.py:170: UserWarning: Glyph 48516 (\\N{HANGUL SYLLABLE BUN}) missing from font(s) Arial.\n",
      "  fig.canvas.print_figure(bytes_io, **kw)\n",
      "c:\\Users\\m\\anaconda3\\Lib\\site-packages\\IPython\\core\\pylabtools.py:170: UserWarning: Glyph 54252 (\\N{HANGUL SYLLABLE PO}) missing from font(s) Arial.\n",
      "  fig.canvas.print_figure(bytes_io, **kw)\n"
     ]
    },
    {
     "data": {
      "image/png": "[encoded data removed]",
      "text/plain": [
       "<Figure size 1000x600 with 1 Axes>"
      ]
     },
     "metadata": {},
     "output_type": "display_data"
    },
    {
     "name": "stdout",
     "output_type": "stream",
     "text": [
      "\n",
      "✅ 일반 변수 파일 폐업-개업 비율 통계값\n",
      "count    1.664565e+06\n",
      "mean     1.045104e-01\n",
      "std      4.054909e-01\n",
      "min      0.000000e+00\n",
      "25%      0.000000e+00\n",
      "50%      0.000000e+00\n",
      "75%      0.000000e+00\n",
      "max      7.100000e+01\n",
      "Name: 폐업-개업 비율, dtype: float64\n"
     ]
    },
    {
     "name": "stderr",
     "output_type": "stream",
     "text": [
      "c:\\Users\\m\\anaconda3\\Lib\\site-packages\\IPython\\core\\pylabtools.py:170: UserWarning: Glyph 54224 (\\N{HANGUL SYLLABLE PYE}) missing from font(s) Arial.\n",
      "  fig.canvas.print_figure(bytes_io, **kw)\n",
      "c:\\Users\\m\\anaconda3\\Lib\\site-packages\\IPython\\core\\pylabtools.py:170: UserWarning: Glyph 50629 (\\N{HANGUL SYLLABLE EOB}) missing from font(s) Arial.\n",
      "  fig.canvas.print_figure(bytes_io, **kw)\n",
      "c:\\Users\\m\\anaconda3\\Lib\\site-packages\\IPython\\core\\pylabtools.py:170: UserWarning: Glyph 44060 (\\N{HANGUL SYLLABLE GAE}) missing from font(s) Arial.\n",
      "  fig.canvas.print_figure(bytes_io, **kw)\n",
      "c:\\Users\\m\\anaconda3\\Lib\\site-packages\\IPython\\core\\pylabtools.py:170: UserWarning: Glyph 48708 (\\N{HANGUL SYLLABLE BI}) missing from font(s) Arial.\n",
      "  fig.canvas.print_figure(bytes_io, **kw)\n",
      "c:\\Users\\m\\anaconda3\\Lib\\site-packages\\IPython\\core\\pylabtools.py:170: UserWarning: Glyph 50984 (\\N{HANGUL SYLLABLE YUL}) missing from font(s) Arial.\n",
      "  fig.canvas.print_figure(bytes_io, **kw)\n",
      "c:\\Users\\m\\anaconda3\\Lib\\site-packages\\IPython\\core\\pylabtools.py:170: UserWarning: Glyph 48712 (\\N{HANGUL SYLLABLE BIN}) missing from font(s) Arial.\n",
      "  fig.canvas.print_figure(bytes_io, **kw)\n",
      "c:\\Users\\m\\anaconda3\\Lib\\site-packages\\IPython\\core\\pylabtools.py:170: UserWarning: Glyph 46020 (\\N{HANGUL SYLLABLE DO}) missing from font(s) Arial.\n",
      "  fig.canvas.print_figure(bytes_io, **kw)\n",
      "c:\\Users\\m\\anaconda3\\Lib\\site-packages\\IPython\\core\\pylabtools.py:170: UserWarning: Glyph 49688 (\\N{HANGUL SYLLABLE SU}) missing from font(s) Arial.\n",
      "  fig.canvas.print_figure(bytes_io, **kw)\n",
      "c:\\Users\\m\\anaconda3\\Lib\\site-packages\\IPython\\core\\pylabtools.py:170: UserWarning: Glyph 51068 (\\N{HANGUL SYLLABLE IL}) missing from font(s) Arial.\n",
      "  fig.canvas.print_figure(bytes_io, **kw)\n",
      "c:\\Users\\m\\anaconda3\\Lib\\site-packages\\IPython\\core\\pylabtools.py:170: UserWarning: Glyph 48152 (\\N{HANGUL SYLLABLE BAN}) missing from font(s) Arial.\n",
      "  fig.canvas.print_figure(bytes_io, **kw)\n",
      "c:\\Users\\m\\anaconda3\\Lib\\site-packages\\IPython\\core\\pylabtools.py:170: UserWarning: Glyph 48320 (\\N{HANGUL SYLLABLE BYEON}) missing from font(s) Arial.\n",
      "  fig.canvas.print_figure(bytes_io, **kw)\n",
      "c:\\Users\\m\\anaconda3\\Lib\\site-packages\\IPython\\core\\pylabtools.py:170: UserWarning: Glyph 54028 (\\N{HANGUL SYLLABLE PA}) missing from font(s) Arial.\n",
      "  fig.canvas.print_figure(bytes_io, **kw)\n",
      "c:\\Users\\m\\anaconda3\\Lib\\site-packages\\IPython\\core\\pylabtools.py:170: UserWarning: Glyph 48516 (\\N{HANGUL SYLLABLE BUN}) missing from font(s) Arial.\n",
      "  fig.canvas.print_figure(bytes_io, **kw)\n",
      "c:\\Users\\m\\anaconda3\\Lib\\site-packages\\IPython\\core\\pylabtools.py:170: UserWarning: Glyph 54252 (\\N{HANGUL SYLLABLE PO}) missing from font(s) Arial.\n",
      "  fig.canvas.print_figure(bytes_io, **kw)\n"
     ]
    },
    {
     "data": {
      "image/png": "[encoded data removed]",
      "text/plain": [
       "<Figure size 1000x600 with 1 Axes>"
      ]
     },
     "metadata": {},
     "output_type": "display_data"
    }
   ],
   "source": [
    "import pandas as pd\n",
    "import matplotlib.pyplot as plt\n",
    "import seaborn as sns\n",
    "\n",
    "def plot_closure_opening_ratio(file_path, file_name):\n",
    "    # 파일 불러오기\n",
    "    df = pd.read_csv(file_path)\n",
    "\n",
    "    # \"폐업-개업 비율\" 컬럼 확인\n",
    "    if \"폐업-개업 비율\" not in df.columns:\n",
    "        print(f\"❌ {file_name} 파일에 '폐업-개업 비율' 컬럼이 없습니다.\")\n",
    "        return\n",
    "\n",
    "    # 결측치 및 이상치 제거\n",
    "    df_filtered = df[\"폐업-개업 비율\"].dropna()\n",
    "    df_filtered = df_filtered[df_filtered != float(\"inf\")]  # 무한대 값 제거\n",
    "\n",
    "    if df_filtered.empty:\n",
    "        print(f\"⚠️ {file_name} 파일에 유효한 데이터가 없습니다.\")\n",
    "        return\n",
    "\n",
    "    # 📊 통계값 출력\n",
    "    desc = df_filtered.describe(percentiles=[0.25, 0.5, 0.75])\n",
    "    print(f\"\\n✅ {file_name} 폐업-개업 비율 통계값\")\n",
    "    print(desc)\n",
    "\n",
    "    # 📈 히스토그램 플롯\n",
    "    plt.figure(figsize=(10, 6))\n",
    "    sns.histplot(df_filtered, bins=50, kde=True, color=\"skyblue\")\n",
    "    plt.xlabel(\"폐업-개업 비율\")\n",
    "    plt.ylabel(\"빈도수\")\n",
    "    plt.title(f\"{file_name} 폐업-개업 비율 분포\")\n",
    "    plt.grid()\n",
    "    plt.show()\n",
    "\n",
    "# 📂 파일 경로\n",
    "file_paths = {\n",
    "    \"매출 변수 파일\": r\"C:\\Users\\m\\Desktop\\변수 생성용 데이터\\서울시_상권분석_서비스_매출변수_비율추가.csv\",\n",
    "    \"일반 변수 파일\": r\"C:\\Users\\m\\Desktop\\변수 생성용 데이터\\서울시_상권분석_서비스_일반변수_비율추가.csv\"\n",
    "}\n",
    "\n",
    "# 두 파일에 대해 실행\n",
    "for file_name, path in file_paths.items():\n",
    "    plot_closure_opening_ratio(path, file_name)"
   ]
  },
  {
   "cell_type": "code",
   "execution_count": 56,
   "metadata": {},
   "outputs": [
    {
     "name": "stdout",
     "output_type": "stream",
     "text": [
      "✅ 매출 변수 파일 폐업-개업 비율\n",
      "   📌 상위 10% 기준: 1.0\n",
      "   📌 상위 20% 기준: 0.5\n",
      "\n",
      "✅ 일반 변수 파일 폐업-개업 비율\n",
      "   📌 상위 10% 기준: 0.3333333333333333\n",
      "   📌 상위 20% 기준: 0.0\n"
     ]
    }
   ],
   "source": [
    "import pandas as pd\n",
    "\n",
    "# 파일 불러오기\n",
    "매출_파일 = r\"C:\\Users\\m\\Desktop\\변수 생성용 데이터\\서울시_상권분석_서비스_매출변수_비율추가.csv\"  # 실제 파일 경로로 변경\n",
    "일반_파일 = r\"C:\\Users\\m\\Desktop\\변수 생성용 데이터\\서울시_상권분석_서비스_일반변수_비율추가.csv\"  # 실제 파일 경로로 변경\n",
    "\n",
    "# 데이터 불러오기\n",
    "df_매출 = pd.read_csv(매출_파일)\n",
    "df_일반 = pd.read_csv(일반_파일)\n",
    "\n",
    "# 폐업-개업 비율이 있는 행만 필터링 (NaN 값 제거)\n",
    "df_매출_filtered = df_매출[\"폐업-개업 비율\"].dropna()\n",
    "df_일반_filtered = df_일반[\"폐업-개업 비율\"].dropna()\n",
    "\n",
    "# 상위 10% 및 20% 기준값 계산\n",
    "q90_매출 = df_매출_filtered.quantile(0.90)  # 매출 변수 파일 기준 상위 10% 값\n",
    "q80_매출 = df_매출_filtered.quantile(0.80)  # 매출 변수 파일 기준 상위 20% 값\n",
    "\n",
    "q90_일반 = df_일반_filtered.quantile(0.90)  # 일반 변수 파일 기준 상위 10% 값\n",
    "q80_일반 = df_일반_filtered.quantile(0.80)  # 일반 변수 파일 기준 상위 20% 값\n",
    "\n",
    "# 결과 출력\n",
    "print(f\"✅ 매출 변수 파일 폐업-개업 비율\")\n",
    "print(f\"   📌 상위 10% 기준: {q90_매출}\")\n",
    "print(f\"   📌 상위 20% 기준: {q80_매출}\\n\")\n",
    "\n",
    "print(f\"✅ 일반 변수 파일 폐업-개업 비율\")\n",
    "print(f\"   📌 상위 10% 기준: {q90_일반}\")\n",
    "print(f\"   📌 상위 20% 기준: {q80_일반}\")"
   ]
  },
  {
   "cell_type": "code",
   "execution_count": 62,
   "metadata": {},
   "outputs": [
    {
     "name": "stdout",
     "output_type": "stream",
     "text": [
      "✅ 일반 변수 파일 저장 완료: C:\\Users\\m\\Desktop\\변수 생성용 데이터\\서울시_상권분석_서비스_일반변수_비율추가_안정성추가.csv\n",
      "✅ 매출 변수 파일 저장 완료: C:\\Users\\m\\Desktop\\변수 생성용 데이터\\서울시_상권분석_서비스_매출변수_비율추가_안정성추가.csv\n"
     ]
    }
   ],
   "source": [
    "import pandas as pd\n",
    "import os\n",
    "\n",
    "# 기존 파일 경로\n",
    "일반_파일 = r\"C:\\Users\\m\\Desktop\\변수 생성용 데이터\\서울시_상권분석_서비스_일반변수_비율추가.csv\"\n",
    "매출_파일 = r\"C:\\Users\\m\\Desktop\\변수 생성용 데이터\\서울시_상권분석_서비스_매출변수_비율추가.csv\"\n",
    "\n",
    "# 새로운 파일 경로 설정\n",
    "일반_새파일 = os.path.splitext(일반_파일)[0] + \"_안정성추가.csv\"\n",
    "매출_새파일 = os.path.splitext(매출_파일)[0] + \"_안정성추가.csv\"\n",
    "\n",
    "# 데이터 불러오기\n",
    "df_일반 = pd.read_csv(일반_파일)\n",
    "df_매출 = pd.read_csv(매출_파일)\n",
    "\n",
    "# 기준값 설정\n",
    "기준값 = 0\n",
    "\n",
    "# 안정성 컬럼 추가 함수\n",
    "def 안정성_분류(비율):\n",
    "    if pd.isna(비율):  # 결측치 처리\n",
    "        return \"NULL\"\n",
    "    return \"불안정\" if 비율 > 기준값 else \"안정\"\n",
    "\n",
    "# \"폐업-개업 비율\" 기준으로 안정성 컬럼 추가\n",
    "df_일반[\"안정성\"] = df_일반[\"폐업-개업 비율\"].apply(안정성_분류)\n",
    "df_매출[\"안정성\"] = df_매출[\"폐업-개업 비율\"].apply(안정성_분류)\n",
    "\n",
    "# 새로운 파일로 저장\n",
    "df_일반.to_csv(일반_새파일, index=False, encoding=\"utf-8-sig\")\n",
    "df_매출.to_csv(매출_새파일, index=False, encoding=\"utf-8-sig\")\n",
    "\n",
    "print(f\"✅ 일반 변수 파일 저장 완료: {일반_새파일}\")\n",
    "print(f\"✅ 매출 변수 파일 저장 완료: {매출_새파일}\")"
   ]
  },
  {
   "cell_type": "code",
   "execution_count": 63,
   "metadata": {},
   "outputs": [
    {
     "name": "stdout",
     "output_type": "stream",
     "text": [
      "\n",
      "✅ 매출 변수 파일 안정성 비율:\n",
      "안정성\n",
      "안정     77.0%\n",
      "불안정    23.0%\n",
      "Name: proportion, dtype: object\n",
      "\n",
      "✅ 일반 변수 파일 안정성 비율:\n",
      "안정성\n",
      "안정     89.5%\n",
      "불안정    10.5%\n",
      "Name: proportion, dtype: object\n"
     ]
    }
   ],
   "source": [
    "# 파일 경로 설정\n",
    "file_paths = {\n",
    "    \"매출 변수 파일\": r\"C:\\Users\\m\\Desktop\\변수 생성용 데이터\\서울시_상권분석_서비스_매출변수_비율추가_안정성추가.csv\",\n",
    "    \"일반 변수 파일\": r\"C:\\Users\\m\\Desktop\\변수 생성용 데이터\\서울시_상권분석_서비스_일반변수_비율추가_안정성추가.csv\"\n",
    "}\n",
    "\n",
    "# 각 파일에서 안정성 컬럼 비율 계산\n",
    "for file_name, path in file_paths.items():\n",
    "    # 파일 불러오기\n",
    "    df = pd.read_csv(path)\n",
    "\n",
    "    # 안정성 컬럼의 비율 계산\n",
    "    stability_ratio = df[\"안정성\"].value_counts(normalize=True) * 100  # 백분율 변환\n",
    "\n",
    "    # 출력\n",
    "    print(f\"\\n✅ {file_name} 안정성 비율:\")\n",
    "    print(stability_ratio.round(1).astype(str) + \"%\")  # 소수점 1자리까지 표시"
   ]
  },
  {
   "cell_type": "code",
   "execution_count": null,
   "metadata": {},
   "outputs": [],
   "source": []
  }
 ],
 "metadata": {
  "kernelspec": {
   "display_name": "base",
   "language": "python",
   "name": "python3"
  },
  "language_info": {
   "codemirror_mode": {
    "name": "ipython",
    "version": 3
   },
   "file_extension": ".py",
   "mimetype": "text/x-python",
   "name": "python",
   "nbconvert_exporter": "python",
   "pygments_lexer": "ipython3",
   "version": "3.12.7"
  }
 },
 "nbformat": 4,
 "nbformat_minor": 2
}
